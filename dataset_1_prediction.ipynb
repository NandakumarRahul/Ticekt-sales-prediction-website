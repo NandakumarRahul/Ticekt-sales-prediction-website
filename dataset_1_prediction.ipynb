{
  "nbformat": 4,
  "nbformat_minor": 0,
  "metadata": {
    "colab": {
      "provenance": []
    },
    "kernelspec": {
      "name": "python3",
      "display_name": "Python 3"
    },
    "language_info": {
      "name": "python"
    },
    "gpuClass": "standard"
  },
  "cells": [
    {
      "cell_type": "code",
      "execution_count": null,
      "metadata": {
        "id": "teP0HZrw9cGk"
      },
      "outputs": [],
      "source": [
        "#importing necessary libraries\n",
        "import seaborn as sns\n",
        "import pandas as pd\n",
        "import numpy as np\n",
        "import matplotlib.pyplot as plt"
      ]
    },
    {
      "cell_type": "code",
      "source": [
        "df = pd.read_csv('/content/drive/MyDrive/Colab Notebooks/CSC40038 Data/Python/ORG01-01082021-31072022.csv') #reading the csv file"
      ],
      "metadata": {
        "id": "AvYAhNit93EO"
      },
      "execution_count": null,
      "outputs": []
    },
    {
      "cell_type": "code",
      "source": [
        "df.duplicated().sum()"
      ],
      "metadata": {
        "colab": {
          "base_uri": "https://localhost:8080/"
        },
        "id": "CtG1vPKd-Cus",
        "outputId": "f6f0c71c-0d74-417b-dfb4-dcd0755f872a"
      },
      "execution_count": null,
      "outputs": [
        {
          "output_type": "execute_result",
          "data": {
            "text/plain": [
              "1"
            ]
          },
          "metadata": {},
          "execution_count": 3
        }
      ]
    },
    {
      "cell_type": "code",
      "source": [
        "df.duplicated().sum()"
      ],
      "metadata": {
        "colab": {
          "base_uri": "https://localhost:8080/"
        },
        "id": "k-YTf2NY-J-Z",
        "outputId": "7f71a41b-10a1-4240-a244-37ce96565348"
      },
      "execution_count": null,
      "outputs": [
        {
          "output_type": "execute_result",
          "data": {
            "text/plain": [
              "1"
            ]
          },
          "metadata": {},
          "execution_count": 4
        }
      ]
    },
    {
      "cell_type": "code",
      "source": [
        "df2 = df.copy()"
      ],
      "metadata": {
        "id": "Gh04XI6Q-syi"
      },
      "execution_count": null,
      "outputs": []
    },
    {
      "cell_type": "code",
      "source": [
        "unique_cols= ['BookingStatus','IsLeadAttendee','EventType','Season' ]"
      ],
      "metadata": {
        "id": "QIk7Pyps-kzr"
      },
      "execution_count": null,
      "outputs": []
    },
    {
      "cell_type": "code",
      "source": [],
      "metadata": {
        "id": "Xskfi-Kd-QkC"
      },
      "execution_count": null,
      "outputs": []
    },
    {
      "cell_type": "code",
      "source": [
        "import datetime as dt\n",
        "# df2.set_index('StartDate',inplace=True)"
      ],
      "metadata": {
        "id": "012K_4vD-wDh"
      },
      "execution_count": null,
      "outputs": []
    },
    {
      "cell_type": "code",
      "source": [
        "# df3 = df2.copy().reset_index()\n",
        "df2['time_to_event'] = pd.DatetimeIndex(df['StartDate']) - pd.DatetimeIndex(df['StatusCreatedDate'])"
      ],
      "metadata": {
        "id": "UNvaMXHK-1hz"
      },
      "execution_count": null,
      "outputs": []
    },
    {
      "cell_type": "code",
      "source": [
        "df2['days_to_event'] = df2['time_to_event']/ np.timedelta64(1, 'D')"
      ],
      "metadata": {
        "id": "vAGEpVqA_Cxp"
      },
      "execution_count": null,
      "outputs": []
    },
    {
      "cell_type": "code",
      "source": [
        "df2.drop(df2[df2['days_to_event'] < 0].index, inplace = True)"
      ],
      "metadata": {
        "id": "sJ17rSdaBWVg"
      },
      "execution_count": null,
      "outputs": []
    },
    {
      "cell_type": "code",
      "source": [
        "df2 = df2.sort_values(by='StatusCreatedDate') "
      ],
      "metadata": {
        "id": "2Kyha5D7AFZP"
      },
      "execution_count": null,
      "outputs": []
    },
    {
      "cell_type": "code",
      "source": [
        "df2.set_index('StatusCreatedDate',inplace=True)"
      ],
      "metadata": {
        "id": "gqNMgkW8AOvN"
      },
      "execution_count": null,
      "outputs": []
    },
    {
      "cell_type": "code",
      "source": [
        "df2['StartDate'] = pd.to_datetime(df2.index, dayfirst=True)"
      ],
      "metadata": {
        "id": "JywLEtWKcKQB"
      },
      "execution_count": null,
      "outputs": []
    },
    {
      "cell_type": "code",
      "source": [
        "df2['StatusCreatedDate'] = pd.to_datetime(df2.index, dayfirst=True)"
      ],
      "metadata": {
        "id": "ay5RsZVBAW3Z"
      },
      "execution_count": null,
      "outputs": []
    },
    {
      "cell_type": "code",
      "source": [
        "_condition_winter = (df2.StartDate.dt.month>=1)&(df2.StartDate.dt.month<=3)\n",
        "_condtion_spring = (df2.StartDate.dt.month>=4)&(df2.StartDate.dt.month<=6)\n",
        "_condition_summer = (df2.StartDate.dt.month>=7)&(df2.StartDate.dt.month<=9)\n",
        "_condition_autumn = (df2.StartDate.dt.month>=10)&(df2.StartDate.dt.month<=12)\n",
        "  # return data\n",
        "\n",
        "df2['Season'] = np.where(_condition_winter,'Winter',np.where(_condtion_spring,'Spring',np.where(_condition_summer,'Summer',np.where(_condition_autumn,'Autumn',np.nan))))"
      ],
      "metadata": {
        "id": "mMGN7jPkfbEB"
      },
      "execution_count": null,
      "outputs": []
    },
    {
      "cell_type": "code",
      "source": [
        "from sklearn import preprocessing\n",
        "encode = preprocessing.LabelEncoder()\n",
        "for i in unique_cols:\n",
        "  df2[i] = encode.fit_transform(df2[i])\n",
        "# df.head()"
      ],
      "metadata": {
        "id": "Lc2AYaVujuIe"
      },
      "execution_count": null,
      "outputs": []
    },
    {
      "cell_type": "code",
      "source": [
        "df2.info()"
      ],
      "metadata": {
        "colab": {
          "base_uri": "https://localhost:8080/"
        },
        "id": "81svcq1jHYww",
        "outputId": "0d22eef7-101e-45c1-bc41-a263c87a2605"
      },
      "execution_count": null,
      "outputs": [
        {
          "output_type": "stream",
          "name": "stdout",
          "text": [
            "<class 'pandas.core.frame.DataFrame'>\n",
            "Index: 61436 entries, 01/01/2022 02:28 to 31/12/2021 23:07\n",
            "Data columns (total 17 columns):\n",
            " #   Column             Non-Null Count  Dtype          \n",
            "---  ------             --------------  -----          \n",
            " 0   EventName          61436 non-null  object         \n",
            " 1   StartDate          61436 non-null  datetime64[ns] \n",
            " 2   EventType          61436 non-null  int64          \n",
            " 3   BookingReference   61436 non-null  object         \n",
            " 4   AttendeeReference  61436 non-null  object         \n",
            " 5   GroupSize          61436 non-null  int64          \n",
            " 6   IsLeadAttendee     61436 non-null  int64          \n",
            " 7   AttendeeGrossCost  61436 non-null  float64        \n",
            " 8   EventId            61436 non-null  int64          \n",
            " 9   BookingStatus      61436 non-null  int64          \n",
            " 10  AttendeeType       61436 non-null  object         \n",
            " 11  TicketType         61436 non-null  object         \n",
            " 12  ClientId           61436 non-null  int64          \n",
            " 13  time_to_event      61436 non-null  timedelta64[ns]\n",
            " 14  days_to_event      61436 non-null  float64        \n",
            " 15  StatusCreatedDate  61436 non-null  datetime64[ns] \n",
            " 16  Season             61436 non-null  int64          \n",
            "dtypes: datetime64[ns](2), float64(2), int64(7), object(5), timedelta64[ns](1)\n",
            "memory usage: 8.4+ MB\n"
          ]
        }
      ]
    },
    {
      "cell_type": "code",
      "source": [],
      "metadata": {
        "id": "arfxVDleZCsR"
      },
      "execution_count": null,
      "outputs": []
    },
    {
      "cell_type": "code",
      "source": [
        "df2.GroupSize.value_counts().nlargest(40).plot(kind='bar', figsize=(10,5))\n",
        "plt.title(\"Number of attendees group\")\n",
        "plt.ylabel('groupsize count')\n",
        "plt.xlabel('GroupSize');"
      ],
      "metadata": {
        "colab": {
          "base_uri": "https://localhost:8080/",
          "height": 346
        },
        "id": "sbd1xlndAc_L",
        "outputId": "aca45ea8-2b93-4064-84c8-bdee8f7e3116"
      },
      "execution_count": null,
      "outputs": [
        {
          "output_type": "display_data",
          "data": {
            "text/plain": [
              "<Figure size 720x360 with 1 Axes>"
            ],
            "image/png": "[encoded data removed]"
          },
          "metadata": {
            "needs_background": "light"
          }
        }
      ]
    },
    {
      "cell_type": "code",
      "source": [
        "df2.Season.value_counts().nlargest(40).plot(kind='bar', figsize=(10,5))\n",
        "plt.title(\"Number of attendees group\")\n",
        "plt.ylabel('Season count')\n",
        "plt.xlabel('GroupSize');"
      ],
      "metadata": {
        "colab": {
          "base_uri": "https://localhost:8080/",
          "height": 346
        },
        "id": "pGKVBI3rfzyP",
        "outputId": "50a5a7e0-4b14-4808-dff0-2a5a8e96080f"
      },
      "execution_count": null,
      "outputs": [
        {
          "output_type": "display_data",
          "data": {
            "text/plain": [
              "<Figure size 720x360 with 1 Axes>"
            ],
            "image/png": "[encoded data removed]"
          },
          "metadata": {
            "needs_background": "light"
          }
        }
      ]
    },
    {
      "cell_type": "code",
      "source": [
        "# sns.countplot(x='EventName', data=df);\n",
        "# plt.xticks(rotation=90);"
      ],
      "metadata": {
        "id": "mrjoxJmzAl-i"
      },
      "execution_count": null,
      "outputs": []
    },
    {
      "cell_type": "code",
      "source": [
        "# Ploting the curve \n",
        "# plt.figure(figsize=(35,5))\n",
        "# plt.grid()\n",
        "# plt.plot(df2['GroupSize'], marker='o', label='booking')\n",
        "# plt.xticks(rotation=90)\n",
        "# plt.legend()\n",
        "# plt.show()"
      ],
      "metadata": {
        "id": "SXyPIV95A2Jm"
      },
      "execution_count": null,
      "outputs": []
    },
    {
      "cell_type": "code",
      "source": [
        "# # Ploting the curve \n",
        "# plt.figure(figsize=(35,5))\n",
        "# plt.grid()\n",
        "# plt.plot(df2['cum_booking'], marker='o', label='booking')\n",
        "# plt.xticks(rotation=90)\n",
        "# plt.legend()\n",
        "# plt.show()"
      ],
      "metadata": {
        "id": "gjsB837UB10q"
      },
      "execution_count": null,
      "outputs": []
    },
    {
      "cell_type": "code",
      "source": [
        "# Ploting the curve \n",
        "# plt.figure(figsize=(35,5))\n",
        "# plt.grid()\n",
        "# plt.plot(df2['GroupSize'], marker='o', label='booking')\n",
        "# plt.xticks(rotation=90)\n",
        "# plt.legend()\n",
        "# plt.show()"
      ],
      "metadata": {
        "id": "JO-HWVXbBMTf"
      },
      "execution_count": null,
      "outputs": []
    },
    {
      "cell_type": "code",
      "source": [
        "df2.head()"
      ],
      "metadata": {
        "colab": {
          "base_uri": "https://localhost:8080/",
          "height": 666
        },
        "id": "UonyEU3CD4Up",
        "outputId": "ce967cd8-33f2-42fe-f5b7-bbee52c40f4b"
      },
      "execution_count": null,
      "outputs": [
        {
          "output_type": "execute_result",
          "data": {
            "text/plain": [
              "                                                           EventName  \\\n",
              "StatusCreatedDate                                                      \n",
              "01/01/2022 02:28   Gaelic Vegetarian and Veganism & Colonial Resi...   \n",
              "01/01/2022 04:25               Lightning talks: new food researchers   \n",
              "01/01/2022 08:49               Lightning talks: new food researchers   \n",
              "01/01/2022 09:27   Gaelic Vegetarian and Veganism & Colonial Resi...   \n",
              "01/01/2022 13:23         Study at the Warburg: Open Day. Spring 2022   \n",
              "\n",
              "                            StartDate  EventType BookingReference  \\\n",
              "StatusCreatedDate                                                   \n",
              "01/01/2022 02:28  2022-01-01 02:28:00          8         B1042459   \n",
              "01/01/2022 04:25  2022-01-01 04:25:00          8         B1042460   \n",
              "01/01/2022 08:49  2022-01-01 08:49:00          8         B1042461   \n",
              "01/01/2022 09:27  2022-01-01 09:27:00          8         B1042462   \n",
              "01/01/2022 13:23  2022-01-01 13:23:00          5         B1042464   \n",
              "\n",
              "                  AttendeeReference  GroupSize  IsLeadAttendee  \\\n",
              "StatusCreatedDate                                                \n",
              "01/01/2022 02:28           A1111227          1               1   \n",
              "01/01/2022 04:25           A1111228          1               1   \n",
              "01/01/2022 08:49           A1111229          1               1   \n",
              "01/01/2022 09:27           A1111230          1               1   \n",
              "01/01/2022 13:23           A1111232          1               1   \n",
              "\n",
              "                   AttendeeGrossCost  EventId  BookingStatus  \\\n",
              "StatusCreatedDate                                              \n",
              "01/01/2022 02:28                 0.0    25425              0   \n",
              "01/01/2022 04:25                 0.0    25422              0   \n",
              "01/01/2022 08:49                 0.0    25422              0   \n",
              "01/01/2022 09:27                 0.0    25425              0   \n",
              "01/01/2022 13:23                 0.0    25302              0   \n",
              "\n",
              "                            AttendeeType             TicketType  ClientId  \\\n",
              "StatusCreatedDate                                                           \n",
              "01/01/2022 02:28                Attendee               Standard       219   \n",
              "01/01/2022 04:25                Attendee               Standard       219   \n",
              "01/01/2022 08:49                Attendee               Standard       219   \n",
              "01/01/2022 09:27                Attendee               Standard       219   \n",
              "01/01/2022 13:23   CIV Taught Programmes  CIV Taught Programmes       219   \n",
              "\n",
              "                      time_to_event  days_to_event   StatusCreatedDate  Season  \n",
              "StatusCreatedDate                                                               \n",
              "01/01/2022 02:28  274 days 15:02:00     274.626389 2022-01-01 02:28:00       3  \n",
              "01/01/2022 04:25  151 days 09:35:00     151.399306 2022-01-01 04:25:00       3  \n",
              "01/01/2022 08:49  151 days 05:11:00     151.215972 2022-01-01 08:49:00       3  \n",
              "01/01/2022 09:27  274 days 08:03:00     274.335417 2022-01-01 09:27:00       3  \n",
              "01/01/2022 13:23   60 days 00:22:00      60.015278 2022-01-01 13:23:00       3  "
            ],
            "text/html": [
              "\n",
              "  <div id=\"df-92a8ce49-5368-476e-96ac-fce155165f60\">\n",
              "    <div class=\"colab-df-container\">\n",
              "      <div>\n",
              "<style scoped>\n",
              "    .dataframe tbody tr th:only-of-type {\n",
              "        vertical-align: middle;\n",
              "    }\n",
              "\n",
              "    .dataframe tbody tr th {\n",
              "        vertical-align: top;\n",
              "    }\n",
              "\n",
              "    .dataframe thead th {\n",
              "        text-align: right;\n",
              "    }\n",
              "</style>\n",
              "<table border=\"1\" class=\"dataframe\">\n",
              "  <thead>\n",
              "    <tr style=\"text-align: right;\">\n",
              "      <th></th>\n",
              "      <th>EventName</th>\n",
              "      <th>StartDate</th>\n",
              "      <th>EventType</th>\n",
              "      <th>BookingReference</th>\n",
              "      <th>AttendeeReference</th>\n",
              "      <th>GroupSize</th>\n",
              "      <th>IsLeadAttendee</th>\n",
              "      <th>AttendeeGrossCost</th>\n",
              "      <th>EventId</th>\n",
              "      <th>BookingStatus</th>\n",
              "      <th>AttendeeType</th>\n",
              "      <th>TicketType</th>\n",
              "      <th>ClientId</th>\n",
              "      <th>time_to_event</th>\n",
              "      <th>days_to_event</th>\n",
              "      <th>StatusCreatedDate</th>\n",
              "      <th>Season</th>\n",
              "    </tr>\n",
              "    <tr>\n",
              "      <th>StatusCreatedDate</th>\n",
              "      <th></th>\n",
              "      <th></th>\n",
              "      <th></th>\n",
              "      <th></th>\n",
              "      <th></th>\n",
              "      <th></th>\n",
              "      <th></th>\n",
              "      <th></th>\n",
              "      <th></th>\n",
              "      <th></th>\n",
              "      <th></th>\n",
              "      <th></th>\n",
              "      <th></th>\n",
              "      <th></th>\n",
              "      <th></th>\n",
              "      <th></th>\n",
              "      <th></th>\n",
              "    </tr>\n",
              "  </thead>\n",
              "  <tbody>\n",
              "    <tr>\n",
              "      <th>01/01/2022 02:28</th>\n",
              "      <td>Gaelic Vegetarian and Veganism &amp; Colonial Resi...</td>\n",
              "      <td>2022-01-01 02:28:00</td>\n",
              "      <td>8</td>\n",
              "      <td>B1042459</td>\n",
              "      <td>A1111227</td>\n",
              "      <td>1</td>\n",
              "      <td>1</td>\n",
              "      <td>0.0</td>\n",
              "      <td>25425</td>\n",
              "      <td>0</td>\n",
              "      <td>Attendee</td>\n",
              "      <td>Standard</td>\n",
              "      <td>219</td>\n",
              "      <td>274 days 15:02:00</td>\n",
              "      <td>274.626389</td>\n",
              "      <td>2022-01-01 02:28:00</td>\n",
              "      <td>3</td>\n",
              "    </tr>\n",
              "    <tr>\n",
              "      <th>01/01/2022 04:25</th>\n",
              "      <td>Lightning talks: new food researchers</td>\n",
              "      <td>2022-01-01 04:25:00</td>\n",
              "      <td>8</td>\n",
              "      <td>B1042460</td>\n",
              "      <td>A1111228</td>\n",
              "      <td>1</td>\n",
              "      <td>1</td>\n",
              "      <td>0.0</td>\n",
              "      <td>25422</td>\n",
              "      <td>0</td>\n",
              "      <td>Attendee</td>\n",
              "      <td>Standard</td>\n",
              "      <td>219</td>\n",
              "      <td>151 days 09:35:00</td>\n",
              "      <td>151.399306</td>\n",
              "      <td>2022-01-01 04:25:00</td>\n",
              "      <td>3</td>\n",
              "    </tr>\n",
              "    <tr>\n",
              "      <th>01/01/2022 08:49</th>\n",
              "      <td>Lightning talks: new food researchers</td>\n",
              "      <td>2022-01-01 08:49:00</td>\n",
              "      <td>8</td>\n",
              "      <td>B1042461</td>\n",
              "      <td>A1111229</td>\n",
              "      <td>1</td>\n",
              "      <td>1</td>\n",
              "      <td>0.0</td>\n",
              "      <td>25422</td>\n",
              "      <td>0</td>\n",
              "      <td>Attendee</td>\n",
              "      <td>Standard</td>\n",
              "      <td>219</td>\n",
              "      <td>151 days 05:11:00</td>\n",
              "      <td>151.215972</td>\n",
              "      <td>2022-01-01 08:49:00</td>\n",
              "      <td>3</td>\n",
              "    </tr>\n",
              "    <tr>\n",
              "      <th>01/01/2022 09:27</th>\n",
              "      <td>Gaelic Vegetarian and Veganism &amp; Colonial Resi...</td>\n",
              "      <td>2022-01-01 09:27:00</td>\n",
              "      <td>8</td>\n",
              "      <td>B1042462</td>\n",
              "      <td>A1111230</td>\n",
              "      <td>1</td>\n",
              "      <td>1</td>\n",
              "      <td>0.0</td>\n",
              "      <td>25425</td>\n",
              "      <td>0</td>\n",
              "      <td>Attendee</td>\n",
              "      <td>Standard</td>\n",
              "      <td>219</td>\n",
              "      <td>274 days 08:03:00</td>\n",
              "      <td>274.335417</td>\n",
              "      <td>2022-01-01 09:27:00</td>\n",
              "      <td>3</td>\n",
              "    </tr>\n",
              "    <tr>\n",
              "      <th>01/01/2022 13:23</th>\n",
              "      <td>Study at the Warburg: Open Day. Spring 2022</td>\n",
              "      <td>2022-01-01 13:23:00</td>\n",
              "      <td>5</td>\n",
              "      <td>B1042464</td>\n",
              "      <td>A1111232</td>\n",
              "      <td>1</td>\n",
              "      <td>1</td>\n",
              "      <td>0.0</td>\n",
              "      <td>25302</td>\n",
              "      <td>0</td>\n",
              "      <td>CIV Taught Programmes</td>\n",
              "      <td>CIV Taught Programmes</td>\n",
              "      <td>219</td>\n",
              "      <td>60 days 00:22:00</td>\n",
              "      <td>60.015278</td>\n",
              "      <td>2022-01-01 13:23:00</td>\n",
              "      <td>3</td>\n",
              "    </tr>\n",
              "  </tbody>\n",
              "</table>\n",
              "</div>\n",
              "      <button class=\"colab-df-convert\" onclick=\"convertToInteractive('df-92a8ce49-5368-476e-96ac-fce155165f60')\"\n",
              "              title=\"Convert this dataframe to an interactive table.\"\n",
              "              style=\"display:none;\">\n",
              "        \n",
              "  <svg xmlns=\"http://www.w3.org/2000/svg\" height=\"24px\"viewBox=\"0 0 24 24\"\n",
              "       width=\"24px\">\n",
              "    <path d=\"M0 0h24v24H0V0z\" fill=\"none\"/>\n",
              "    <path d=\"M18.56 5.44l.94 2.06.94-2.06 2.06-.94-2.06-.94-.94-2.06-.94 2.06-2.06.94zm-11 1L8.5 8.5l.94-2.06 2.06-.94-2.06-.94L8.5 2.5l-.94 2.06-2.06.94zm10 10l.94 2.06.94-2.06 2.06-.94-2.06-.94-.94-2.06-.94 2.06-2.06.94z\"/><path d=\"M17.41 7.96l-1.37-1.37c-.4-.4-.92-.59-1.43-.59-.52 0-1.04.2-1.43.59L10.3 9.45l-7.72 7.72c-.78.78-.78 2.05 0 2.83L4 21.41c.39.39.9.59 1.41.59.51 0 1.02-.2 1.41-.59l7.78-7.78 2.81-2.81c.8-.78.8-2.07 0-2.86zM5.41 20L4 18.59l7.72-7.72 1.47 1.35L5.41 20z\"/>\n",
              "  </svg>\n",
              "      </button>\n",
              "      \n",
              "  <style>\n",
              "    .colab-df-container {\n",
              "      display:flex;\n",
              "      flex-wrap:wrap;\n",
              "      gap: 12px;\n",
              "    }\n",
              "\n",
              "    .colab-df-convert {\n",
              "      background-color: #E8F0FE;\n",
              "      border: none;\n",
              "      border-radius: 50%;\n",
              "      cursor: pointer;\n",
              "      display: none;\n",
              "      fill: #1967D2;\n",
              "      height: 32px;\n",
              "      padding: 0 0 0 0;\n",
              "      width: 32px;\n",
              "    }\n",
              "\n",
              "    .colab-df-convert:hover {\n",
              "      background-color: #E2EBFA;\n",
              "      box-shadow: 0px 1px 2px rgba(60, 64, 67, 0.3), 0px 1px 3px 1px rgba(60, 64, 67, 0.15);\n",
              "      fill: #174EA6;\n",
              "    }\n",
              "\n",
              "    [theme=dark] .colab-df-convert {\n",
              "      background-color: #3B4455;\n",
              "      fill: #D2E3FC;\n",
              "    }\n",
              "\n",
              "    [theme=dark] .colab-df-convert:hover {\n",
              "      background-color: #434B5C;\n",
              "      box-shadow: 0px 1px 3px 1px rgba(0, 0, 0, 0.15);\n",
              "      filter: drop-shadow(0px 1px 2px rgba(0, 0, 0, 0.3));\n",
              "      fill: #FFFFFF;\n",
              "    }\n",
              "  </style>\n",
              "\n",
              "      <script>\n",
              "        const buttonEl =\n",
              "          document.querySelector('#df-92a8ce49-5368-476e-96ac-fce155165f60 button.colab-df-convert');\n",
              "        buttonEl.style.display =\n",
              "          google.colab.kernel.accessAllowed ? 'block' : 'none';\n",
              "\n",
              "        async function convertToInteractive(key) {\n",
              "          const element = document.querySelector('#df-92a8ce49-5368-476e-96ac-fce155165f60');\n",
              "          const dataTable =\n",
              "            await google.colab.kernel.invokeFunction('convertToInteractive',\n",
              "                                                     [key], {});\n",
              "          if (!dataTable) return;\n",
              "\n",
              "          const docLinkHtml = 'Like what you see? Visit the ' +\n",
              "            '<a target=\"_blank\" href=https://colab.research.google.com/notebooks/data_table.ipynb>data table notebook</a>'\n",
              "            + ' to learn more about interactive tables.';\n",
              "          element.innerHTML = '';\n",
              "          dataTable['output_type'] = 'display_data';\n",
              "          await google.colab.output.renderOutput(dataTable, element);\n",
              "          const docLink = document.createElement('div');\n",
              "          docLink.innerHTML = docLinkHtml;\n",
              "          element.appendChild(docLink);\n",
              "        }\n",
              "      </script>\n",
              "    </div>\n",
              "  </div>\n",
              "  "
            ]
          },
          "metadata": {},
          "execution_count": 24
        }
      ]
    },
    {
      "cell_type": "code",
      "source": [
        "plt.figure(figsize=(35,5))\n",
        "df2['GroupSize'].plot()"
      ],
      "metadata": {
        "colab": {
          "base_uri": "https://localhost:8080/",
          "height": 287
        },
        "id": "U7UHnmtHDuSL",
        "outputId": "74e256d1-fd6c-404f-c290-f0731eb35cc1"
      },
      "execution_count": null,
      "outputs": [
        {
          "output_type": "execute_result",
          "data": {
            "text/plain": [
              "<AxesSubplot:xlabel='StatusCreatedDate'>"
            ]
          },
          "metadata": {},
          "execution_count": 25
        },
        {
          "output_type": "display_data",
          "data": {
            "text/plain": [
              "<Figure size 2520x360 with 1 Axes>"
            ],
            "image/png": "[encoded data removed]"
          },
          "metadata": {
            "needs_background": "light"
          }
        }
      ]
    },
    {
      "cell_type": "code",
      "source": [
        "df2['cum_booking'] = df2['GroupSize'].cumsum(axis=0)"
      ],
      "metadata": {
        "id": "hephnSilFVEV"
      },
      "execution_count": null,
      "outputs": []
    },
    {
      "cell_type": "code",
      "source": [
        "plt.figure(figsize=(35,5))\n",
        "df2['cum_booking'].plot()"
      ],
      "metadata": {
        "colab": {
          "base_uri": "https://localhost:8080/",
          "height": 286
        },
        "id": "bQTWVAS2FeFg",
        "outputId": "f932e197-7675-4ac7-c90c-fff2fbd2e50f"
      },
      "execution_count": null,
      "outputs": [
        {
          "output_type": "execute_result",
          "data": {
            "text/plain": [
              "<AxesSubplot:xlabel='StatusCreatedDate'>"
            ]
          },
          "metadata": {},
          "execution_count": 27
        },
        {
          "output_type": "display_data",
          "data": {
            "text/plain": [
              "<Figure size 2520x360 with 1 Axes>"
            ],
            "image/png": "[encoded data removed]"
          },
          "metadata": {
            "needs_background": "light"
          }
        }
      ]
    },
    {
      "cell_type": "code",
      "source": [
        "dfs = df2.copy()"
      ],
      "metadata": {
        "id": "hlm4raHlB98C"
      },
      "execution_count": null,
      "outputs": []
    },
    {
      "cell_type": "code",
      "source": [
        "!pip install pmdarima\n"
      ],
      "metadata": {
        "colab": {
          "base_uri": "https://localhost:8080/"
        },
        "id": "ELavAjxeCjGj",
        "outputId": "e2791b81-aec7-41cd-cb59-ede7cd61cd27"
      },
      "execution_count": null,
      "outputs": [
        {
          "output_type": "stream",
          "name": "stdout",
          "text": [
            "Looking in indexes: https://pypi.org/simple, https://us-python.pkg.dev/colab-wheels/public/simple/\n",
            "Collecting pmdarima\n",
            "  Downloading pmdarima-2.0.2-cp38-cp38-manylinux_2_17_x86_64.manylinux2014_x86_64.manylinux_2_28_x86_64.whl (1.9 MB)\n",
            "\u001b[2K     \u001b[90m━━━━━━━━━━━━━━━━━━━━━━━━━━━━━━━━━━━━━━━━\u001b[0m \u001b[32m1.9/1.9 MB\u001b[0m \u001b[31m22.8 MB/s\u001b[0m eta \u001b[36m0:00:00\u001b[0m\n",
            "\u001b[?25hRequirement already satisfied: Cython!=0.29.18,!=0.29.31,>=0.29 in /usr/local/lib/python3.8/dist-packages (from pmdarima) (0.29.33)\n",
            "Requirement already satisfied: scikit-learn>=0.22 in /usr/local/lib/python3.8/dist-packages (from pmdarima) (1.2.1)\n",
            "Requirement already satisfied: numpy>=1.21.2 in /usr/local/lib/python3.8/dist-packages (from pmdarima) (1.22.4)\n",
            "Requirement already satisfied: scipy>=1.3.2 in /usr/local/lib/python3.8/dist-packages (from pmdarima) (1.10.1)\n",
            "Requirement already satisfied: urllib3 in /usr/local/lib/python3.8/dist-packages (from pmdarima) (1.26.14)\n",
            "Requirement already satisfied: pandas>=0.19 in /usr/local/lib/python3.8/dist-packages (from pmdarima) (1.3.5)\n",
            "Requirement already satisfied: joblib>=0.11 in /usr/local/lib/python3.8/dist-packages (from pmdarima) (1.2.0)\n",
            "Requirement already satisfied: setuptools!=50.0.0,>=38.6.0 in /usr/local/lib/python3.8/dist-packages (from pmdarima) (57.4.0)\n",
            "Requirement already satisfied: statsmodels>=0.13.2 in /usr/local/lib/python3.8/dist-packages (from pmdarima) (0.13.5)\n",
            "Requirement already satisfied: pytz>=2017.3 in /usr/local/lib/python3.8/dist-packages (from pandas>=0.19->pmdarima) (2022.7.1)\n",
            "Requirement already satisfied: python-dateutil>=2.7.3 in /usr/local/lib/python3.8/dist-packages (from pandas>=0.19->pmdarima) (2.8.2)\n",
            "Requirement already satisfied: threadpoolctl>=2.0.0 in /usr/local/lib/python3.8/dist-packages (from scikit-learn>=0.22->pmdarima) (3.1.0)\n",
            "Requirement already satisfied: packaging>=21.3 in /usr/local/lib/python3.8/dist-packages (from statsmodels>=0.13.2->pmdarima) (23.0)\n",
            "Requirement already satisfied: patsy>=0.5.2 in /usr/local/lib/python3.8/dist-packages (from statsmodels>=0.13.2->pmdarima) (0.5.3)\n",
            "Requirement already satisfied: six in /usr/local/lib/python3.8/dist-packages (from patsy>=0.5.2->statsmodels>=0.13.2->pmdarima) (1.15.0)\n",
            "Installing collected packages: pmdarima\n",
            "Successfully installed pmdarima-2.0.2\n"
          ]
        }
      ]
    },
    {
      "cell_type": "code",
      "source": [
        "from sklearn.model_selection import train_test_split\n",
        "train,test = train_test_split(dfs['GroupSize'], test_size=.3, shuffle=False)"
      ],
      "metadata": {
        "id": "Jlf5dLdNCP4V"
      },
      "execution_count": null,
      "outputs": []
    },
    {
      "cell_type": "code",
      "source": [
        "#Fitting model\n",
        "from statsmodels.tsa.arima.model import ARIMA\n",
        "# 2,1,3 ARIMA Model\n",
        "model = ARIMA(train, order=(2,0,1)) ### TEST q=1\n",
        "model_fit = model.fit()\n",
        "print(model_fit.summary())\n",
        "\n",
        "# Plot residual errors\n",
        "residuals = pd.DataFrame(model_fit.resid)\n",
        "fig, ax = plt.subplots(1,2)\n",
        "residuals.plot(title=\"Residuals\", ax=ax[0])\n",
        "residuals.plot(kind='kde', title='Density', ax=ax[1])\n",
        "plt.show()\n"
      ],
      "metadata": {
        "colab": {
          "base_uri": "https://localhost:8080/",
          "height": 1000
        },
        "id": "-jgV1O7hC49y",
        "outputId": "673ecb21-2db3-4172-d701-a6da6cd16e79"
      },
      "execution_count": null,
      "outputs": [
        {
          "output_type": "stream",
          "name": "stderr",
          "text": [
            "/usr/local/lib/python3.8/dist-packages/statsmodels/tsa/base/tsa_model.py:471: ValueWarning: A date index has been provided, but it has no associated frequency information and so will be ignored when e.g. forecasting.\n",
            "  self._init_dates(dates, freq)\n",
            "/usr/local/lib/python3.8/dist-packages/statsmodels/tsa/base/tsa_model.py:471: ValueWarning: A date index has been provided, but it is not monotonic and so will be ignored when e.g. forecasting.\n",
            "  self._init_dates(dates, freq)\n",
            "/usr/local/lib/python3.8/dist-packages/statsmodels/tsa/base/tsa_model.py:471: ValueWarning: A date index has been provided, but it has no associated frequency information and so will be ignored when e.g. forecasting.\n",
            "  self._init_dates(dates, freq)\n",
            "/usr/local/lib/python3.8/dist-packages/statsmodels/tsa/base/tsa_model.py:471: ValueWarning: A date index has been provided, but it is not monotonic and so will be ignored when e.g. forecasting.\n",
            "  self._init_dates(dates, freq)\n",
            "/usr/local/lib/python3.8/dist-packages/statsmodels/tsa/base/tsa_model.py:471: ValueWarning: A date index has been provided, but it has no associated frequency information and so will be ignored when e.g. forecasting.\n",
            "  self._init_dates(dates, freq)\n",
            "/usr/local/lib/python3.8/dist-packages/statsmodels/tsa/base/tsa_model.py:471: ValueWarning: A date index has been provided, but it is not monotonic and so will be ignored when e.g. forecasting.\n",
            "  self._init_dates(dates, freq)\n",
            "/usr/local/lib/python3.8/dist-packages/statsmodels/tsa/statespace/sarimax.py:966: UserWarning: Non-stationary starting autoregressive parameters found. Using zeros as starting parameters.\n",
            "  warn('Non-stationary starting autoregressive parameters'\n",
            "/usr/local/lib/python3.8/dist-packages/statsmodels/tsa/statespace/sarimax.py:978: UserWarning: Non-invertible starting MA parameters found. Using zeros as starting parameters.\n",
            "  warn('Non-invertible starting MA parameters found.'\n"
          ]
        },
        {
          "output_type": "stream",
          "name": "stdout",
          "text": [
            "                               SARIMAX Results                                \n",
            "==============================================================================\n",
            "Dep. Variable:              GroupSize   No. Observations:                43005\n",
            "Model:                 ARIMA(2, 0, 1)   Log Likelihood               85659.726\n",
            "Date:                Mon, 06 Mar 2023   AIC                        -171309.452\n",
            "Time:                        12:21:22   BIC                        -171266.106\n",
            "Sample:                             0   HQIC                       -171295.778\n",
            "                              - 43005                                         \n",
            "Covariance Type:                  opg                                         \n",
            "==============================================================================\n",
            "                 coef    std err          z      P>|z|      [0.025      0.975]\n",
            "------------------------------------------------------------------------------\n",
            "const          0.9990      0.000   2165.157      0.000       0.998       1.000\n",
            "ar.L1          0.0209      0.371      0.056      0.955      -0.706       0.747\n",
            "ar.L2         -0.0023      0.029     -0.080      0.936      -0.058       0.054\n",
            "ma.L1          0.0209      0.371      0.056      0.955      -0.706       0.747\n",
            "sigma2         0.0011   9.88e-07   1103.241      0.000       0.001       0.001\n",
            "===================================================================================\n",
            "Ljung-Box (L1) (Q):                   0.00   Jarque-Bera (JB):        1481241517.25\n",
            "Prob(Q):                              0.99   Prob(JB):                         0.00\n",
            "Heteroskedasticity (H):               0.75   Skew:                           -27.70\n",
            "Prob(H) (two-sided):                  0.00   Kurtosis:                       910.51\n",
            "===================================================================================\n",
            "\n",
            "Warnings:\n",
            "[1] Covariance matrix calculated using the outer product of gradients (complex-step).\n"
          ]
        },
        {
          "output_type": "display_data",
          "data": {
            "text/plain": [
              "<Figure size 432x288 with 2 Axes>"
            ],
            "image/png": "[encoded data removed]"
          },
          "metadata": {
            "needs_background": "light"
          }
        }
      ]
    },
    {
      "cell_type": "code",
      "source": [
        "start = len(train)\n",
        "\n",
        "end = len(train)+len(test)-1\n",
        "\n",
        "pred = model_fit.predict(start=start, end=end, typ='levels')\n",
        "print(pred)\n",
        "print(train)\n",
        "# pred.index=dfs.index[start:end+1]\n",
        "\n"
      ],
      "metadata": {
        "colab": {
          "base_uri": "https://localhost:8080/"
        },
        "id": "_DLs3hlfDWn9",
        "outputId": "6ed64776-f6c1-49e2-81de-f668c4def246"
      },
      "execution_count": null,
      "outputs": [
        {
          "output_type": "stream",
          "name": "stderr",
          "text": [
            "/usr/local/lib/python3.8/dist-packages/statsmodels/tsa/base/tsa_model.py:834: ValueWarning: No supported index is available. Prediction results will be given with an integer index beginning at `start`.\n",
            "  return get_prediction_index(\n"
          ]
        },
        {
          "output_type": "stream",
          "name": "stdout",
          "text": [
            "43005    0.999038\n",
            "43006    0.998998\n",
            "43007    0.998999\n",
            "43008    0.998999\n",
            "43009    0.998999\n",
            "           ...   \n",
            "61431    0.998999\n",
            "61432    0.998999\n",
            "61433    0.998999\n",
            "61434    0.998999\n",
            "61435    0.998999\n",
            "Name: predicted_mean, Length: 18431, dtype: float64\n",
            "StatusCreatedDate\n",
            "01/01/2022 02:28    1\n",
            "01/01/2022 04:25    1\n",
            "01/01/2022 08:49    1\n",
            "01/01/2022 09:27    1\n",
            "01/01/2022 13:23    1\n",
            "                   ..\n",
            "22/01/2022 16:53    1\n",
            "22/01/2022 17:02    1\n",
            "22/01/2022 17:19    1\n",
            "22/01/2022 17:19    1\n",
            "22/01/2022 17:49    1\n",
            "Name: GroupSize, Length: 43005, dtype: int64\n"
          ]
        }
      ]
    },
    {
      "cell_type": "code",
      "source": [
        "print(pred)"
      ],
      "metadata": {
        "colab": {
          "base_uri": "https://localhost:8080/"
        },
        "id": "OBps-wuZDeZv",
        "outputId": "322ad4d4-6eb9-4705-f757-53730e84dc00"
      },
      "execution_count": null,
      "outputs": [
        {
          "output_type": "stream",
          "name": "stdout",
          "text": [
            "43005    0.999038\n",
            "43006    0.998998\n",
            "43007    0.998999\n",
            "43008    0.998999\n",
            "43009    0.998999\n",
            "           ...   \n",
            "61431    0.998999\n",
            "61432    0.998999\n",
            "61433    0.998999\n",
            "61434    0.998999\n",
            "61435    0.998999\n",
            "Name: predicted_mean, Length: 18431, dtype: float64\n"
          ]
        }
      ]
    },
    {
      "cell_type": "code",
      "source": [
        "pred.index=dfs.index[start:end+1]"
      ],
      "metadata": {
        "id": "AlJxQ0LUFvRC"
      },
      "execution_count": null,
      "outputs": []
    },
    {
      "cell_type": "code",
      "source": [
        "test.plot(legend=True, figsize=(12,5))\n",
        "pred.plot(legend=True, figsize=(12,5))\n",
        "\n"
      ],
      "metadata": {
        "colab": {
          "base_uri": "https://localhost:8080/",
          "height": 352
        },
        "id": "6FlZDKA0DgF9",
        "outputId": "30ba5d86-1992-4169-f738-1c47c8ff3534"
      },
      "execution_count": null,
      "outputs": [
        {
          "output_type": "execute_result",
          "data": {
            "text/plain": [
              "<AxesSubplot:xlabel='StatusCreatedDate'>"
            ]
          },
          "metadata": {},
          "execution_count": 35
        },
        {
          "output_type": "display_data",
          "data": {
            "text/plain": [
              "<Figure size 864x360 with 1 Axes>"
            ],
            "image/png": "[encoded data removed]"
          },
          "metadata": {
            "needs_background": "light"
          }
        }
      ]
    },
    {
      "cell_type": "code",
      "source": [
        "# pd.concat([dfs['GroupSize'],pred], axis=1).plot()\n",
        "from sklearn.metrics import mean_absolute_error,mean_squared_error\n",
        "rf_mea = mean_absolute_error(test, pred)\n",
        "print(\"MAE: \", rf_mea)"
      ],
      "metadata": {
        "colab": {
          "base_uri": "https://localhost:8080/"
        },
        "id": "UelbDjetDh3t",
        "outputId": "55e8a846-c3a4-4f99-ec21-4e4075710a52"
      },
      "execution_count": null,
      "outputs": [
        {
          "output_type": "stream",
          "name": "stdout",
          "text": [
            "MAE:  0.0024626708807531945\n"
          ]
        }
      ]
    },
    {
      "cell_type": "code",
      "source": [
        "from statsmodels.tsa.arima_model import ARIMA\n",
        "model_fit.plot_diagnostics()\n",
        "# model_fit.plot_predict(dynamic=False)\n",
        "plt.show()"
      ],
      "metadata": {
        "colab": {
          "base_uri": "https://localhost:8080/",
          "height": 295
        },
        "id": "VxMk3DwzDnBZ",
        "outputId": "5baf9b23-a10d-40fd-d0f3-7cfaa0ca62ad"
      },
      "execution_count": null,
      "outputs": [
        {
          "output_type": "display_data",
          "data": {
            "text/plain": [
              "<Figure size 432x288 with 4 Axes>"
            ],
            "image/png": "[encoded data removed]"
          },
          "metadata": {
            "needs_background": "light"
          }
        }
      ]
    },
    {
      "cell_type": "code",
      "source": [
        "dfPred = df2.set_index('StatusCreatedDate')\n",
        "dfPred = dfPred.resample('w').sum()\n",
        "dfPred\n",
        "# df2['StatusCreatedDate'] = pd.to_datetime(df2['StatusCreatedDate'], dayfirst=True)"
      ],
      "metadata": {
        "colab": {
          "base_uri": "https://localhost:8080/",
          "height": 455
        },
        "id": "els2YshYDndZ",
        "outputId": "921338d6-d2a9-4d70-91aa-c5b237b839e3"
      },
      "execution_count": null,
      "outputs": [
        {
          "output_type": "execute_result",
          "data": {
            "text/plain": [
              "                   EventType  GroupSize  IsLeadAttendee  AttendeeGrossCost  \\\n",
              "StatusCreatedDate                                                            \n",
              "2021-03-07                 8          1               1                0.0   \n",
              "2021-03-14                14          2               2                0.0   \n",
              "2021-03-21                14          2               2                0.0   \n",
              "2021-03-28                 0          0               0                0.0   \n",
              "2021-04-04                 0          0               0                0.0   \n",
              "...                      ...        ...             ...                ...   \n",
              "2022-06-19              5502        945             947             1130.0   \n",
              "2022-06-26              5107        838             839             2565.0   \n",
              "2022-07-03              4145        686             686             1320.0   \n",
              "2022-07-10              1340        209             209              240.0   \n",
              "2022-07-17                24          4               4                0.0   \n",
              "\n",
              "                    EventId  BookingStatus  ClientId  days_to_event  Season  \\\n",
              "StatusCreatedDate                                                             \n",
              "2021-03-07            24077              0       219     161.939583       3   \n",
              "2021-03-14            48148              0       438      88.843056       6   \n",
              "2021-03-21            48148              0       438     429.786111       6   \n",
              "2021-03-28                0              0         0       0.000000       0   \n",
              "2021-04-04                0              0         0       0.000000       0   \n",
              "...                     ...            ...       ...            ...     ...   \n",
              "2022-06-19         24762078              2    207393    7989.601389     947   \n",
              "2022-06-26         21954042              1    183741    5038.075000     839   \n",
              "2022-07-03         17980886              0    150234   30980.154167     903   \n",
              "2022-07-10          5485133              0     45771    8345.294444     418   \n",
              "2022-07-17           105676              0       876       0.302778       8   \n",
              "\n",
              "                   cum_booking  \n",
              "StatusCreatedDate               \n",
              "2021-03-07               11110  \n",
              "2021-03-14               38018  \n",
              "2021-03-21               60359  \n",
              "2021-03-28                   0  \n",
              "2021-04-04                   0  \n",
              "...                        ...  \n",
              "2022-06-19            27972196  \n",
              "2022-06-26            37686011  \n",
              "2022-07-03            27416413  \n",
              "2022-07-10             2476886  \n",
              "2022-07-17               87814  \n",
              "\n",
              "[72 rows x 10 columns]"
            ],
            "text/html": [
              "\n",
              "  <div id=\"df-d75321ae-a378-4e52-8683-6e3ed94dd649\">\n",
              "    <div class=\"colab-df-container\">\n",
              "      <div>\n",
              "<style scoped>\n",
              "    .dataframe tbody tr th:only-of-type {\n",
              "        vertical-align: middle;\n",
              "    }\n",
              "\n",
              "    .dataframe tbody tr th {\n",
              "        vertical-align: top;\n",
              "    }\n",
              "\n",
              "    .dataframe thead th {\n",
              "        text-align: right;\n",
              "    }\n",
              "</style>\n",
              "<table border=\"1\" class=\"dataframe\">\n",
              "  <thead>\n",
              "    <tr style=\"text-align: right;\">\n",
              "      <th></th>\n",
              "      <th>EventType</th>\n",
              "      <th>GroupSize</th>\n",
              "      <th>IsLeadAttendee</th>\n",
              "      <th>AttendeeGrossCost</th>\n",
              "      <th>EventId</th>\n",
              "      <th>BookingStatus</th>\n",
              "      <th>ClientId</th>\n",
              "      <th>days_to_event</th>\n",
              "      <th>Season</th>\n",
              "      <th>cum_booking</th>\n",
              "    </tr>\n",
              "    <tr>\n",
              "      <th>StatusCreatedDate</th>\n",
              "      <th></th>\n",
              "      <th></th>\n",
              "      <th></th>\n",
              "      <th></th>\n",
              "      <th></th>\n",
              "      <th></th>\n",
              "      <th></th>\n",
              "      <th></th>\n",
              "      <th></th>\n",
              "      <th></th>\n",
              "    </tr>\n",
              "  </thead>\n",
              "  <tbody>\n",
              "    <tr>\n",
              "      <th>2021-03-07</th>\n",
              "      <td>8</td>\n",
              "      <td>1</td>\n",
              "      <td>1</td>\n",
              "      <td>0.0</td>\n",
              "      <td>24077</td>\n",
              "      <td>0</td>\n",
              "      <td>219</td>\n",
              "      <td>161.939583</td>\n",
              "      <td>3</td>\n",
              "      <td>11110</td>\n",
              "    </tr>\n",
              "    <tr>\n",
              "      <th>2021-03-14</th>\n",
              "      <td>14</td>\n",
              "      <td>2</td>\n",
              "      <td>2</td>\n",
              "      <td>0.0</td>\n",
              "      <td>48148</td>\n",
              "      <td>0</td>\n",
              "      <td>438</td>\n",
              "      <td>88.843056</td>\n",
              "      <td>6</td>\n",
              "      <td>38018</td>\n",
              "    </tr>\n",
              "    <tr>\n",
              "      <th>2021-03-21</th>\n",
              "      <td>14</td>\n",
              "      <td>2</td>\n",
              "      <td>2</td>\n",
              "      <td>0.0</td>\n",
              "      <td>48148</td>\n",
              "      <td>0</td>\n",
              "      <td>438</td>\n",
              "      <td>429.786111</td>\n",
              "      <td>6</td>\n",
              "      <td>60359</td>\n",
              "    </tr>\n",
              "    <tr>\n",
              "      <th>2021-03-28</th>\n",
              "      <td>0</td>\n",
              "      <td>0</td>\n",
              "      <td>0</td>\n",
              "      <td>0.0</td>\n",
              "      <td>0</td>\n",
              "      <td>0</td>\n",
              "      <td>0</td>\n",
              "      <td>0.000000</td>\n",
              "      <td>0</td>\n",
              "      <td>0</td>\n",
              "    </tr>\n",
              "    <tr>\n",
              "      <th>2021-04-04</th>\n",
              "      <td>0</td>\n",
              "      <td>0</td>\n",
              "      <td>0</td>\n",
              "      <td>0.0</td>\n",
              "      <td>0</td>\n",
              "      <td>0</td>\n",
              "      <td>0</td>\n",
              "      <td>0.000000</td>\n",
              "      <td>0</td>\n",
              "      <td>0</td>\n",
              "    </tr>\n",
              "    <tr>\n",
              "      <th>...</th>\n",
              "      <td>...</td>\n",
              "      <td>...</td>\n",
              "      <td>...</td>\n",
              "      <td>...</td>\n",
              "      <td>...</td>\n",
              "      <td>...</td>\n",
              "      <td>...</td>\n",
              "      <td>...</td>\n",
              "      <td>...</td>\n",
              "      <td>...</td>\n",
              "    </tr>\n",
              "    <tr>\n",
              "      <th>2022-06-19</th>\n",
              "      <td>5502</td>\n",
              "      <td>945</td>\n",
              "      <td>947</td>\n",
              "      <td>1130.0</td>\n",
              "      <td>24762078</td>\n",
              "      <td>2</td>\n",
              "      <td>207393</td>\n",
              "      <td>7989.601389</td>\n",
              "      <td>947</td>\n",
              "      <td>27972196</td>\n",
              "    </tr>\n",
              "    <tr>\n",
              "      <th>2022-06-26</th>\n",
              "      <td>5107</td>\n",
              "      <td>838</td>\n",
              "      <td>839</td>\n",
              "      <td>2565.0</td>\n",
              "      <td>21954042</td>\n",
              "      <td>1</td>\n",
              "      <td>183741</td>\n",
              "      <td>5038.075000</td>\n",
              "      <td>839</td>\n",
              "      <td>37686011</td>\n",
              "    </tr>\n",
              "    <tr>\n",
              "      <th>2022-07-03</th>\n",
              "      <td>4145</td>\n",
              "      <td>686</td>\n",
              "      <td>686</td>\n",
              "      <td>1320.0</td>\n",
              "      <td>17980886</td>\n",
              "      <td>0</td>\n",
              "      <td>150234</td>\n",
              "      <td>30980.154167</td>\n",
              "      <td>903</td>\n",
              "      <td>27416413</td>\n",
              "    </tr>\n",
              "    <tr>\n",
              "      <th>2022-07-10</th>\n",
              "      <td>1340</td>\n",
              "      <td>209</td>\n",
              "      <td>209</td>\n",
              "      <td>240.0</td>\n",
              "      <td>5485133</td>\n",
              "      <td>0</td>\n",
              "      <td>45771</td>\n",
              "      <td>8345.294444</td>\n",
              "      <td>418</td>\n",
              "      <td>2476886</td>\n",
              "    </tr>\n",
              "    <tr>\n",
              "      <th>2022-07-17</th>\n",
              "      <td>24</td>\n",
              "      <td>4</td>\n",
              "      <td>4</td>\n",
              "      <td>0.0</td>\n",
              "      <td>105676</td>\n",
              "      <td>0</td>\n",
              "      <td>876</td>\n",
              "      <td>0.302778</td>\n",
              "      <td>8</td>\n",
              "      <td>87814</td>\n",
              "    </tr>\n",
              "  </tbody>\n",
              "</table>\n",
              "<p>72 rows × 10 columns</p>\n",
              "</div>\n",
              "      <button class=\"colab-df-convert\" onclick=\"convertToInteractive('df-d75321ae-a378-4e52-8683-6e3ed94dd649')\"\n",
              "              title=\"Convert this dataframe to an interactive table.\"\n",
              "              style=\"display:none;\">\n",
              "        \n",
              "  <svg xmlns=\"http://www.w3.org/2000/svg\" height=\"24px\"viewBox=\"0 0 24 24\"\n",
              "       width=\"24px\">\n",
              "    <path d=\"M0 0h24v24H0V0z\" fill=\"none\"/>\n",
              "    <path d=\"M18.56 5.44l.94 2.06.94-2.06 2.06-.94-2.06-.94-.94-2.06-.94 2.06-2.06.94zm-11 1L8.5 8.5l.94-2.06 2.06-.94-2.06-.94L8.5 2.5l-.94 2.06-2.06.94zm10 10l.94 2.06.94-2.06 2.06-.94-2.06-.94-.94-2.06-.94 2.06-2.06.94z\"/><path d=\"M17.41 7.96l-1.37-1.37c-.4-.4-.92-.59-1.43-.59-.52 0-1.04.2-1.43.59L10.3 9.45l-7.72 7.72c-.78.78-.78 2.05 0 2.83L4 21.41c.39.39.9.59 1.41.59.51 0 1.02-.2 1.41-.59l7.78-7.78 2.81-2.81c.8-.78.8-2.07 0-2.86zM5.41 20L4 18.59l7.72-7.72 1.47 1.35L5.41 20z\"/>\n",
              "  </svg>\n",
              "      </button>\n",
              "      \n",
              "  <style>\n",
              "    .colab-df-container {\n",
              "      display:flex;\n",
              "      flex-wrap:wrap;\n",
              "      gap: 12px;\n",
              "    }\n",
              "\n",
              "    .colab-df-convert {\n",
              "      background-color: #E8F0FE;\n",
              "      border: none;\n",
              "      border-radius: 50%;\n",
              "      cursor: pointer;\n",
              "      display: none;\n",
              "      fill: #1967D2;\n",
              "      height: 32px;\n",
              "      padding: 0 0 0 0;\n",
              "      width: 32px;\n",
              "    }\n",
              "\n",
              "    .colab-df-convert:hover {\n",
              "      background-color: #E2EBFA;\n",
              "      box-shadow: 0px 1px 2px rgba(60, 64, 67, 0.3), 0px 1px 3px 1px rgba(60, 64, 67, 0.15);\n",
              "      fill: #174EA6;\n",
              "    }\n",
              "\n",
              "    [theme=dark] .colab-df-convert {\n",
              "      background-color: #3B4455;\n",
              "      fill: #D2E3FC;\n",
              "    }\n",
              "\n",
              "    [theme=dark] .colab-df-convert:hover {\n",
              "      background-color: #434B5C;\n",
              "      box-shadow: 0px 1px 3px 1px rgba(0, 0, 0, 0.15);\n",
              "      filter: drop-shadow(0px 1px 2px rgba(0, 0, 0, 0.3));\n",
              "      fill: #FFFFFF;\n",
              "    }\n",
              "  </style>\n",
              "\n",
              "      <script>\n",
              "        const buttonEl =\n",
              "          document.querySelector('#df-d75321ae-a378-4e52-8683-6e3ed94dd649 button.colab-df-convert');\n",
              "        buttonEl.style.display =\n",
              "          google.colab.kernel.accessAllowed ? 'block' : 'none';\n",
              "\n",
              "        async function convertToInteractive(key) {\n",
              "          const element = document.querySelector('#df-d75321ae-a378-4e52-8683-6e3ed94dd649');\n",
              "          const dataTable =\n",
              "            await google.colab.kernel.invokeFunction('convertToInteractive',\n",
              "                                                     [key], {});\n",
              "          if (!dataTable) return;\n",
              "\n",
              "          const docLinkHtml = 'Like what you see? Visit the ' +\n",
              "            '<a target=\"_blank\" href=https://colab.research.google.com/notebooks/data_table.ipynb>data table notebook</a>'\n",
              "            + ' to learn more about interactive tables.';\n",
              "          element.innerHTML = '';\n",
              "          dataTable['output_type'] = 'display_data';\n",
              "          await google.colab.output.renderOutput(dataTable, element);\n",
              "          const docLink = document.createElement('div');\n",
              "          docLink.innerHTML = docLinkHtml;\n",
              "          element.appendChild(docLink);\n",
              "        }\n",
              "      </script>\n",
              "    </div>\n",
              "  </div>\n",
              "  "
            ]
          },
          "metadata": {},
          "execution_count": 38
        }
      ]
    },
    {
      "cell_type": "code",
      "source": [
        "dfs.info()"
      ],
      "metadata": {
        "colab": {
          "base_uri": "https://localhost:8080/"
        },
        "id": "pNy7KSqlGa6n",
        "outputId": "456cc7d8-5115-4b5e-d624-5f039433994e"
      },
      "execution_count": null,
      "outputs": [
        {
          "output_type": "stream",
          "name": "stdout",
          "text": [
            "<class 'pandas.core.frame.DataFrame'>\n",
            "Index: 61436 entries, 01/01/2022 02:28 to 31/12/2021 23:07\n",
            "Data columns (total 18 columns):\n",
            " #   Column             Non-Null Count  Dtype          \n",
            "---  ------             --------------  -----          \n",
            " 0   EventName          61436 non-null  object         \n",
            " 1   StartDate          61436 non-null  datetime64[ns] \n",
            " 2   EventType          61436 non-null  int64          \n",
            " 3   BookingReference   61436 non-null  object         \n",
            " 4   AttendeeReference  61436 non-null  object         \n",
            " 5   GroupSize          61436 non-null  int64          \n",
            " 6   IsLeadAttendee     61436 non-null  int64          \n",
            " 7   AttendeeGrossCost  61436 non-null  float64        \n",
            " 8   EventId            61436 non-null  int64          \n",
            " 9   BookingStatus      61436 non-null  int64          \n",
            " 10  AttendeeType       61436 non-null  object         \n",
            " 11  TicketType         61436 non-null  object         \n",
            " 12  ClientId           61436 non-null  int64          \n",
            " 13  time_to_event      61436 non-null  timedelta64[ns]\n",
            " 14  days_to_event      61436 non-null  float64        \n",
            " 15  StatusCreatedDate  61436 non-null  datetime64[ns] \n",
            " 16  Season             61436 non-null  int64          \n",
            " 17  cum_booking        61436 non-null  int64          \n",
            "dtypes: datetime64[ns](2), float64(2), int64(8), object(5), timedelta64[ns](1)\n",
            "memory usage: 10.9+ MB\n"
          ]
        }
      ]
    },
    {
      "cell_type": "code",
      "source": [
        "dfs.head()"
      ],
      "metadata": {
        "colab": {
          "base_uri": "https://localhost:8080/",
          "height": 666
        },
        "id": "ZxvJ5eKkdzIQ",
        "outputId": "34fe707c-65a3-4cc8-d985-57e4419c1ccb"
      },
      "execution_count": null,
      "outputs": [
        {
          "output_type": "execute_result",
          "data": {
            "text/plain": [
              "                                                           EventName  \\\n",
              "StatusCreatedDate                                                      \n",
              "01/01/2022 02:28   Gaelic Vegetarian and Veganism & Colonial Resi...   \n",
              "01/01/2022 04:25               Lightning talks: new food researchers   \n",
              "01/01/2022 08:49               Lightning talks: new food researchers   \n",
              "01/01/2022 09:27   Gaelic Vegetarian and Veganism & Colonial Resi...   \n",
              "01/01/2022 13:23         Study at the Warburg: Open Day. Spring 2022   \n",
              "\n",
              "                            StartDate  EventType BookingReference  \\\n",
              "StatusCreatedDate                                                   \n",
              "01/01/2022 02:28  2022-01-01 02:28:00          8         B1042459   \n",
              "01/01/2022 04:25  2022-01-01 04:25:00          8         B1042460   \n",
              "01/01/2022 08:49  2022-01-01 08:49:00          8         B1042461   \n",
              "01/01/2022 09:27  2022-01-01 09:27:00          8         B1042462   \n",
              "01/01/2022 13:23  2022-01-01 13:23:00          5         B1042464   \n",
              "\n",
              "                  AttendeeReference  GroupSize  IsLeadAttendee  \\\n",
              "StatusCreatedDate                                                \n",
              "01/01/2022 02:28           A1111227          1               1   \n",
              "01/01/2022 04:25           A1111228          1               1   \n",
              "01/01/2022 08:49           A1111229          1               1   \n",
              "01/01/2022 09:27           A1111230          1               1   \n",
              "01/01/2022 13:23           A1111232          1               1   \n",
              "\n",
              "                   AttendeeGrossCost  EventId  BookingStatus  \\\n",
              "StatusCreatedDate                                              \n",
              "01/01/2022 02:28                 0.0    25425              0   \n",
              "01/01/2022 04:25                 0.0    25422              0   \n",
              "01/01/2022 08:49                 0.0    25422              0   \n",
              "01/01/2022 09:27                 0.0    25425              0   \n",
              "01/01/2022 13:23                 0.0    25302              0   \n",
              "\n",
              "                            AttendeeType             TicketType  ClientId  \\\n",
              "StatusCreatedDate                                                           \n",
              "01/01/2022 02:28                Attendee               Standard       219   \n",
              "01/01/2022 04:25                Attendee               Standard       219   \n",
              "01/01/2022 08:49                Attendee               Standard       219   \n",
              "01/01/2022 09:27                Attendee               Standard       219   \n",
              "01/01/2022 13:23   CIV Taught Programmes  CIV Taught Programmes       219   \n",
              "\n",
              "                      time_to_event  days_to_event   StatusCreatedDate  \\\n",
              "StatusCreatedDate                                                        \n",
              "01/01/2022 02:28  274 days 15:02:00     274.626389 2022-01-01 02:28:00   \n",
              "01/01/2022 04:25  151 days 09:35:00     151.399306 2022-01-01 04:25:00   \n",
              "01/01/2022 08:49  151 days 05:11:00     151.215972 2022-01-01 08:49:00   \n",
              "01/01/2022 09:27  274 days 08:03:00     274.335417 2022-01-01 09:27:00   \n",
              "01/01/2022 13:23   60 days 00:22:00      60.015278 2022-01-01 13:23:00   \n",
              "\n",
              "                   Season  cum_booking  \n",
              "StatusCreatedDate                       \n",
              "01/01/2022 02:28        3            1  \n",
              "01/01/2022 04:25        3            2  \n",
              "01/01/2022 08:49        3            3  \n",
              "01/01/2022 09:27        3            4  \n",
              "01/01/2022 13:23        3            5  "
            ],
            "text/html": [
              "\n",
              "  <div id=\"df-25f4bc12-fef9-4a2a-98cc-aad2091bcc86\">\n",
              "    <div class=\"colab-df-container\">\n",
              "      <div>\n",
              "<style scoped>\n",
              "    .dataframe tbody tr th:only-of-type {\n",
              "        vertical-align: middle;\n",
              "    }\n",
              "\n",
              "    .dataframe tbody tr th {\n",
              "        vertical-align: top;\n",
              "    }\n",
              "\n",
              "    .dataframe thead th {\n",
              "        text-align: right;\n",
              "    }\n",
              "</style>\n",
              "<table border=\"1\" class=\"dataframe\">\n",
              "  <thead>\n",
              "    <tr style=\"text-align: right;\">\n",
              "      <th></th>\n",
              "      <th>EventName</th>\n",
              "      <th>StartDate</th>\n",
              "      <th>EventType</th>\n",
              "      <th>BookingReference</th>\n",
              "      <th>AttendeeReference</th>\n",
              "      <th>GroupSize</th>\n",
              "      <th>IsLeadAttendee</th>\n",
              "      <th>AttendeeGrossCost</th>\n",
              "      <th>EventId</th>\n",
              "      <th>BookingStatus</th>\n",
              "      <th>AttendeeType</th>\n",
              "      <th>TicketType</th>\n",
              "      <th>ClientId</th>\n",
              "      <th>time_to_event</th>\n",
              "      <th>days_to_event</th>\n",
              "      <th>StatusCreatedDate</th>\n",
              "      <th>Season</th>\n",
              "      <th>cum_booking</th>\n",
              "    </tr>\n",
              "    <tr>\n",
              "      <th>StatusCreatedDate</th>\n",
              "      <th></th>\n",
              "      <th></th>\n",
              "      <th></th>\n",
              "      <th></th>\n",
              "      <th></th>\n",
              "      <th></th>\n",
              "      <th></th>\n",
              "      <th></th>\n",
              "      <th></th>\n",
              "      <th></th>\n",
              "      <th></th>\n",
              "      <th></th>\n",
              "      <th></th>\n",
              "      <th></th>\n",
              "      <th></th>\n",
              "      <th></th>\n",
              "      <th></th>\n",
              "      <th></th>\n",
              "    </tr>\n",
              "  </thead>\n",
              "  <tbody>\n",
              "    <tr>\n",
              "      <th>01/01/2022 02:28</th>\n",
              "      <td>Gaelic Vegetarian and Veganism &amp; Colonial Resi...</td>\n",
              "      <td>2022-01-01 02:28:00</td>\n",
              "      <td>8</td>\n",
              "      <td>B1042459</td>\n",
              "      <td>A1111227</td>\n",
              "      <td>1</td>\n",
              "      <td>1</td>\n",
              "      <td>0.0</td>\n",
              "      <td>25425</td>\n",
              "      <td>0</td>\n",
              "      <td>Attendee</td>\n",
              "      <td>Standard</td>\n",
              "      <td>219</td>\n",
              "      <td>274 days 15:02:00</td>\n",
              "      <td>274.626389</td>\n",
              "      <td>2022-01-01 02:28:00</td>\n",
              "      <td>3</td>\n",
              "      <td>1</td>\n",
              "    </tr>\n",
              "    <tr>\n",
              "      <th>01/01/2022 04:25</th>\n",
              "      <td>Lightning talks: new food researchers</td>\n",
              "      <td>2022-01-01 04:25:00</td>\n",
              "      <td>8</td>\n",
              "      <td>B1042460</td>\n",
              "      <td>A1111228</td>\n",
              "      <td>1</td>\n",
              "      <td>1</td>\n",
              "      <td>0.0</td>\n",
              "      <td>25422</td>\n",
              "      <td>0</td>\n",
              "      <td>Attendee</td>\n",
              "      <td>Standard</td>\n",
              "      <td>219</td>\n",
              "      <td>151 days 09:35:00</td>\n",
              "      <td>151.399306</td>\n",
              "      <td>2022-01-01 04:25:00</td>\n",
              "      <td>3</td>\n",
              "      <td>2</td>\n",
              "    </tr>\n",
              "    <tr>\n",
              "      <th>01/01/2022 08:49</th>\n",
              "      <td>Lightning talks: new food researchers</td>\n",
              "      <td>2022-01-01 08:49:00</td>\n",
              "      <td>8</td>\n",
              "      <td>B1042461</td>\n",
              "      <td>A1111229</td>\n",
              "      <td>1</td>\n",
              "      <td>1</td>\n",
              "      <td>0.0</td>\n",
              "      <td>25422</td>\n",
              "      <td>0</td>\n",
              "      <td>Attendee</td>\n",
              "      <td>Standard</td>\n",
              "      <td>219</td>\n",
              "      <td>151 days 05:11:00</td>\n",
              "      <td>151.215972</td>\n",
              "      <td>2022-01-01 08:49:00</td>\n",
              "      <td>3</td>\n",
              "      <td>3</td>\n",
              "    </tr>\n",
              "    <tr>\n",
              "      <th>01/01/2022 09:27</th>\n",
              "      <td>Gaelic Vegetarian and Veganism &amp; Colonial Resi...</td>\n",
              "      <td>2022-01-01 09:27:00</td>\n",
              "      <td>8</td>\n",
              "      <td>B1042462</td>\n",
              "      <td>A1111230</td>\n",
              "      <td>1</td>\n",
              "      <td>1</td>\n",
              "      <td>0.0</td>\n",
              "      <td>25425</td>\n",
              "      <td>0</td>\n",
              "      <td>Attendee</td>\n",
              "      <td>Standard</td>\n",
              "      <td>219</td>\n",
              "      <td>274 days 08:03:00</td>\n",
              "      <td>274.335417</td>\n",
              "      <td>2022-01-01 09:27:00</td>\n",
              "      <td>3</td>\n",
              "      <td>4</td>\n",
              "    </tr>\n",
              "    <tr>\n",
              "      <th>01/01/2022 13:23</th>\n",
              "      <td>Study at the Warburg: Open Day. Spring 2022</td>\n",
              "      <td>2022-01-01 13:23:00</td>\n",
              "      <td>5</td>\n",
              "      <td>B1042464</td>\n",
              "      <td>A1111232</td>\n",
              "      <td>1</td>\n",
              "      <td>1</td>\n",
              "      <td>0.0</td>\n",
              "      <td>25302</td>\n",
              "      <td>0</td>\n",
              "      <td>CIV Taught Programmes</td>\n",
              "      <td>CIV Taught Programmes</td>\n",
              "      <td>219</td>\n",
              "      <td>60 days 00:22:00</td>\n",
              "      <td>60.015278</td>\n",
              "      <td>2022-01-01 13:23:00</td>\n",
              "      <td>3</td>\n",
              "      <td>5</td>\n",
              "    </tr>\n",
              "  </tbody>\n",
              "</table>\n",
              "</div>\n",
              "      <button class=\"colab-df-convert\" onclick=\"convertToInteractive('df-25f4bc12-fef9-4a2a-98cc-aad2091bcc86')\"\n",
              "              title=\"Convert this dataframe to an interactive table.\"\n",
              "              style=\"display:none;\">\n",
              "        \n",
              "  <svg xmlns=\"http://www.w3.org/2000/svg\" height=\"24px\"viewBox=\"0 0 24 24\"\n",
              "       width=\"24px\">\n",
              "    <path d=\"M0 0h24v24H0V0z\" fill=\"none\"/>\n",
              "    <path d=\"M18.56 5.44l.94 2.06.94-2.06 2.06-.94-2.06-.94-.94-2.06-.94 2.06-2.06.94zm-11 1L8.5 8.5l.94-2.06 2.06-.94-2.06-.94L8.5 2.5l-.94 2.06-2.06.94zm10 10l.94 2.06.94-2.06 2.06-.94-2.06-.94-.94-2.06-.94 2.06-2.06.94z\"/><path d=\"M17.41 7.96l-1.37-1.37c-.4-.4-.92-.59-1.43-.59-.52 0-1.04.2-1.43.59L10.3 9.45l-7.72 7.72c-.78.78-.78 2.05 0 2.83L4 21.41c.39.39.9.59 1.41.59.51 0 1.02-.2 1.41-.59l7.78-7.78 2.81-2.81c.8-.78.8-2.07 0-2.86zM5.41 20L4 18.59l7.72-7.72 1.47 1.35L5.41 20z\"/>\n",
              "  </svg>\n",
              "      </button>\n",
              "      \n",
              "  <style>\n",
              "    .colab-df-container {\n",
              "      display:flex;\n",
              "      flex-wrap:wrap;\n",
              "      gap: 12px;\n",
              "    }\n",
              "\n",
              "    .colab-df-convert {\n",
              "      background-color: #E8F0FE;\n",
              "      border: none;\n",
              "      border-radius: 50%;\n",
              "      cursor: pointer;\n",
              "      display: none;\n",
              "      fill: #1967D2;\n",
              "      height: 32px;\n",
              "      padding: 0 0 0 0;\n",
              "      width: 32px;\n",
              "    }\n",
              "\n",
              "    .colab-df-convert:hover {\n",
              "      background-color: #E2EBFA;\n",
              "      box-shadow: 0px 1px 2px rgba(60, 64, 67, 0.3), 0px 1px 3px 1px rgba(60, 64, 67, 0.15);\n",
              "      fill: #174EA6;\n",
              "    }\n",
              "\n",
              "    [theme=dark] .colab-df-convert {\n",
              "      background-color: #3B4455;\n",
              "      fill: #D2E3FC;\n",
              "    }\n",
              "\n",
              "    [theme=dark] .colab-df-convert:hover {\n",
              "      background-color: #434B5C;\n",
              "      box-shadow: 0px 1px 3px 1px rgba(0, 0, 0, 0.15);\n",
              "      filter: drop-shadow(0px 1px 2px rgba(0, 0, 0, 0.3));\n",
              "      fill: #FFFFFF;\n",
              "    }\n",
              "  </style>\n",
              "\n",
              "      <script>\n",
              "        const buttonEl =\n",
              "          document.querySelector('#df-25f4bc12-fef9-4a2a-98cc-aad2091bcc86 button.colab-df-convert');\n",
              "        buttonEl.style.display =\n",
              "          google.colab.kernel.accessAllowed ? 'block' : 'none';\n",
              "\n",
              "        async function convertToInteractive(key) {\n",
              "          const element = document.querySelector('#df-25f4bc12-fef9-4a2a-98cc-aad2091bcc86');\n",
              "          const dataTable =\n",
              "            await google.colab.kernel.invokeFunction('convertToInteractive',\n",
              "                                                     [key], {});\n",
              "          if (!dataTable) return;\n",
              "\n",
              "          const docLinkHtml = 'Like what you see? Visit the ' +\n",
              "            '<a target=\"_blank\" href=https://colab.research.google.com/notebooks/data_table.ipynb>data table notebook</a>'\n",
              "            + ' to learn more about interactive tables.';\n",
              "          element.innerHTML = '';\n",
              "          dataTable['output_type'] = 'display_data';\n",
              "          await google.colab.output.renderOutput(dataTable, element);\n",
              "          const docLink = document.createElement('div');\n",
              "          docLink.innerHTML = docLinkHtml;\n",
              "          element.appendChild(docLink);\n",
              "        }\n",
              "      </script>\n",
              "    </div>\n",
              "  </div>\n",
              "  "
            ]
          },
          "metadata": {},
          "execution_count": 41
        }
      ]
    },
    {
      "cell_type": "markdown",
      "source": [
        "## checking for stationarity\n"
      ],
      "metadata": {
        "id": "XMa1EPChIN2O"
      }
    },
    {
      "cell_type": "code",
      "source": [
        "from statsmodels.tsa.stattools import adfuller\n",
        "\n",
        "def check_stationarity(series, signif=0.05, name='', verbose=False):\n",
        "    \n",
        "\n",
        "    result = adfuller(series.values)\n",
        "    print(f'    Augmented Dickey-Fuller Test on \"{name}\"', \"\\n   \", '-'*47)\n",
        "\n",
        "    print('ADF Statistic: %f' % result[0])\n",
        "    print('p-value: %f' % result[1])\n",
        "    print('Critical Values:')\n",
        "    for key, value in result[4].items():\n",
        "        print('\\t%s: %.3f' % (key, value))\n",
        "\n",
        "    if (result[1] <= 0.05) & (result[4]['5%'] > result[0]):\n",
        "        print(\"\\u001b[32mStationary\\u001b[0m\")\n",
        "    else:\n",
        "        print(\"\\x1b[31mNon-stationary\\x1b[0m\")"
      ],
      "metadata": {
        "id": "8BrTbJY2Gihs"
      },
      "execution_count": null,
      "outputs": []
    },
    {
      "cell_type": "code",
      "source": [
        "# ADF Test on each column\n",
        "for name, column in dfPred.iteritems():\n",
        "    check_stationarity(column, name=column.name)\n",
        "    print('\\n')"
      ],
      "metadata": {
        "colab": {
          "base_uri": "https://localhost:8080/"
        },
        "id": "JnMwHpwxIVVo",
        "outputId": "f4cfd19c-a234-4d42-a84a-5a5250ec023c"
      },
      "execution_count": null,
      "outputs": [
        {
          "output_type": "stream",
          "name": "stdout",
          "text": [
            "    Augmented Dickey-Fuller Test on \"EventType\" \n",
            "    -----------------------------------------------\n",
            "ADF Statistic: -1.982027\n",
            "p-value: 0.294509\n",
            "Critical Values:\n",
            "\t1%: -3.530\n",
            "\t5%: -2.905\n",
            "\t10%: -2.590\n",
            "\u001b[31mNon-stationary\u001b[0m\n",
            "\n",
            "\n",
            "    Augmented Dickey-Fuller Test on \"GroupSize\" \n",
            "    -----------------------------------------------\n",
            "ADF Statistic: -3.417902\n",
            "p-value: 0.010364\n",
            "Critical Values:\n",
            "\t1%: -3.526\n",
            "\t5%: -2.903\n",
            "\t10%: -2.589\n",
            "\u001b[32mStationary\u001b[0m\n",
            "\n",
            "\n",
            "    Augmented Dickey-Fuller Test on \"IsLeadAttendee\" \n",
            "    -----------------------------------------------\n",
            "ADF Statistic: -3.415568\n",
            "p-value: 0.010439\n",
            "Critical Values:\n",
            "\t1%: -3.526\n",
            "\t5%: -2.903\n",
            "\t10%: -2.589\n",
            "\u001b[32mStationary\u001b[0m\n",
            "\n",
            "\n",
            "    Augmented Dickey-Fuller Test on \"AttendeeGrossCost\" \n",
            "    -----------------------------------------------\n",
            "ADF Statistic: -1.444167\n",
            "p-value: 0.560928\n",
            "Critical Values:\n",
            "\t1%: -3.534\n",
            "\t5%: -2.906\n",
            "\t10%: -2.591\n",
            "\u001b[31mNon-stationary\u001b[0m\n",
            "\n",
            "\n",
            "    Augmented Dickey-Fuller Test on \"EventId\" \n",
            "    -----------------------------------------------\n",
            "ADF Statistic: -3.417253\n",
            "p-value: 0.010385\n",
            "Critical Values:\n",
            "\t1%: -3.526\n",
            "\t5%: -2.903\n",
            "\t10%: -2.589\n",
            "\u001b[32mStationary\u001b[0m\n",
            "\n",
            "\n",
            "    Augmented Dickey-Fuller Test on \"BookingStatus\" \n",
            "    -----------------------------------------------\n",
            "ADF Statistic: -1.696117\n",
            "p-value: 0.433114\n",
            "Critical Values:\n",
            "\t1%: -3.530\n",
            "\t5%: -2.905\n",
            "\t10%: -2.590\n",
            "\u001b[31mNon-stationary\u001b[0m\n",
            "\n",
            "\n",
            "    Augmented Dickey-Fuller Test on \"ClientId\" \n",
            "    -----------------------------------------------\n",
            "ADF Statistic: -3.415540\n",
            "p-value: 0.010440\n",
            "Critical Values:\n",
            "\t1%: -3.526\n",
            "\t5%: -2.903\n",
            "\t10%: -2.589\n",
            "\u001b[32mStationary\u001b[0m\n",
            "\n",
            "\n",
            "    Augmented Dickey-Fuller Test on \"days_to_event\" \n",
            "    -----------------------------------------------\n",
            "ADF Statistic: -2.111908\n",
            "p-value: 0.239754\n",
            "Critical Values:\n",
            "\t1%: -3.530\n",
            "\t5%: -2.905\n",
            "\t10%: -2.590\n",
            "\u001b[31mNon-stationary\u001b[0m\n",
            "\n",
            "\n",
            "    Augmented Dickey-Fuller Test on \"Season\" \n",
            "    -----------------------------------------------\n",
            "ADF Statistic: -2.014487\n",
            "p-value: 0.280257\n",
            "Critical Values:\n",
            "\t1%: -3.530\n",
            "\t5%: -2.905\n",
            "\t10%: -2.590\n",
            "\u001b[31mNon-stationary\u001b[0m\n",
            "\n",
            "\n",
            "    Augmented Dickey-Fuller Test on \"cum_booking\" \n",
            "    -----------------------------------------------\n",
            "ADF Statistic: -1.356969\n",
            "p-value: 0.602723\n",
            "Critical Values:\n",
            "\t1%: -3.546\n",
            "\t5%: -2.912\n",
            "\t10%: -2.594\n",
            "\u001b[31mNon-stationary\u001b[0m\n",
            "\n",
            "\n"
          ]
        }
      ]
    },
    {
      "cell_type": "code",
      "source": [],
      "metadata": {
        "id": "Hzk6nwgXInbn"
      },
      "execution_count": null,
      "outputs": []
    },
    {
      "cell_type": "markdown",
      "source": [
        "# weekly arima"
      ],
      "metadata": {
        "id": "WASBBi43IqB-"
      }
    },
    {
      "cell_type": "code",
      "source": [
        "from sklearn.model_selection import train_test_split\n",
        "train,test = train_test_split(dfPred['GroupSize'], test_size=.3, shuffle=False)"
      ],
      "metadata": {
        "id": "VmfSqefJIX1A"
      },
      "execution_count": null,
      "outputs": []
    },
    {
      "cell_type": "code",
      "source": [
        "from pmdarima import auto_arima\n",
        "stepwise_fit = auto_arima(dfPred['GroupSize'], trace=True, suppress_warnings=True)\n",
        "\n",
        "stepwise_fit.summary()"
      ],
      "metadata": {
        "colab": {
          "base_uri": "https://localhost:8080/",
          "height": 827
        },
        "id": "OItFc4qNItie",
        "outputId": "fd6f3424-2002-4ca3-a761-c409e2231819"
      },
      "execution_count": null,
      "outputs": [
        {
          "output_type": "stream",
          "name": "stdout",
          "text": [
            "Performing stepwise search to minimize aic\n",
            " ARIMA(2,1,2)(0,0,0)[0] intercept   : AIC=1134.899, Time=0.89 sec\n",
            " ARIMA(0,1,0)(0,0,0)[0] intercept   : AIC=1138.329, Time=0.08 sec\n",
            " ARIMA(1,1,0)(0,0,0)[0] intercept   : AIC=1136.921, Time=0.11 sec\n",
            " ARIMA(0,1,1)(0,0,0)[0] intercept   : AIC=1135.614, Time=0.22 sec\n",
            " ARIMA(0,1,0)(0,0,0)[0]             : AIC=1136.329, Time=0.07 sec\n",
            " ARIMA(1,1,2)(0,0,0)[0] intercept   : AIC=1134.149, Time=1.37 sec\n",
            " ARIMA(0,1,2)(0,0,0)[0] intercept   : AIC=1134.991, Time=0.45 sec\n",
            " ARIMA(1,1,1)(0,0,0)[0] intercept   : AIC=1132.151, Time=0.44 sec\n",
            " ARIMA(2,1,1)(0,0,0)[0] intercept   : AIC=1134.149, Time=0.55 sec\n",
            " ARIMA(2,1,0)(0,0,0)[0] intercept   : AIC=1138.649, Time=0.30 sec\n",
            " ARIMA(1,1,1)(0,0,0)[0]             : AIC=1130.384, Time=0.24 sec\n",
            " ARIMA(0,1,1)(0,0,0)[0]             : AIC=1133.616, Time=0.14 sec\n",
            " ARIMA(1,1,0)(0,0,0)[0]             : AIC=1134.921, Time=0.13 sec\n",
            " ARIMA(2,1,1)(0,0,0)[0]             : AIC=1132.384, Time=0.23 sec\n",
            " ARIMA(1,1,2)(0,0,0)[0]             : AIC=1132.384, Time=0.43 sec\n",
            " ARIMA(0,1,2)(0,0,0)[0]             : AIC=1133.013, Time=0.19 sec\n",
            " ARIMA(2,1,0)(0,0,0)[0]             : AIC=1136.650, Time=0.21 sec\n",
            " ARIMA(2,1,2)(0,0,0)[0]             : AIC=1133.197, Time=0.52 sec\n",
            "\n",
            "Best model:  ARIMA(1,1,1)(0,0,0)[0]          \n",
            "Total fit time: 6.650 seconds\n"
          ]
        },
        {
          "output_type": "execute_result",
          "data": {
            "text/plain": [
              "<class 'statsmodels.iolib.summary.Summary'>\n",
              "\"\"\"\n",
              "                               SARIMAX Results                                \n",
              "==============================================================================\n",
              "Dep. Variable:                      y   No. Observations:                   72\n",
              "Model:               SARIMAX(1, 1, 1)   Log Likelihood                -562.192\n",
              "Date:                Mon, 06 Mar 2023   AIC                           1130.384\n",
              "Time:                        12:21:36   BIC                           1137.172\n",
              "Sample:                    03-07-2021   HQIC                          1133.083\n",
              "                         - 07-17-2022                                         \n",
              "Covariance Type:                  opg                                         \n",
              "==============================================================================\n",
              "                 coef    std err          z      P>|z|      [0.025      0.975]\n",
              "------------------------------------------------------------------------------\n",
              "ar.L1          0.5299      0.151      3.503      0.000       0.233       0.826\n",
              "ma.L1         -0.8654      0.104     -8.318      0.000      -1.069      -0.661\n",
              "sigma2      4.393e+05   4.23e+04     10.382      0.000    3.56e+05    5.22e+05\n",
              "===================================================================================\n",
              "Ljung-Box (L1) (Q):                   0.00   Jarque-Bera (JB):               144.13\n",
              "Prob(Q):                              0.96   Prob(JB):                         0.00\n",
              "Heteroskedasticity (H):             852.22   Skew:                             1.66\n",
              "Prob(H) (two-sided):                  0.00   Kurtosis:                         9.14\n",
              "===================================================================================\n",
              "\n",
              "Warnings:\n",
              "[1] Covariance matrix calculated using the outer product of gradients (complex-step).\n",
              "\"\"\""
            ],
            "text/html": [
              "<table class=\"simpletable\">\n",
              "<caption>SARIMAX Results</caption>\n",
              "<tr>\n",
              "  <th>Dep. Variable:</th>           <td>y</td>        <th>  No. Observations:  </th>    <td>72</td>   \n",
              "</tr>\n",
              "<tr>\n",
              "  <th>Model:</th>           <td>SARIMAX(1, 1, 1)</td> <th>  Log Likelihood     </th> <td>-562.192</td>\n",
              "</tr>\n",
              "<tr>\n",
              "  <th>Date:</th>            <td>Mon, 06 Mar 2023</td> <th>  AIC                </th> <td>1130.384</td>\n",
              "</tr>\n",
              "<tr>\n",
              "  <th>Time:</th>                <td>12:21:36</td>     <th>  BIC                </th> <td>1137.172</td>\n",
              "</tr>\n",
              "<tr>\n",
              "  <th>Sample:</th>             <td>03-07-2021</td>    <th>  HQIC               </th> <td>1133.083</td>\n",
              "</tr>\n",
              "<tr>\n",
              "  <th></th>                   <td>- 07-17-2022</td>   <th>                     </th>     <td> </td>   \n",
              "</tr>\n",
              "<tr>\n",
              "  <th>Covariance Type:</th>        <td>opg</td>       <th>                     </th>     <td> </td>   \n",
              "</tr>\n",
              "</table>\n",
              "<table class=\"simpletable\">\n",
              "<tr>\n",
              "     <td></td>       <th>coef</th>     <th>std err</th>      <th>z</th>      <th>P>|z|</th>  <th>[0.025</th>    <th>0.975]</th>  \n",
              "</tr>\n",
              "<tr>\n",
              "  <th>ar.L1</th>  <td>    0.5299</td> <td>    0.151</td> <td>    3.503</td> <td> 0.000</td> <td>    0.233</td> <td>    0.826</td>\n",
              "</tr>\n",
              "<tr>\n",
              "  <th>ma.L1</th>  <td>   -0.8654</td> <td>    0.104</td> <td>   -8.318</td> <td> 0.000</td> <td>   -1.069</td> <td>   -0.661</td>\n",
              "</tr>\n",
              "<tr>\n",
              "  <th>sigma2</th> <td> 4.393e+05</td> <td> 4.23e+04</td> <td>   10.382</td> <td> 0.000</td> <td> 3.56e+05</td> <td> 5.22e+05</td>\n",
              "</tr>\n",
              "</table>\n",
              "<table class=\"simpletable\">\n",
              "<tr>\n",
              "  <th>Ljung-Box (L1) (Q):</th>      <td>0.00</td>  <th>  Jarque-Bera (JB):  </th> <td>144.13</td>\n",
              "</tr>\n",
              "<tr>\n",
              "  <th>Prob(Q):</th>                 <td>0.96</td>  <th>  Prob(JB):          </th>  <td>0.00</td> \n",
              "</tr>\n",
              "<tr>\n",
              "  <th>Heteroskedasticity (H):</th> <td>852.22</td> <th>  Skew:              </th>  <td>1.66</td> \n",
              "</tr>\n",
              "<tr>\n",
              "  <th>Prob(H) (two-sided):</th>     <td>0.00</td>  <th>  Kurtosis:          </th>  <td>9.14</td> \n",
              "</tr>\n",
              "</table><br/><br/>Warnings:<br/>[1] Covariance matrix calculated using the outer product of gradients (complex-step)."
            ]
          },
          "metadata": {},
          "execution_count": 45
        }
      ]
    },
    {
      "cell_type": "code",
      "source": [
        "#Fitting model\n",
        "from statsmodels.tsa.arima.model import ARIMA\n",
        "# 2,1,3 ARIMA Model\n",
        "model = ARIMA(train, order=(1,1,1)) ### TEST q=1\n",
        "model_fit = model.fit()\n",
        "print(model_fit.summary())\n",
        "\n",
        "# Plot residual errors\n",
        "residuals = pd.DataFrame(model_fit.resid)\n",
        "fig, ax = plt.subplots(1,2)\n",
        "residuals.plot(title=\"Residuals\", ax=ax[0])\n",
        "residuals.plot(kind='kde', title='Density', ax=ax[1])\n",
        "plt.show()\n"
      ],
      "metadata": {
        "id": "4YQtPed7Iw9b",
        "colab": {
          "base_uri": "https://localhost:8080/",
          "height": 745
        },
        "outputId": "d9e043b8-3b21-4c50-da1e-39971def3421"
      },
      "execution_count": null,
      "outputs": [
        {
          "output_type": "stream",
          "name": "stdout",
          "text": [
            "                               SARIMAX Results                                \n",
            "==============================================================================\n",
            "Dep. Variable:              GroupSize   No. Observations:                   50\n",
            "Model:                 ARIMA(1, 1, 1)   Log Likelihood                -391.233\n",
            "Date:                Mon, 06 Mar 2023   AIC                            788.466\n",
            "Time:                        12:21:36   BIC                            794.142\n",
            "Sample:                    03-07-2021   HQIC                           790.619\n",
            "                         - 02-13-2022                                         \n",
            "Covariance Type:                  opg                                         \n",
            "==============================================================================\n",
            "                 coef    std err          z      P>|z|      [0.025      0.975]\n",
            "------------------------------------------------------------------------------\n",
            "ar.L1         -0.7191      0.364     -1.974      0.048      -1.433      -0.005\n",
            "ma.L1          0.5532      0.378      1.462      0.144      -0.188       1.295\n",
            "sigma2      5.038e+05   5.41e+04      9.307      0.000    3.98e+05     6.1e+05\n",
            "===================================================================================\n",
            "Ljung-Box (L1) (Q):                   0.02   Jarque-Bera (JB):                56.92\n",
            "Prob(Q):                              0.89   Prob(JB):                         0.00\n",
            "Heteroskedasticity (H):           23330.19   Skew:                             0.68\n",
            "Prob(H) (two-sided):                  0.00   Kurtosis:                         8.10\n",
            "===================================================================================\n",
            "\n",
            "Warnings:\n",
            "[1] Covariance matrix calculated using the outer product of gradients (complex-step).\n"
          ]
        },
        {
          "output_type": "display_data",
          "data": {
            "text/plain": [
              "<Figure size 432x288 with 2 Axes>"
            ],
            "image/png": "[encoded data removed]"
          },
          "metadata": {
            "needs_background": "light"
          }
        }
      ]
    },
    {
      "cell_type": "code",
      "source": [
        "start = len(train)\n",
        "\n",
        "end = len(train)+len(test)-1\n",
        "\n",
        "pred = model_fit.predict(start=start, end=end, typ='levels')\n",
        "print(pred)\n",
        "print(train)"
      ],
      "metadata": {
        "id": "4nuEmlH-I4rM",
        "colab": {
          "base_uri": "https://localhost:8080/"
        },
        "outputId": "79989b1e-2e06-4c0c-95d7-3427f1d208d0"
      },
      "execution_count": null,
      "outputs": [
        {
          "output_type": "stream",
          "name": "stdout",
          "text": [
            "2022-02-20    767.332861\n",
            "2022-02-27    621.120596\n",
            "2022-03-06    726.258676\n",
            "2022-03-13    650.656155\n",
            "2022-03-20    705.020294\n",
            "2022-03-27    665.928216\n",
            "2022-04-03    694.038484\n",
            "2022-04-10    673.824998\n",
            "2022-04-17    688.360079\n",
            "2022-04-24    677.908217\n",
            "2022-05-01    685.423925\n",
            "2022-05-08    680.019541\n",
            "2022-05-15    683.905717\n",
            "2022-05-22    681.111252\n",
            "2022-05-29    683.120691\n",
            "2022-06-05    681.675747\n",
            "2022-06-12    682.714775\n",
            "2022-06-19    681.967632\n",
            "2022-06-26    682.504887\n",
            "2022-07-03    682.118559\n",
            "2022-07-10    682.396359\n",
            "2022-07-17    682.196599\n",
            "Freq: W-SUN, Name: predicted_mean, dtype: float64\n",
            "StatusCreatedDate\n",
            "2021-03-07       1\n",
            "2021-03-14       2\n",
            "2021-03-21       2\n",
            "2021-03-28       0\n",
            "2021-04-04       0\n",
            "2021-04-11       0\n",
            "2021-04-18       0\n",
            "2021-04-25       2\n",
            "2021-05-02       2\n",
            "2021-05-09       0\n",
            "2021-05-16       0\n",
            "2021-05-23       0\n",
            "2021-05-30       3\n",
            "2021-06-06      15\n",
            "2021-06-13      18\n",
            "2021-06-20       7\n",
            "2021-06-27      20\n",
            "2021-07-04      54\n",
            "2021-07-11      55\n",
            "2021-07-18      70\n",
            "2021-07-25      70\n",
            "2021-08-01     123\n",
            "2021-08-08      87\n",
            "2021-08-15      40\n",
            "2021-08-22      94\n",
            "2021-08-29     129\n",
            "2021-09-05     470\n",
            "2021-09-12     396\n",
            "2021-09-19     501\n",
            "2021-09-26    1068\n",
            "2021-10-03    1880\n",
            "2021-10-10    4533\n",
            "2021-10-17    1937\n",
            "2021-10-24    2201\n",
            "2021-10-31    1281\n",
            "2021-11-07    2572\n",
            "2021-11-14    1953\n",
            "2021-11-21    1428\n",
            "2021-11-28    1313\n",
            "2021-12-05    1215\n",
            "2021-12-12    1533\n",
            "2021-12-19     756\n",
            "2021-12-26    1018\n",
            "2022-01-02     406\n",
            "2022-01-09     490\n",
            "2022-01-16    2079\n",
            "2022-01-23    3208\n",
            "2022-01-30    2845\n",
            "2022-02-06    2045\n",
            "2022-02-13     564\n",
            "Freq: W-SUN, Name: GroupSize, dtype: int64\n"
          ]
        }
      ]
    },
    {
      "cell_type": "code",
      "source": [
        "pred.index=dfPred.index[start:end+1]"
      ],
      "metadata": {
        "id": "mCdn-KJsI8LQ"
      },
      "execution_count": null,
      "outputs": []
    },
    {
      "cell_type": "code",
      "source": [
        "print(pred)\n"
      ],
      "metadata": {
        "id": "Z8SGaLUmJDv7",
        "colab": {
          "base_uri": "https://localhost:8080/"
        },
        "outputId": "7e01b4f6-9289-4799-c137-ba01d5c5005a"
      },
      "execution_count": null,
      "outputs": [
        {
          "output_type": "stream",
          "name": "stdout",
          "text": [
            "StatusCreatedDate\n",
            "2022-02-20    767.332861\n",
            "2022-02-27    621.120596\n",
            "2022-03-06    726.258676\n",
            "2022-03-13    650.656155\n",
            "2022-03-20    705.020294\n",
            "2022-03-27    665.928216\n",
            "2022-04-03    694.038484\n",
            "2022-04-10    673.824998\n",
            "2022-04-17    688.360079\n",
            "2022-04-24    677.908217\n",
            "2022-05-01    685.423925\n",
            "2022-05-08    680.019541\n",
            "2022-05-15    683.905717\n",
            "2022-05-22    681.111252\n",
            "2022-05-29    683.120691\n",
            "2022-06-05    681.675747\n",
            "2022-06-12    682.714775\n",
            "2022-06-19    681.967632\n",
            "2022-06-26    682.504887\n",
            "2022-07-03    682.118559\n",
            "2022-07-10    682.396359\n",
            "2022-07-17    682.196599\n",
            "Freq: W-SUN, Name: predicted_mean, dtype: float64\n"
          ]
        }
      ]
    },
    {
      "cell_type": "code",
      "source": [
        "pred.plot(legend=True, figsize=(12,5))\n",
        "\n",
        "test.plot(legend=True, figsize=(12,5))"
      ],
      "metadata": {
        "id": "ataFG0yEJIwj",
        "colab": {
          "base_uri": "https://localhost:8080/",
          "height": 363
        },
        "outputId": "638b17a9-2128-4004-adf2-e9c08fabc67d"
      },
      "execution_count": null,
      "outputs": [
        {
          "output_type": "execute_result",
          "data": {
            "text/plain": [
              "<AxesSubplot:xlabel='StatusCreatedDate'>"
            ]
          },
          "metadata": {},
          "execution_count": 50
        },
        {
          "output_type": "display_data",
          "data": {
            "text/plain": [
              "<Figure size 864x360 with 1 Axes>"
            ],
            "image/png": "[encoded data removed]"
          },
          "metadata": {
            "needs_background": "light"
          }
        }
      ]
    },
    {
      "cell_type": "code",
      "source": [
        "from sklearn.metrics import mean_absolute_error,mean_squared_error\n",
        "rf_mea = mean_absolute_error(test, pred)\n",
        "print(\"MAE: \", rf_mea)"
      ],
      "metadata": {
        "id": "ADKSJ27QJa9Z",
        "colab": {
          "base_uri": "https://localhost:8080/"
        },
        "outputId": "7d424a5f-21b9-43ad-9f76-b3c04e2eefcd"
      },
      "execution_count": null,
      "outputs": [
        {
          "output_type": "stream",
          "name": "stdout",
          "text": [
            "MAE:  522.7588031724063\n"
          ]
        }
      ]
    },
    {
      "cell_type": "code",
      "source": [
        "from statsmodels.tsa.arima_model import ARIMA\n",
        "model_fit.plot_diagnostics()\n",
        "# model_fit.plot_predict(dynamic=False)\n",
        "plt.show()"
      ],
      "metadata": {
        "id": "E0a0CoqfJfSO",
        "colab": {
          "base_uri": "https://localhost:8080/",
          "height": 295
        },
        "outputId": "2d1ca6d8-fbd3-44bd-82ae-e91dab28eddc"
      },
      "execution_count": null,
      "outputs": [
        {
          "output_type": "display_data",
          "data": {
            "text/plain": [
              "<Figure size 432x288 with 4 Axes>"
            ],
            "image/png": "[encoded data removed]"
          },
          "metadata": {
            "needs_background": "light"
          }
        }
      ]
    },
    {
      "cell_type": "markdown",
      "source": [
        "# prediction using XGboost"
      ],
      "metadata": {
        "id": "MSchSJnOdlN5"
      }
    },
    {
      "cell_type": "code",
      "source": [
        "def create_features(dfs):\n",
        "    \"\"\"\n",
        "    Create time series features based on time series index.\n",
        "    \"\"\"\n",
        "    dfs = dfs.copy()\n",
        "    dfs['hour'] = dfs.index.hour\n",
        "    dfs['dayofweek'] = dfs.index.dayofweek\n",
        "    dfs['quarter'] = dfs.index.quarter\n",
        "    dfs['month'] = dfs.index.month\n",
        "    dfs['year'] = dfs.index.year\n",
        "    dfs['dayofyear'] = dfs.index.dayofyear\n",
        "    dfs['dayofmonth'] = dfs.index.day\n",
        "    dfs['weekofyear'] = dfs.index.isocalendar().week\n",
        "    return dfs\n",
        "\n",
        "dfs = create_features(dfPred)"
      ],
      "metadata": {
        "id": "HthDiAUkJiqt"
      },
      "execution_count": null,
      "outputs": []
    },
    {
      "cell_type": "code",
      "source": [
        "dfs.head()"
      ],
      "metadata": {
        "colab": {
          "base_uri": "https://localhost:8080/",
          "height": 301
        },
        "id": "pOHkpljzmoLc",
        "outputId": "38a648d3-86b0-4e49-b330-f94dc0e1eb32"
      },
      "execution_count": null,
      "outputs": [
        {
          "output_type": "execute_result",
          "data": {
            "text/plain": [
              "                   EventType  GroupSize  IsLeadAttendee  AttendeeGrossCost  \\\n",
              "StatusCreatedDate                                                            \n",
              "2021-03-07                 8          1               1                0.0   \n",
              "2021-03-14                14          2               2                0.0   \n",
              "2021-03-21                14          2               2                0.0   \n",
              "2021-03-28                 0          0               0                0.0   \n",
              "2021-04-04                 0          0               0                0.0   \n",
              "\n",
              "                   EventId  BookingStatus  ClientId  days_to_event  Season  \\\n",
              "StatusCreatedDate                                                            \n",
              "2021-03-07           24077              0       219     161.939583       3   \n",
              "2021-03-14           48148              0       438      88.843056       6   \n",
              "2021-03-21           48148              0       438     429.786111       6   \n",
              "2021-03-28               0              0         0       0.000000       0   \n",
              "2021-04-04               0              0         0       0.000000       0   \n",
              "\n",
              "                   cum_booking  hour  dayofweek  quarter  month  year  \\\n",
              "StatusCreatedDate                                                       \n",
              "2021-03-07               11110     0          6        1      3  2021   \n",
              "2021-03-14               38018     0          6        1      3  2021   \n",
              "2021-03-21               60359     0          6        1      3  2021   \n",
              "2021-03-28                   0     0          6        1      3  2021   \n",
              "2021-04-04                   0     0          6        2      4  2021   \n",
              "\n",
              "                   dayofyear  dayofmonth  weekofyear  \n",
              "StatusCreatedDate                                     \n",
              "2021-03-07                66           7           9  \n",
              "2021-03-14                73          14          10  \n",
              "2021-03-21                80          21          11  \n",
              "2021-03-28                87          28          12  \n",
              "2021-04-04                94           4          13  "
            ],
            "text/html": [
              "\n",
              "  <div id=\"df-7c03f630-f89f-47a2-ab5f-d01fb34f290f\">\n",
              "    <div class=\"colab-df-container\">\n",
              "      <div>\n",
              "<style scoped>\n",
              "    .dataframe tbody tr th:only-of-type {\n",
              "        vertical-align: middle;\n",
              "    }\n",
              "\n",
              "    .dataframe tbody tr th {\n",
              "        vertical-align: top;\n",
              "    }\n",
              "\n",
              "    .dataframe thead th {\n",
              "        text-align: right;\n",
              "    }\n",
              "</style>\n",
              "<table border=\"1\" class=\"dataframe\">\n",
              "  <thead>\n",
              "    <tr style=\"text-align: right;\">\n",
              "      <th></th>\n",
              "      <th>EventType</th>\n",
              "      <th>GroupSize</th>\n",
              "      <th>IsLeadAttendee</th>\n",
              "      <th>AttendeeGrossCost</th>\n",
              "      <th>EventId</th>\n",
              "      <th>BookingStatus</th>\n",
              "      <th>ClientId</th>\n",
              "      <th>days_to_event</th>\n",
              "      <th>Season</th>\n",
              "      <th>cum_booking</th>\n",
              "      <th>hour</th>\n",
              "      <th>dayofweek</th>\n",
              "      <th>quarter</th>\n",
              "      <th>month</th>\n",
              "      <th>year</th>\n",
              "      <th>dayofyear</th>\n",
              "      <th>dayofmonth</th>\n",
              "      <th>weekofyear</th>\n",
              "    </tr>\n",
              "    <tr>\n",
              "      <th>StatusCreatedDate</th>\n",
              "      <th></th>\n",
              "      <th></th>\n",
              "      <th></th>\n",
              "      <th></th>\n",
              "      <th></th>\n",
              "      <th></th>\n",
              "      <th></th>\n",
              "      <th></th>\n",
              "      <th></th>\n",
              "      <th></th>\n",
              "      <th></th>\n",
              "      <th></th>\n",
              "      <th></th>\n",
              "      <th></th>\n",
              "      <th></th>\n",
              "      <th></th>\n",
              "      <th></th>\n",
              "      <th></th>\n",
              "    </tr>\n",
              "  </thead>\n",
              "  <tbody>\n",
              "    <tr>\n",
              "      <th>2021-03-07</th>\n",
              "      <td>8</td>\n",
              "      <td>1</td>\n",
              "      <td>1</td>\n",
              "      <td>0.0</td>\n",
              "      <td>24077</td>\n",
              "      <td>0</td>\n",
              "      <td>219</td>\n",
              "      <td>161.939583</td>\n",
              "      <td>3</td>\n",
              "      <td>11110</td>\n",
              "      <td>0</td>\n",
              "      <td>6</td>\n",
              "      <td>1</td>\n",
              "      <td>3</td>\n",
              "      <td>2021</td>\n",
              "      <td>66</td>\n",
              "      <td>7</td>\n",
              "      <td>9</td>\n",
              "    </tr>\n",
              "    <tr>\n",
              "      <th>2021-03-14</th>\n",
              "      <td>14</td>\n",
              "      <td>2</td>\n",
              "      <td>2</td>\n",
              "      <td>0.0</td>\n",
              "      <td>48148</td>\n",
              "      <td>0</td>\n",
              "      <td>438</td>\n",
              "      <td>88.843056</td>\n",
              "      <td>6</td>\n",
              "      <td>38018</td>\n",
              "      <td>0</td>\n",
              "      <td>6</td>\n",
              "      <td>1</td>\n",
              "      <td>3</td>\n",
              "      <td>2021</td>\n",
              "      <td>73</td>\n",
              "      <td>14</td>\n",
              "      <td>10</td>\n",
              "    </tr>\n",
              "    <tr>\n",
              "      <th>2021-03-21</th>\n",
              "      <td>14</td>\n",
              "      <td>2</td>\n",
              "      <td>2</td>\n",
              "      <td>0.0</td>\n",
              "      <td>48148</td>\n",
              "      <td>0</td>\n",
              "      <td>438</td>\n",
              "      <td>429.786111</td>\n",
              "      <td>6</td>\n",
              "      <td>60359</td>\n",
              "      <td>0</td>\n",
              "      <td>6</td>\n",
              "      <td>1</td>\n",
              "      <td>3</td>\n",
              "      <td>2021</td>\n",
              "      <td>80</td>\n",
              "      <td>21</td>\n",
              "      <td>11</td>\n",
              "    </tr>\n",
              "    <tr>\n",
              "      <th>2021-03-28</th>\n",
              "      <td>0</td>\n",
              "      <td>0</td>\n",
              "      <td>0</td>\n",
              "      <td>0.0</td>\n",
              "      <td>0</td>\n",
              "      <td>0</td>\n",
              "      <td>0</td>\n",
              "      <td>0.000000</td>\n",
              "      <td>0</td>\n",
              "      <td>0</td>\n",
              "      <td>0</td>\n",
              "      <td>6</td>\n",
              "      <td>1</td>\n",
              "      <td>3</td>\n",
              "      <td>2021</td>\n",
              "      <td>87</td>\n",
              "      <td>28</td>\n",
              "      <td>12</td>\n",
              "    </tr>\n",
              "    <tr>\n",
              "      <th>2021-04-04</th>\n",
              "      <td>0</td>\n",
              "      <td>0</td>\n",
              "      <td>0</td>\n",
              "      <td>0.0</td>\n",
              "      <td>0</td>\n",
              "      <td>0</td>\n",
              "      <td>0</td>\n",
              "      <td>0.000000</td>\n",
              "      <td>0</td>\n",
              "      <td>0</td>\n",
              "      <td>0</td>\n",
              "      <td>6</td>\n",
              "      <td>2</td>\n",
              "      <td>4</td>\n",
              "      <td>2021</td>\n",
              "      <td>94</td>\n",
              "      <td>4</td>\n",
              "      <td>13</td>\n",
              "    </tr>\n",
              "  </tbody>\n",
              "</table>\n",
              "</div>\n",
              "      <button class=\"colab-df-convert\" onclick=\"convertToInteractive('df-7c03f630-f89f-47a2-ab5f-d01fb34f290f')\"\n",
              "              title=\"Convert this dataframe to an interactive table.\"\n",
              "              style=\"display:none;\">\n",
              "        \n",
              "  <svg xmlns=\"http://www.w3.org/2000/svg\" height=\"24px\"viewBox=\"0 0 24 24\"\n",
              "       width=\"24px\">\n",
              "    <path d=\"M0 0h24v24H0V0z\" fill=\"none\"/>\n",
              "    <path d=\"M18.56 5.44l.94 2.06.94-2.06 2.06-.94-2.06-.94-.94-2.06-.94 2.06-2.06.94zm-11 1L8.5 8.5l.94-2.06 2.06-.94-2.06-.94L8.5 2.5l-.94 2.06-2.06.94zm10 10l.94 2.06.94-2.06 2.06-.94-2.06-.94-.94-2.06-.94 2.06-2.06.94z\"/><path d=\"M17.41 7.96l-1.37-1.37c-.4-.4-.92-.59-1.43-.59-.52 0-1.04.2-1.43.59L10.3 9.45l-7.72 7.72c-.78.78-.78 2.05 0 2.83L4 21.41c.39.39.9.59 1.41.59.51 0 1.02-.2 1.41-.59l7.78-7.78 2.81-2.81c.8-.78.8-2.07 0-2.86zM5.41 20L4 18.59l7.72-7.72 1.47 1.35L5.41 20z\"/>\n",
              "  </svg>\n",
              "      </button>\n",
              "      \n",
              "  <style>\n",
              "    .colab-df-container {\n",
              "      display:flex;\n",
              "      flex-wrap:wrap;\n",
              "      gap: 12px;\n",
              "    }\n",
              "\n",
              "    .colab-df-convert {\n",
              "      background-color: #E8F0FE;\n",
              "      border: none;\n",
              "      border-radius: 50%;\n",
              "      cursor: pointer;\n",
              "      display: none;\n",
              "      fill: #1967D2;\n",
              "      height: 32px;\n",
              "      padding: 0 0 0 0;\n",
              "      width: 32px;\n",
              "    }\n",
              "\n",
              "    .colab-df-convert:hover {\n",
              "      background-color: #E2EBFA;\n",
              "      box-shadow: 0px 1px 2px rgba(60, 64, 67, 0.3), 0px 1px 3px 1px rgba(60, 64, 67, 0.15);\n",
              "      fill: #174EA6;\n",
              "    }\n",
              "\n",
              "    [theme=dark] .colab-df-convert {\n",
              "      background-color: #3B4455;\n",
              "      fill: #D2E3FC;\n",
              "    }\n",
              "\n",
              "    [theme=dark] .colab-df-convert:hover {\n",
              "      background-color: #434B5C;\n",
              "      box-shadow: 0px 1px 3px 1px rgba(0, 0, 0, 0.15);\n",
              "      filter: drop-shadow(0px 1px 2px rgba(0, 0, 0, 0.3));\n",
              "      fill: #FFFFFF;\n",
              "    }\n",
              "  </style>\n",
              "\n",
              "      <script>\n",
              "        const buttonEl =\n",
              "          document.querySelector('#df-7c03f630-f89f-47a2-ab5f-d01fb34f290f button.colab-df-convert');\n",
              "        buttonEl.style.display =\n",
              "          google.colab.kernel.accessAllowed ? 'block' : 'none';\n",
              "\n",
              "        async function convertToInteractive(key) {\n",
              "          const element = document.querySelector('#df-7c03f630-f89f-47a2-ab5f-d01fb34f290f');\n",
              "          const dataTable =\n",
              "            await google.colab.kernel.invokeFunction('convertToInteractive',\n",
              "                                                     [key], {});\n",
              "          if (!dataTable) return;\n",
              "\n",
              "          const docLinkHtml = 'Like what you see? Visit the ' +\n",
              "            '<a target=\"_blank\" href=https://colab.research.google.com/notebooks/data_table.ipynb>data table notebook</a>'\n",
              "            + ' to learn more about interactive tables.';\n",
              "          element.innerHTML = '';\n",
              "          dataTable['output_type'] = 'display_data';\n",
              "          await google.colab.output.renderOutput(dataTable, element);\n",
              "          const docLink = document.createElement('div');\n",
              "          docLink.innerHTML = docLinkHtml;\n",
              "          element.appendChild(docLink);\n",
              "        }\n",
              "      </script>\n",
              "    </div>\n",
              "  </div>\n",
              "  "
            ]
          },
          "metadata": {},
          "execution_count": 54
        }
      ]
    },
    {
      "cell_type": "code",
      "source": [
        "dfs.info()"
      ],
      "metadata": {
        "colab": {
          "base_uri": "https://localhost:8080/"
        },
        "id": "ffSCghLci_RU",
        "outputId": "0d894797-d950-430b-8df4-a68385fd9ce7"
      },
      "execution_count": null,
      "outputs": [
        {
          "output_type": "stream",
          "name": "stdout",
          "text": [
            "<class 'pandas.core.frame.DataFrame'>\n",
            "DatetimeIndex: 72 entries, 2021-03-07 to 2022-07-17\n",
            "Freq: W-SUN\n",
            "Data columns (total 18 columns):\n",
            " #   Column             Non-Null Count  Dtype  \n",
            "---  ------             --------------  -----  \n",
            " 0   EventType          72 non-null     int64  \n",
            " 1   GroupSize          72 non-null     int64  \n",
            " 2   IsLeadAttendee     72 non-null     int64  \n",
            " 3   AttendeeGrossCost  72 non-null     float64\n",
            " 4   EventId            72 non-null     int64  \n",
            " 5   BookingStatus      72 non-null     int64  \n",
            " 6   ClientId           72 non-null     int64  \n",
            " 7   days_to_event      72 non-null     float64\n",
            " 8   Season             72 non-null     int64  \n",
            " 9   cum_booking        72 non-null     int64  \n",
            " 10  hour               72 non-null     int64  \n",
            " 11  dayofweek          72 non-null     int64  \n",
            " 12  quarter            72 non-null     int64  \n",
            " 13  month              72 non-null     int64  \n",
            " 14  year               72 non-null     int64  \n",
            " 15  dayofyear          72 non-null     int64  \n",
            " 16  dayofmonth         72 non-null     int64  \n",
            " 17  weekofyear         72 non-null     UInt32 \n",
            "dtypes: UInt32(1), float64(2), int64(15)\n",
            "memory usage: 10.5 KB\n"
          ]
        }
      ]
    },
    {
      "cell_type": "code",
      "source": [
        "from sklearn.model_selection import train_test_split\n",
        "train,test = train_test_split(dfs, test_size=.3, shuffle=False)"
      ],
      "metadata": {
        "id": "XJr6stGFJtWn"
      },
      "execution_count": null,
      "outputs": []
    },
    {
      "cell_type": "code",
      "source": [
        "train = create_features(train)\n",
        "test = create_features(test)\n",
        "\n",
        "FEATURES = ['EventType','Season','days_to_event','BookingStatus','dayofyear', 'hour', 'dayofweek', 'quarter', 'month', 'year']\n",
        "TARGET = 'GroupSize'\n",
        "\n",
        "X_train = train[FEATURES]\n",
        "y_train = train[TARGET]\n",
        "\n",
        "X_test = test[FEATURES]\n",
        "y_test = test[TARGET]"
      ],
      "metadata": {
        "id": "zaJ7dVOBKlsz"
      },
      "execution_count": null,
      "outputs": []
    },
    {
      "cell_type": "code",
      "source": [
        "import xgboost as xgb\n",
        "from sklearn.metrics import mean_squared_error\n",
        "color_pal = sns.color_palette()\n",
        "plt.style.use('fivethirtyeight')"
      ],
      "metadata": {
        "id": "BYPLjZT1KpHf"
      },
      "execution_count": null,
      "outputs": []
    },
    {
      "cell_type": "code",
      "source": [
        "reg = xgb.XGBRegressor(base_score=0.5, booster='gbtree',    \n",
        "                       n_estimators=1000,\n",
        "                       early_stopping_rounds=50,\n",
        "                       objective='reg:linear',\n",
        "                       max_depth=3,\n",
        "                       learning_rate=0.01)\n",
        "reg.fit(X_train, y_train,\n",
        "        eval_set=[(X_train, y_train), (X_test, y_test)],\n",
        "        verbose=100)"
      ],
      "metadata": {
        "colab": {
          "base_uri": "https://localhost:8080/",
          "height": 467
        },
        "id": "iq1Rwo7aK4kD",
        "outputId": "445348e8-a8cd-4b8a-9d3d-ae5c9baea478"
      },
      "execution_count": null,
      "outputs": [
        {
          "output_type": "stream",
          "name": "stdout",
          "text": [
            "[12:35:05] WARNING: ../src/objective/regression_obj.cu:213: reg:linear is now deprecated in favor of reg:squarederror.\n",
            "[0]\tvalidation_0-rmse:1280.51430\tvalidation_1-rmse:1194.27737\n",
            "[100]\tvalidation_0-rmse:587.70309\tvalidation_1-rmse:490.82873\n",
            "[200]\tvalidation_0-rmse:300.65620\tvalidation_1-rmse:243.74497\n",
            "[300]\tvalidation_0-rmse:167.98442\tvalidation_1-rmse:153.23328\n",
            "[400]\tvalidation_0-rmse:99.33227\tvalidation_1-rmse:127.32249\n",
            "[500]\tvalidation_0-rmse:60.70116\tvalidation_1-rmse:117.78708\n",
            "[600]\tvalidation_0-rmse:37.86866\tvalidation_1-rmse:116.49158\n",
            "[700]\tvalidation_0-rmse:24.15314\tvalidation_1-rmse:115.55071\n",
            "[800]\tvalidation_0-rmse:15.86429\tvalidation_1-rmse:113.07165\n",
            "[900]\tvalidation_0-rmse:11.02208\tvalidation_1-rmse:111.71579\n",
            "[999]\tvalidation_0-rmse:8.09928\tvalidation_1-rmse:110.69435\n"
          ]
        },
        {
          "output_type": "execute_result",
          "data": {
            "text/plain": [
              "XGBRegressor(base_score=0.5, booster='gbtree', callbacks=None,\n",
              "             colsample_bylevel=None, colsample_bynode=None,\n",
              "             colsample_bytree=None, early_stopping_rounds=50,\n",
              "             enable_categorical=False, eval_metric=None, feature_types=None,\n",
              "             gamma=None, gpu_id=None, grow_policy=None, importance_type=None,\n",
              "             interaction_constraints=None, learning_rate=0.01, max_bin=None,\n",
              "             max_cat_threshold=None, max_cat_to_onehot=None,\n",
              "             max_delta_step=None, max_depth=3, max_leaves=None,\n",
              "             min_child_weight=None, missing=nan, monotone_constraints=None,\n",
              "             n_estimators=1000, n_jobs=None, num_parallel_tree=None,\n",
              "             objective='reg:linear', predictor=None, ...)"
            ],
            "text/html": [
              "<style>#sk-container-id-2 {color: black;background-color: white;}#sk-container-id-2 pre{padding: 0;}#sk-container-id-2 div.sk-toggleable {background-color: white;}#sk-container-id-2 label.sk-toggleable__label {cursor: pointer;display: block;width: 100%;margin-bottom: 0;padding: 0.3em;box-sizing: border-box;text-align: center;}#sk-container-id-2 label.sk-toggleable__label-arrow:before {content: \"▸\";float: left;margin-right: 0.25em;color: #696969;}#sk-container-id-2 label.sk-toggleable__label-arrow:hover:before {color: black;}#sk-container-id-2 div.sk-estimator:hover label.sk-toggleable__label-arrow:before {color: black;}#sk-container-id-2 div.sk-toggleable__content {max-height: 0;max-width: 0;overflow: hidden;text-align: left;background-color: #f0f8ff;}#sk-container-id-2 div.sk-toggleable__content pre {margin: 0.2em;color: black;border-radius: 0.25em;background-color: #f0f8ff;}#sk-container-id-2 input.sk-toggleable__control:checked~div.sk-toggleable__content {max-height: 200px;max-width: 100%;overflow: auto;}#sk-container-id-2 input.sk-toggleable__control:checked~label.sk-toggleable__label-arrow:before {content: \"▾\";}#sk-container-id-2 div.sk-estimator input.sk-toggleable__control:checked~label.sk-toggleable__label {background-color: #d4ebff;}#sk-container-id-2 div.sk-label input.sk-toggleable__control:checked~label.sk-toggleable__label {background-color: #d4ebff;}#sk-container-id-2 input.sk-hidden--visually {border: 0;clip: rect(1px 1px 1px 1px);clip: rect(1px, 1px, 1px, 1px);height: 1px;margin: -1px;overflow: hidden;padding: 0;position: absolute;width: 1px;}#sk-container-id-2 div.sk-estimator {font-family: monospace;background-color: #f0f8ff;border: 1px dotted black;border-radius: 0.25em;box-sizing: border-box;margin-bottom: 0.5em;}#sk-container-id-2 div.sk-estimator:hover {background-color: #d4ebff;}#sk-container-id-2 div.sk-parallel-item::after {content: \"\";width: 100%;border-bottom: 1px solid gray;flex-grow: 1;}#sk-container-id-2 div.sk-label:hover label.sk-toggleable__label {background-color: #d4ebff;}#sk-container-id-2 div.sk-serial::before {content: \"\";position: absolute;border-left: 1px solid gray;box-sizing: border-box;top: 0;bottom: 0;left: 50%;z-index: 0;}#sk-container-id-2 div.sk-serial {display: flex;flex-direction: column;align-items: center;background-color: white;padding-right: 0.2em;padding-left: 0.2em;position: relative;}#sk-container-id-2 div.sk-item {position: relative;z-index: 1;}#sk-container-id-2 div.sk-parallel {display: flex;align-items: stretch;justify-content: center;background-color: white;position: relative;}#sk-container-id-2 div.sk-item::before, #sk-container-id-2 div.sk-parallel-item::before {content: \"\";position: absolute;border-left: 1px solid gray;box-sizing: border-box;top: 0;bottom: 0;left: 50%;z-index: -1;}#sk-container-id-2 div.sk-parallel-item {display: flex;flex-direction: column;z-index: 1;position: relative;background-color: white;}#sk-container-id-2 div.sk-parallel-item:first-child::after {align-self: flex-end;width: 50%;}#sk-container-id-2 div.sk-parallel-item:last-child::after {align-self: flex-start;width: 50%;}#sk-container-id-2 div.sk-parallel-item:only-child::after {width: 0;}#sk-container-id-2 div.sk-dashed-wrapped {border: 1px dashed gray;margin: 0 0.4em 0.5em 0.4em;box-sizing: border-box;padding-bottom: 0.4em;background-color: white;}#sk-container-id-2 div.sk-label label {font-family: monospace;font-weight: bold;display: inline-block;line-height: 1.2em;}#sk-container-id-2 div.sk-label-container {text-align: center;}#sk-container-id-2 div.sk-container {/* jupyter's `normalize.less` sets `[hidden] { display: none; }` but bootstrap.min.css set `[hidden] { display: none !important; }` so we also need the `!important` here to be able to override the default hidden behavior on the sphinx rendered scikit-learn.org. See: https://github.com/scikit-learn/scikit-learn/issues/21755 */display: inline-block !important;position: relative;}#sk-container-id-2 div.sk-text-repr-fallback {display: none;}</style><div id=\"sk-container-id-2\" class=\"sk-top-container\"><div class=\"sk-text-repr-fallback\"><pre>XGBRegressor(base_score=0.5, booster=&#x27;gbtree&#x27;, callbacks=None,\n",
              "             colsample_bylevel=None, colsample_bynode=None,\n",
              "             colsample_bytree=None, early_stopping_rounds=50,\n",
              "             enable_categorical=False, eval_metric=None, feature_types=None,\n",
              "             gamma=None, gpu_id=None, grow_policy=None, importance_type=None,\n",
              "             interaction_constraints=None, learning_rate=0.01, max_bin=None,\n",
              "             max_cat_threshold=None, max_cat_to_onehot=None,\n",
              "             max_delta_step=None, max_depth=3, max_leaves=None,\n",
              "             min_child_weight=None, missing=nan, monotone_constraints=None,\n",
              "             n_estimators=1000, n_jobs=None, num_parallel_tree=None,\n",
              "             objective=&#x27;reg:linear&#x27;, predictor=None, ...)</pre><b>In a Jupyter environment, please rerun this cell to show the HTML representation or trust the notebook. <br />On GitHub, the HTML representation is unable to render, please try loading this page with nbviewer.org.</b></div><div class=\"sk-container\" hidden><div class=\"sk-item\"><div class=\"sk-estimator sk-toggleable\"><input class=\"sk-toggleable__control sk-hidden--visually\" id=\"sk-estimator-id-2\" type=\"checkbox\" checked><label for=\"sk-estimator-id-2\" class=\"sk-toggleable__label sk-toggleable__label-arrow\">XGBRegressor</label><div class=\"sk-toggleable__content\"><pre>XGBRegressor(base_score=0.5, booster=&#x27;gbtree&#x27;, callbacks=None,\n",
              "             colsample_bylevel=None, colsample_bynode=None,\n",
              "             colsample_bytree=None, early_stopping_rounds=50,\n",
              "             enable_categorical=False, eval_metric=None, feature_types=None,\n",
              "             gamma=None, gpu_id=None, grow_policy=None, importance_type=None,\n",
              "             interaction_constraints=None, learning_rate=0.01, max_bin=None,\n",
              "             max_cat_threshold=None, max_cat_to_onehot=None,\n",
              "             max_delta_step=None, max_depth=3, max_leaves=None,\n",
              "             min_child_weight=None, missing=nan, monotone_constraints=None,\n",
              "             n_estimators=1000, n_jobs=None, num_parallel_tree=None,\n",
              "             objective=&#x27;reg:linear&#x27;, predictor=None, ...)</pre></div></div></div></div></div>"
            ]
          },
          "metadata": {},
          "execution_count": 80
        }
      ]
    },
    {
      "cell_type": "code",
      "source": [
        "fi = pd.DataFrame(data=reg.feature_importances_, index= reg.get_booster().feature_names,\n",
        "             columns=['importance'])\n",
        "fi.sort_values('importance').plot(kind='barh', title='Feature Importance')\n",
        "plt.show()"
      ],
      "metadata": {
        "colab": {
          "base_uri": "https://localhost:8080/",
          "height": 303
        },
        "id": "VWrhVSinK6dO",
        "outputId": "f360296b-3a4e-4a26-dbb8-06f19e1a0f8d"
      },
      "execution_count": null,
      "outputs": [
        {
          "output_type": "display_data",
          "data": {
            "text/plain": [
              "<Figure size 432x288 with 1 Axes>"
            ],
            "image/png": "[encoded data removed]"
          },
          "metadata": {}
        }
      ]
    },
    {
      "cell_type": "code",
      "source": [
        "test['prediction'] = reg.predict(X_test)\n",
        "dfs = dfs.merge(test[['prediction']], how='left', left_index=True, right_index=True)\n",
        "ax = dfs[['GroupSize']].plot(figsize=(15, 5))\n",
        "test['prediction'].plot(legend=True)\n",
        "plt.legend(['Truth Data', 'Predictions'])\n",
        "ax.set_title('Raw Dat and Prediction')\n",
        "plt.show()"
      ],
      "metadata": {
        "colab": {
          "base_uri": "https://localhost:8080/",
          "height": 399
        },
        "id": "si6kKuM0LAJ5",
        "outputId": "652cf799-d8e3-4df7-b10f-ea962d7be4d6"
      },
      "execution_count": null,
      "outputs": [
        {
          "output_type": "display_data",
          "data": {
            "text/plain": [
              "<Figure size 1080x360 with 1 Axes>"
            ],
            "image/png": "[encoded data removed]"
          },
          "metadata": {}
        }
      ]
    },
    {
      "cell_type": "code",
      "source": [
        "score = np.sqrt(mean_squared_error(test['GroupSize'], test['prediction']))\n",
        "print(f'RMSE Score on Test set: {score:0.2f}')"
      ],
      "metadata": {
        "colab": {
          "base_uri": "https://localhost:8080/"
        },
        "id": "c8zEQHRELFlx",
        "outputId": "14cbdf4b-9f6d-45b2-99d4-9b2779741400"
      },
      "execution_count": null,
      "outputs": [
        {
          "output_type": "stream",
          "name": "stdout",
          "text": [
            "RMSE Score on Test set: 110.69\n"
          ]
        }
      ]
    },
    {
      "cell_type": "code",
      "source": [
        "test['GroupSize'].plot(legend=True, figsize=(12,5))\n",
        "test['prediction'].plot(legend=True, figsize=(12,5))\n",
        "# style='.'\n",
        "# test['GroupSize'].plot(legend=True, figsize=(12,5))"
      ],
      "metadata": {
        "colab": {
          "base_uri": "https://localhost:8080/",
          "height": 396
        },
        "id": "TMp1WEipLIwv",
        "outputId": "8da36309-333a-42b9-884f-46e832fe0019"
      },
      "execution_count": null,
      "outputs": [
        {
          "output_type": "execute_result",
          "data": {
            "text/plain": [
              "<AxesSubplot:xlabel='StatusCreatedDate'>"
            ]
          },
          "metadata": {},
          "execution_count": 84
        },
        {
          "output_type": "display_data",
          "data": {
            "text/plain": [
              "<Figure size 864x360 with 1 Axes>"
            ],
            "image/png": "[encoded data removed]"
          },
          "metadata": {}
        }
      ]
    },
    {
      "cell_type": "code",
      "source": [
        "# plt.figure(figsize=(20,10))\n",
        "# sns.heatmap(dfs.corr(), annot = True)"
      ],
      "metadata": {
        "id": "qS7ez2slLM8s"
      },
      "execution_count": null,
      "outputs": []
    },
    {
      "cell_type": "code",
      "source": [
        "test['cum_prediction'] = test['prediction'].cumsum(axis=0)"
      ],
      "metadata": {
        "id": "fpvPBFbILrFG"
      },
      "execution_count": null,
      "outputs": []
    },
    {
      "cell_type": "code",
      "source": [
        "test"
      ],
      "metadata": {
        "colab": {
          "base_uri": "https://localhost:8080/",
          "height": 834
        },
        "id": "Y2p1zoVE36FB",
        "outputId": "b6d3e436-8d38-4898-d0fe-168d43e60b82"
      },
      "execution_count": null,
      "outputs": [
        {
          "output_type": "execute_result",
          "data": {
            "text/plain": [
              "                   EventType  GroupSize  IsLeadAttendee  AttendeeGrossCost  \\\n",
              "StatusCreatedDate                                                            \n",
              "2022-02-20              8838       1206            1206             5625.0   \n",
              "2022-02-27             10477       1456            1460             7735.0   \n",
              "2022-03-06             13130       1854            1859             5165.0   \n",
              "2022-03-13              4709        645             645             5635.0   \n",
              "2022-03-20             10931       1692            1692             7490.0   \n",
              "2022-03-27              5288        908             916             6289.0   \n",
              "2022-04-03              4279        705             708            11816.0   \n",
              "2022-04-10              2216        382             385             4885.0   \n",
              "2022-04-17              2552        381             381             2650.0   \n",
              "2022-04-24              8460       1135            1140             6621.0   \n",
              "2022-05-01             16820       2631            2632             6894.0   \n",
              "2022-05-08             11982       1772            1773             6880.0   \n",
              "2022-05-15              5555        820             820             1655.0   \n",
              "2022-05-22             11546       1678            1679             8957.0   \n",
              "2022-05-29              8154       1264            1264             4280.5   \n",
              "2022-06-05              7441       1070            1071             6890.0   \n",
              "2022-06-12              4187        599             599             1790.0   \n",
              "2022-06-19              5502        945             947             1130.0   \n",
              "2022-06-26              5107        838             839             2565.0   \n",
              "2022-07-03              4145        686             686             1320.0   \n",
              "2022-07-10              1340        209             209              240.0   \n",
              "2022-07-17                24          4               4                0.0   \n",
              "\n",
              "                    EventId  BookingStatus  ClientId  days_to_event  Season  \\\n",
              "StatusCreatedDate                                                             \n",
              "2022-02-20         30794637              0    264114   35132.865972    3618   \n",
              "2022-02-27         37389105              4    319740   54638.872917    4380   \n",
              "2022-03-06         47629856              5    407121  187388.145139    5577   \n",
              "2022-03-13         16524083              0    141255   22172.561806    1935   \n",
              "2022-03-20         43386110              0    370548   41766.588194    5076   \n",
              "2022-03-27         23592855              8    200604   45523.724306    2748   \n",
              "2022-04-03         18242388              3    155052   47665.093750    1800   \n",
              "2022-04-10          9965654              3     84315   30632.979167     385   \n",
              "2022-04-17          9888034              0     83439   16987.240278     381   \n",
              "2022-04-24         29552345              5    249660   51337.269444    1140   \n",
              "2022-05-01         68405499              1    576408  160381.293750    2632   \n",
              "2022-05-08         46128262              1    388287  159339.768750    1773   \n",
              "2022-05-15         21312790              0    179580   17634.643750     820   \n",
              "2022-05-22         43695880              1    367701   32714.963194    1679   \n",
              "2022-05-29         32967652              0    276816   35757.634722    1264   \n",
              "2022-06-05         27965705              1    234549   86321.356944    1071   \n",
              "2022-06-12         15618874              0    131181   19424.193750     599   \n",
              "2022-06-19         24762078              2    207393    7989.601389     947   \n",
              "2022-06-26         21954042              1    183741    5038.075000     839   \n",
              "2022-07-03         17980886              0    150234   30980.154167     903   \n",
              "2022-07-10          5485133              0     45771    8345.294444     418   \n",
              "2022-07-17           105676              0       876       0.302778       8   \n",
              "\n",
              "                   cum_booking  hour  dayofweek  quarter  month  year  \\\n",
              "StatusCreatedDate                                                       \n",
              "2022-02-20            37646234     0          6        1      2  2022   \n",
              "2022-02-27            66942981     0          6        1      2  2022   \n",
              "2022-03-06            24044859     0          6        1      3  2022   \n",
              "2022-03-13            12292554     0          6        1      3  2022   \n",
              "2022-03-20            52567703     0          6        1      3  2022   \n",
              "2022-03-27            42011684     0          6        1      3  2022   \n",
              "2022-04-03            32105778     0          6        2      4  2022   \n",
              "2022-04-10             4613978     0          6        2      4  2022   \n",
              "2022-04-17             9752471     0          6        2      4  2022   \n",
              "2022-04-24            47617121     0          6        2      4  2022   \n",
              "2022-05-01           136867885     0          6        2      5  2022   \n",
              "2022-05-08            16446101     0          6        2      5  2022   \n",
              "2022-05-15            19465486     0          6        2      5  2022   \n",
              "2022-05-22            59093670     0          6        2      5  2022   \n",
              "2022-05-29            64959770     0          6        2      5  2022   \n",
              "2022-06-05            33049161     0          6        2      6  2022   \n",
              "2022-06-12             9442549     0          6        2      6  2022   \n",
              "2022-06-19            27972196     0          6        2      6  2022   \n",
              "2022-06-26            37686011     0          6        2      6  2022   \n",
              "2022-07-03            27416413     0          6        3      7  2022   \n",
              "2022-07-10             2476886     0          6        3      7  2022   \n",
              "2022-07-17               87814     0          6        3      7  2022   \n",
              "\n",
              "                   dayofyear  dayofmonth  weekofyear   prediction  \\\n",
              "StatusCreatedDate                                                   \n",
              "2022-02-20                51          20           7  1299.830688   \n",
              "2022-02-27                58          27           8  1436.685425   \n",
              "2022-03-06                65           6           9  1901.248901   \n",
              "2022-03-13                72          13          10   554.940369   \n",
              "2022-03-20                79          20          11  1551.734863   \n",
              "2022-03-27                86          27          12   748.771057   \n",
              "2022-04-03                93           3          13   557.747375   \n",
              "2022-04-10               100          10          14   373.279724   \n",
              "2022-04-17               107          17          15   371.089630   \n",
              "2022-04-24               114          24          16  1241.268555   \n",
              "2022-05-01               121           1          17  2540.957031   \n",
              "2022-05-08               128           8          18  1891.310669   \n",
              "2022-05-15               135          15          19   741.651245   \n",
              "2022-05-22               142          22          20  1529.688843   \n",
              "2022-05-29               149          29          21  1055.727417   \n",
              "2022-06-05               156           5          22  1008.281250   \n",
              "2022-06-12               163          12          23   550.855591   \n",
              "2022-06-19               170          19          24   747.799927   \n",
              "2022-06-26               177          26          25   743.073547   \n",
              "2022-07-03               184           3          26   556.898621   \n",
              "2022-07-10               191          10          27   123.611694   \n",
              "2022-07-17               198          17          28     9.725561   \n",
              "\n",
              "                   cum_prediction  \n",
              "StatusCreatedDate                  \n",
              "2022-02-20            1299.830688  \n",
              "2022-02-27            2736.516113  \n",
              "2022-03-06            4637.765137  \n",
              "2022-03-13            5192.705566  \n",
              "2022-03-20            6744.440430  \n",
              "2022-03-27            7493.211426  \n",
              "2022-04-03            8050.958984  \n",
              "2022-04-10            8424.238281  \n",
              "2022-04-17            8795.328125  \n",
              "2022-04-24           10036.596680  \n",
              "2022-05-01           12577.553711  \n",
              "2022-05-08           14468.864258  \n",
              "2022-05-15           15210.515625  \n",
              "2022-05-22           16740.205078  \n",
              "2022-05-29           17795.931641  \n",
              "2022-06-05           18804.212891  \n",
              "2022-06-12           19355.068359  \n",
              "2022-06-19           20102.869141  \n",
              "2022-06-26           20845.943359  \n",
              "2022-07-03           21402.841797  \n",
              "2022-07-10           21526.453125  \n",
              "2022-07-17           21536.177734  "
            ],
            "text/html": [
              "\n",
              "  <div id=\"df-7c3d8b74-517e-485c-8c38-608b5dd6f7c6\">\n",
              "    <div class=\"colab-df-container\">\n",
              "      <div>\n",
              "<style scoped>\n",
              "    .dataframe tbody tr th:only-of-type {\n",
              "        vertical-align: middle;\n",
              "    }\n",
              "\n",
              "    .dataframe tbody tr th {\n",
              "        vertical-align: top;\n",
              "    }\n",
              "\n",
              "    .dataframe thead th {\n",
              "        text-align: right;\n",
              "    }\n",
              "</style>\n",
              "<table border=\"1\" class=\"dataframe\">\n",
              "  <thead>\n",
              "    <tr style=\"text-align: right;\">\n",
              "      <th></th>\n",
              "      <th>EventType</th>\n",
              "      <th>GroupSize</th>\n",
              "      <th>IsLeadAttendee</th>\n",
              "      <th>AttendeeGrossCost</th>\n",
              "      <th>EventId</th>\n",
              "      <th>BookingStatus</th>\n",
              "      <th>ClientId</th>\n",
              "      <th>days_to_event</th>\n",
              "      <th>Season</th>\n",
              "      <th>cum_booking</th>\n",
              "      <th>hour</th>\n",
              "      <th>dayofweek</th>\n",
              "      <th>quarter</th>\n",
              "      <th>month</th>\n",
              "      <th>year</th>\n",
              "      <th>dayofyear</th>\n",
              "      <th>dayofmonth</th>\n",
              "      <th>weekofyear</th>\n",
              "      <th>prediction</th>\n",
              "      <th>cum_prediction</th>\n",
              "    </tr>\n",
              "    <tr>\n",
              "      <th>StatusCreatedDate</th>\n",
              "      <th></th>\n",
              "      <th></th>\n",
              "      <th></th>\n",
              "      <th></th>\n",
              "      <th></th>\n",
              "      <th></th>\n",
              "      <th></th>\n",
              "      <th></th>\n",
              "      <th></th>\n",
              "      <th></th>\n",
              "      <th></th>\n",
              "      <th></th>\n",
              "      <th></th>\n",
              "      <th></th>\n",
              "      <th></th>\n",
              "      <th></th>\n",
              "      <th></th>\n",
              "      <th></th>\n",
              "      <th></th>\n",
              "      <th></th>\n",
              "    </tr>\n",
              "  </thead>\n",
              "  <tbody>\n",
              "    <tr>\n",
              "      <th>2022-02-20</th>\n",
              "      <td>8838</td>\n",
              "      <td>1206</td>\n",
              "      <td>1206</td>\n",
              "      <td>5625.0</td>\n",
              "      <td>30794637</td>\n",
              "      <td>0</td>\n",
              "      <td>264114</td>\n",
              "      <td>35132.865972</td>\n",
              "      <td>3618</td>\n",
              "      <td>37646234</td>\n",
              "      <td>0</td>\n",
              "      <td>6</td>\n",
              "      <td>1</td>\n",
              "      <td>2</td>\n",
              "      <td>2022</td>\n",
              "      <td>51</td>\n",
              "      <td>20</td>\n",
              "      <td>7</td>\n",
              "      <td>1299.830688</td>\n",
              "      <td>1299.830688</td>\n",
              "    </tr>\n",
              "    <tr>\n",
              "      <th>2022-02-27</th>\n",
              "      <td>10477</td>\n",
              "      <td>1456</td>\n",
              "      <td>1460</td>\n",
              "      <td>7735.0</td>\n",
              "      <td>37389105</td>\n",
              "      <td>4</td>\n",
              "      <td>319740</td>\n",
              "      <td>54638.872917</td>\n",
              "      <td>4380</td>\n",
              "      <td>66942981</td>\n",
              "      <td>0</td>\n",
              "      <td>6</td>\n",
              "      <td>1</td>\n",
              "      <td>2</td>\n",
              "      <td>2022</td>\n",
              "      <td>58</td>\n",
              "      <td>27</td>\n",
              "      <td>8</td>\n",
              "      <td>1436.685425</td>\n",
              "      <td>2736.516113</td>\n",
              "    </tr>\n",
              "    <tr>\n",
              "      <th>2022-03-06</th>\n",
              "      <td>13130</td>\n",
              "      <td>1854</td>\n",
              "      <td>1859</td>\n",
              "      <td>5165.0</td>\n",
              "      <td>47629856</td>\n",
              "      <td>5</td>\n",
              "      <td>407121</td>\n",
              "      <td>187388.145139</td>\n",
              "      <td>5577</td>\n",
              "      <td>24044859</td>\n",
              "      <td>0</td>\n",
              "      <td>6</td>\n",
              "      <td>1</td>\n",
              "      <td>3</td>\n",
              "      <td>2022</td>\n",
              "      <td>65</td>\n",
              "      <td>6</td>\n",
              "      <td>9</td>\n",
              "      <td>1901.248901</td>\n",
              "      <td>4637.765137</td>\n",
              "    </tr>\n",
              "    <tr>\n",
              "      <th>2022-03-13</th>\n",
              "      <td>4709</td>\n",
              "      <td>645</td>\n",
              "      <td>645</td>\n",
              "      <td>5635.0</td>\n",
              "      <td>16524083</td>\n",
              "      <td>0</td>\n",
              "      <td>141255</td>\n",
              "      <td>22172.561806</td>\n",
              "      <td>1935</td>\n",
              "      <td>12292554</td>\n",
              "      <td>0</td>\n",
              "      <td>6</td>\n",
              "      <td>1</td>\n",
              "      <td>3</td>\n",
              "      <td>2022</td>\n",
              "      <td>72</td>\n",
              "      <td>13</td>\n",
              "      <td>10</td>\n",
              "      <td>554.940369</td>\n",
              "      <td>5192.705566</td>\n",
              "    </tr>\n",
              "    <tr>\n",
              "      <th>2022-03-20</th>\n",
              "      <td>10931</td>\n",
              "      <td>1692</td>\n",
              "      <td>1692</td>\n",
              "      <td>7490.0</td>\n",
              "      <td>43386110</td>\n",
              "      <td>0</td>\n",
              "      <td>370548</td>\n",
              "      <td>41766.588194</td>\n",
              "      <td>5076</td>\n",
              "      <td>52567703</td>\n",
              "      <td>0</td>\n",
              "      <td>6</td>\n",
              "      <td>1</td>\n",
              "      <td>3</td>\n",
              "      <td>2022</td>\n",
              "      <td>79</td>\n",
              "      <td>20</td>\n",
              "      <td>11</td>\n",
              "      <td>1551.734863</td>\n",
              "      <td>6744.440430</td>\n",
              "    </tr>\n",
              "    <tr>\n",
              "      <th>2022-03-27</th>\n",
              "      <td>5288</td>\n",
              "      <td>908</td>\n",
              "      <td>916</td>\n",
              "      <td>6289.0</td>\n",
              "      <td>23592855</td>\n",
              "      <td>8</td>\n",
              "      <td>200604</td>\n",
              "      <td>45523.724306</td>\n",
              "      <td>2748</td>\n",
              "      <td>42011684</td>\n",
              "      <td>0</td>\n",
              "      <td>6</td>\n",
              "      <td>1</td>\n",
              "      <td>3</td>\n",
              "      <td>2022</td>\n",
              "      <td>86</td>\n",
              "      <td>27</td>\n",
              "      <td>12</td>\n",
              "      <td>748.771057</td>\n",
              "      <td>7493.211426</td>\n",
              "    </tr>\n",
              "    <tr>\n",
              "      <th>2022-04-03</th>\n",
              "      <td>4279</td>\n",
              "      <td>705</td>\n",
              "      <td>708</td>\n",
              "      <td>11816.0</td>\n",
              "      <td>18242388</td>\n",
              "      <td>3</td>\n",
              "      <td>155052</td>\n",
              "      <td>47665.093750</td>\n",
              "      <td>1800</td>\n",
              "      <td>32105778</td>\n",
              "      <td>0</td>\n",
              "      <td>6</td>\n",
              "      <td>2</td>\n",
              "      <td>4</td>\n",
              "      <td>2022</td>\n",
              "      <td>93</td>\n",
              "      <td>3</td>\n",
              "      <td>13</td>\n",
              "      <td>557.747375</td>\n",
              "      <td>8050.958984</td>\n",
              "    </tr>\n",
              "    <tr>\n",
              "      <th>2022-04-10</th>\n",
              "      <td>2216</td>\n",
              "      <td>382</td>\n",
              "      <td>385</td>\n",
              "      <td>4885.0</td>\n",
              "      <td>9965654</td>\n",
              "      <td>3</td>\n",
              "      <td>84315</td>\n",
              "      <td>30632.979167</td>\n",
              "      <td>385</td>\n",
              "      <td>4613978</td>\n",
              "      <td>0</td>\n",
              "      <td>6</td>\n",
              "      <td>2</td>\n",
              "      <td>4</td>\n",
              "      <td>2022</td>\n",
              "      <td>100</td>\n",
              "      <td>10</td>\n",
              "      <td>14</td>\n",
              "      <td>373.279724</td>\n",
              "      <td>8424.238281</td>\n",
              "    </tr>\n",
              "    <tr>\n",
              "      <th>2022-04-17</th>\n",
              "      <td>2552</td>\n",
              "      <td>381</td>\n",
              "      <td>381</td>\n",
              "      <td>2650.0</td>\n",
              "      <td>9888034</td>\n",
              "      <td>0</td>\n",
              "      <td>83439</td>\n",
              "      <td>16987.240278</td>\n",
              "      <td>381</td>\n",
              "      <td>9752471</td>\n",
              "      <td>0</td>\n",
              "      <td>6</td>\n",
              "      <td>2</td>\n",
              "      <td>4</td>\n",
              "      <td>2022</td>\n",
              "      <td>107</td>\n",
              "      <td>17</td>\n",
              "      <td>15</td>\n",
              "      <td>371.089630</td>\n",
              "      <td>8795.328125</td>\n",
              "    </tr>\n",
              "    <tr>\n",
              "      <th>2022-04-24</th>\n",
              "      <td>8460</td>\n",
              "      <td>1135</td>\n",
              "      <td>1140</td>\n",
              "      <td>6621.0</td>\n",
              "      <td>29552345</td>\n",
              "      <td>5</td>\n",
              "      <td>249660</td>\n",
              "      <td>51337.269444</td>\n",
              "      <td>1140</td>\n",
              "      <td>47617121</td>\n",
              "      <td>0</td>\n",
              "      <td>6</td>\n",
              "      <td>2</td>\n",
              "      <td>4</td>\n",
              "      <td>2022</td>\n",
              "      <td>114</td>\n",
              "      <td>24</td>\n",
              "      <td>16</td>\n",
              "      <td>1241.268555</td>\n",
              "      <td>10036.596680</td>\n",
              "    </tr>\n",
              "    <tr>\n",
              "      <th>2022-05-01</th>\n",
              "      <td>16820</td>\n",
              "      <td>2631</td>\n",
              "      <td>2632</td>\n",
              "      <td>6894.0</td>\n",
              "      <td>68405499</td>\n",
              "      <td>1</td>\n",
              "      <td>576408</td>\n",
              "      <td>160381.293750</td>\n",
              "      <td>2632</td>\n",
              "      <td>136867885</td>\n",
              "      <td>0</td>\n",
              "      <td>6</td>\n",
              "      <td>2</td>\n",
              "      <td>5</td>\n",
              "      <td>2022</td>\n",
              "      <td>121</td>\n",
              "      <td>1</td>\n",
              "      <td>17</td>\n",
              "      <td>2540.957031</td>\n",
              "      <td>12577.553711</td>\n",
              "    </tr>\n",
              "    <tr>\n",
              "      <th>2022-05-08</th>\n",
              "      <td>11982</td>\n",
              "      <td>1772</td>\n",
              "      <td>1773</td>\n",
              "      <td>6880.0</td>\n",
              "      <td>46128262</td>\n",
              "      <td>1</td>\n",
              "      <td>388287</td>\n",
              "      <td>159339.768750</td>\n",
              "      <td>1773</td>\n",
              "      <td>16446101</td>\n",
              "      <td>0</td>\n",
              "      <td>6</td>\n",
              "      <td>2</td>\n",
              "      <td>5</td>\n",
              "      <td>2022</td>\n",
              "      <td>128</td>\n",
              "      <td>8</td>\n",
              "      <td>18</td>\n",
              "      <td>1891.310669</td>\n",
              "      <td>14468.864258</td>\n",
              "    </tr>\n",
              "    <tr>\n",
              "      <th>2022-05-15</th>\n",
              "      <td>5555</td>\n",
              "      <td>820</td>\n",
              "      <td>820</td>\n",
              "      <td>1655.0</td>\n",
              "      <td>21312790</td>\n",
              "      <td>0</td>\n",
              "      <td>179580</td>\n",
              "      <td>17634.643750</td>\n",
              "      <td>820</td>\n",
              "      <td>19465486</td>\n",
              "      <td>0</td>\n",
              "      <td>6</td>\n",
              "      <td>2</td>\n",
              "      <td>5</td>\n",
              "      <td>2022</td>\n",
              "      <td>135</td>\n",
              "      <td>15</td>\n",
              "      <td>19</td>\n",
              "      <td>741.651245</td>\n",
              "      <td>15210.515625</td>\n",
              "    </tr>\n",
              "    <tr>\n",
              "      <th>2022-05-22</th>\n",
              "      <td>11546</td>\n",
              "      <td>1678</td>\n",
              "      <td>1679</td>\n",
              "      <td>8957.0</td>\n",
              "      <td>43695880</td>\n",
              "      <td>1</td>\n",
              "      <td>367701</td>\n",
              "      <td>32714.963194</td>\n",
              "      <td>1679</td>\n",
              "      <td>59093670</td>\n",
              "      <td>0</td>\n",
              "      <td>6</td>\n",
              "      <td>2</td>\n",
              "      <td>5</td>\n",
              "      <td>2022</td>\n",
              "      <td>142</td>\n",
              "      <td>22</td>\n",
              "      <td>20</td>\n",
              "      <td>1529.688843</td>\n",
              "      <td>16740.205078</td>\n",
              "    </tr>\n",
              "    <tr>\n",
              "      <th>2022-05-29</th>\n",
              "      <td>8154</td>\n",
              "      <td>1264</td>\n",
              "      <td>1264</td>\n",
              "      <td>4280.5</td>\n",
              "      <td>32967652</td>\n",
              "      <td>0</td>\n",
              "      <td>276816</td>\n",
              "      <td>35757.634722</td>\n",
              "      <td>1264</td>\n",
              "      <td>64959770</td>\n",
              "      <td>0</td>\n",
              "      <td>6</td>\n",
              "      <td>2</td>\n",
              "      <td>5</td>\n",
              "      <td>2022</td>\n",
              "      <td>149</td>\n",
              "      <td>29</td>\n",
              "      <td>21</td>\n",
              "      <td>1055.727417</td>\n",
              "      <td>17795.931641</td>\n",
              "    </tr>\n",
              "    <tr>\n",
              "      <th>2022-06-05</th>\n",
              "      <td>7441</td>\n",
              "      <td>1070</td>\n",
              "      <td>1071</td>\n",
              "      <td>6890.0</td>\n",
              "      <td>27965705</td>\n",
              "      <td>1</td>\n",
              "      <td>234549</td>\n",
              "      <td>86321.356944</td>\n",
              "      <td>1071</td>\n",
              "      <td>33049161</td>\n",
              "      <td>0</td>\n",
              "      <td>6</td>\n",
              "      <td>2</td>\n",
              "      <td>6</td>\n",
              "      <td>2022</td>\n",
              "      <td>156</td>\n",
              "      <td>5</td>\n",
              "      <td>22</td>\n",
              "      <td>1008.281250</td>\n",
              "      <td>18804.212891</td>\n",
              "    </tr>\n",
              "    <tr>\n",
              "      <th>2022-06-12</th>\n",
              "      <td>4187</td>\n",
              "      <td>599</td>\n",
              "      <td>599</td>\n",
              "      <td>1790.0</td>\n",
              "      <td>15618874</td>\n",
              "      <td>0</td>\n",
              "      <td>131181</td>\n",
              "      <td>19424.193750</td>\n",
              "      <td>599</td>\n",
              "      <td>9442549</td>\n",
              "      <td>0</td>\n",
              "      <td>6</td>\n",
              "      <td>2</td>\n",
              "      <td>6</td>\n",
              "      <td>2022</td>\n",
              "      <td>163</td>\n",
              "      <td>12</td>\n",
              "      <td>23</td>\n",
              "      <td>550.855591</td>\n",
              "      <td>19355.068359</td>\n",
              "    </tr>\n",
              "    <tr>\n",
              "      <th>2022-06-19</th>\n",
              "      <td>5502</td>\n",
              "      <td>945</td>\n",
              "      <td>947</td>\n",
              "      <td>1130.0</td>\n",
              "      <td>24762078</td>\n",
              "      <td>2</td>\n",
              "      <td>207393</td>\n",
              "      <td>7989.601389</td>\n",
              "      <td>947</td>\n",
              "      <td>27972196</td>\n",
              "      <td>0</td>\n",
              "      <td>6</td>\n",
              "      <td>2</td>\n",
              "      <td>6</td>\n",
              "      <td>2022</td>\n",
              "      <td>170</td>\n",
              "      <td>19</td>\n",
              "      <td>24</td>\n",
              "      <td>747.799927</td>\n",
              "      <td>20102.869141</td>\n",
              "    </tr>\n",
              "    <tr>\n",
              "      <th>2022-06-26</th>\n",
              "      <td>5107</td>\n",
              "      <td>838</td>\n",
              "      <td>839</td>\n",
              "      <td>2565.0</td>\n",
              "      <td>21954042</td>\n",
              "      <td>1</td>\n",
              "      <td>183741</td>\n",
              "      <td>5038.075000</td>\n",
              "      <td>839</td>\n",
              "      <td>37686011</td>\n",
              "      <td>0</td>\n",
              "      <td>6</td>\n",
              "      <td>2</td>\n",
              "      <td>6</td>\n",
              "      <td>2022</td>\n",
              "      <td>177</td>\n",
              "      <td>26</td>\n",
              "      <td>25</td>\n",
              "      <td>743.073547</td>\n",
              "      <td>20845.943359</td>\n",
              "    </tr>\n",
              "    <tr>\n",
              "      <th>2022-07-03</th>\n",
              "      <td>4145</td>\n",
              "      <td>686</td>\n",
              "      <td>686</td>\n",
              "      <td>1320.0</td>\n",
              "      <td>17980886</td>\n",
              "      <td>0</td>\n",
              "      <td>150234</td>\n",
              "      <td>30980.154167</td>\n",
              "      <td>903</td>\n",
              "      <td>27416413</td>\n",
              "      <td>0</td>\n",
              "      <td>6</td>\n",
              "      <td>3</td>\n",
              "      <td>7</td>\n",
              "      <td>2022</td>\n",
              "      <td>184</td>\n",
              "      <td>3</td>\n",
              "      <td>26</td>\n",
              "      <td>556.898621</td>\n",
              "      <td>21402.841797</td>\n",
              "    </tr>\n",
              "    <tr>\n",
              "      <th>2022-07-10</th>\n",
              "      <td>1340</td>\n",
              "      <td>209</td>\n",
              "      <td>209</td>\n",
              "      <td>240.0</td>\n",
              "      <td>5485133</td>\n",
              "      <td>0</td>\n",
              "      <td>45771</td>\n",
              "      <td>8345.294444</td>\n",
              "      <td>418</td>\n",
              "      <td>2476886</td>\n",
              "      <td>0</td>\n",
              "      <td>6</td>\n",
              "      <td>3</td>\n",
              "      <td>7</td>\n",
              "      <td>2022</td>\n",
              "      <td>191</td>\n",
              "      <td>10</td>\n",
              "      <td>27</td>\n",
              "      <td>123.611694</td>\n",
              "      <td>21526.453125</td>\n",
              "    </tr>\n",
              "    <tr>\n",
              "      <th>2022-07-17</th>\n",
              "      <td>24</td>\n",
              "      <td>4</td>\n",
              "      <td>4</td>\n",
              "      <td>0.0</td>\n",
              "      <td>105676</td>\n",
              "      <td>0</td>\n",
              "      <td>876</td>\n",
              "      <td>0.302778</td>\n",
              "      <td>8</td>\n",
              "      <td>87814</td>\n",
              "      <td>0</td>\n",
              "      <td>6</td>\n",
              "      <td>3</td>\n",
              "      <td>7</td>\n",
              "      <td>2022</td>\n",
              "      <td>198</td>\n",
              "      <td>17</td>\n",
              "      <td>28</td>\n",
              "      <td>9.725561</td>\n",
              "      <td>21536.177734</td>\n",
              "    </tr>\n",
              "  </tbody>\n",
              "</table>\n",
              "</div>\n",
              "      <button class=\"colab-df-convert\" onclick=\"convertToInteractive('df-7c3d8b74-517e-485c-8c38-608b5dd6f7c6')\"\n",
              "              title=\"Convert this dataframe to an interactive table.\"\n",
              "              style=\"display:none;\">\n",
              "        \n",
              "  <svg xmlns=\"http://www.w3.org/2000/svg\" height=\"24px\"viewBox=\"0 0 24 24\"\n",
              "       width=\"24px\">\n",
              "    <path d=\"M0 0h24v24H0V0z\" fill=\"none\"/>\n",
              "    <path d=\"M18.56 5.44l.94 2.06.94-2.06 2.06-.94-2.06-.94-.94-2.06-.94 2.06-2.06.94zm-11 1L8.5 8.5l.94-2.06 2.06-.94-2.06-.94L8.5 2.5l-.94 2.06-2.06.94zm10 10l.94 2.06.94-2.06 2.06-.94-2.06-.94-.94-2.06-.94 2.06-2.06.94z\"/><path d=\"M17.41 7.96l-1.37-1.37c-.4-.4-.92-.59-1.43-.59-.52 0-1.04.2-1.43.59L10.3 9.45l-7.72 7.72c-.78.78-.78 2.05 0 2.83L4 21.41c.39.39.9.59 1.41.59.51 0 1.02-.2 1.41-.59l7.78-7.78 2.81-2.81c.8-.78.8-2.07 0-2.86zM5.41 20L4 18.59l7.72-7.72 1.47 1.35L5.41 20z\"/>\n",
              "  </svg>\n",
              "      </button>\n",
              "      \n",
              "  <style>\n",
              "    .colab-df-container {\n",
              "      display:flex;\n",
              "      flex-wrap:wrap;\n",
              "      gap: 12px;\n",
              "    }\n",
              "\n",
              "    .colab-df-convert {\n",
              "      background-color: #E8F0FE;\n",
              "      border: none;\n",
              "      border-radius: 50%;\n",
              "      cursor: pointer;\n",
              "      display: none;\n",
              "      fill: #1967D2;\n",
              "      height: 32px;\n",
              "      padding: 0 0 0 0;\n",
              "      width: 32px;\n",
              "    }\n",
              "\n",
              "    .colab-df-convert:hover {\n",
              "      background-color: #E2EBFA;\n",
              "      box-shadow: 0px 1px 2px rgba(60, 64, 67, 0.3), 0px 1px 3px 1px rgba(60, 64, 67, 0.15);\n",
              "      fill: #174EA6;\n",
              "    }\n",
              "\n",
              "    [theme=dark] .colab-df-convert {\n",
              "      background-color: #3B4455;\n",
              "      fill: #D2E3FC;\n",
              "    }\n",
              "\n",
              "    [theme=dark] .colab-df-convert:hover {\n",
              "      background-color: #434B5C;\n",
              "      box-shadow: 0px 1px 3px 1px rgba(0, 0, 0, 0.15);\n",
              "      filter: drop-shadow(0px 1px 2px rgba(0, 0, 0, 0.3));\n",
              "      fill: #FFFFFF;\n",
              "    }\n",
              "  </style>\n",
              "\n",
              "      <script>\n",
              "        const buttonEl =\n",
              "          document.querySelector('#df-7c3d8b74-517e-485c-8c38-608b5dd6f7c6 button.colab-df-convert');\n",
              "        buttonEl.style.display =\n",
              "          google.colab.kernel.accessAllowed ? 'block' : 'none';\n",
              "\n",
              "        async function convertToInteractive(key) {\n",
              "          const element = document.querySelector('#df-7c3d8b74-517e-485c-8c38-608b5dd6f7c6');\n",
              "          const dataTable =\n",
              "            await google.colab.kernel.invokeFunction('convertToInteractive',\n",
              "                                                     [key], {});\n",
              "          if (!dataTable) return;\n",
              "\n",
              "          const docLinkHtml = 'Like what you see? Visit the ' +\n",
              "            '<a target=\"_blank\" href=https://colab.research.google.com/notebooks/data_table.ipynb>data table notebook</a>'\n",
              "            + ' to learn more about interactive tables.';\n",
              "          element.innerHTML = '';\n",
              "          dataTable['output_type'] = 'display_data';\n",
              "          await google.colab.output.renderOutput(dataTable, element);\n",
              "          const docLink = document.createElement('div');\n",
              "          docLink.innerHTML = docLinkHtml;\n",
              "          element.appendChild(docLink);\n",
              "        }\n",
              "      </script>\n",
              "    </div>\n",
              "  </div>\n",
              "  "
            ]
          },
          "metadata": {},
          "execution_count": 87
        }
      ]
    },
    {
      "cell_type": "code",
      "source": [
        "test['cum_prediction'].plot(legend=True, figsize=(12,5))\n"
      ],
      "metadata": {
        "colab": {
          "base_uri": "https://localhost:8080/",
          "height": 401
        },
        "id": "zTGA1G503HeZ",
        "outputId": "794491d1-ce2c-496e-eab5-b805c48414eb"
      },
      "execution_count": null,
      "outputs": [
        {
          "output_type": "execute_result",
          "data": {
            "text/plain": [
              "<AxesSubplot:xlabel='StatusCreatedDate'>"
            ]
          },
          "metadata": {},
          "execution_count": 88
        },
        {
          "output_type": "display_data",
          "data": {
            "text/plain": [
              "<Figure size 864x360 with 1 Axes>"
            ],
            "image/png": "[encoded data removed]"
          },
          "metadata": {}
        }
      ]
    },
    {
      "cell_type": "code",
      "source": [
        "test['cum_prediction'].plot(legend=True, figsize=(12,5))\n",
        "test['GroupSize'].plot(legend=True, figsize=(12,5))\n",
        "test['prediction'].plot(legend=True, figsize=(12,5))"
      ],
      "metadata": {
        "colab": {
          "base_uri": "https://localhost:8080/",
          "height": 396
        },
        "id": "rvu8BMwP3fP7",
        "outputId": "fc7ba5d2-ebe0-4c54-9c74-ca9badee446d"
      },
      "execution_count": null,
      "outputs": [
        {
          "output_type": "execute_result",
          "data": {
            "text/plain": [
              "<AxesSubplot:xlabel='StatusCreatedDate'>"
            ]
          },
          "metadata": {},
          "execution_count": 89
        },
        {
          "output_type": "display_data",
          "data": {
            "text/plain": [
              "<Figure size 864x360 with 1 Axes>"
            ],
            "image/png": "[encoded data removed]"
          },
          "metadata": {}
        }
      ]
    },
    {
      "cell_type": "code",
      "source": [
        "test['days_to_event'].nunique()"
      ],
      "metadata": {
        "colab": {
          "base_uri": "https://localhost:8080/"
        },
        "id": "0oGYQfWW3f15",
        "outputId": "eab854a3-974f-4300-c34c-ad19757e41bb"
      },
      "execution_count": null,
      "outputs": [
        {
          "output_type": "execute_result",
          "data": {
            "text/plain": [
              "22"
            ]
          },
          "metadata": {},
          "execution_count": 90
        }
      ]
    },
    {
      "cell_type": "code",
      "source": [
        "17500/22"
      ],
      "metadata": {
        "colab": {
          "base_uri": "https://localhost:8080/"
        },
        "id": "_9sukL2G56GU",
        "outputId": "8a1b7628-da49-44f2-b6e9-87b9d35df982"
      },
      "execution_count": null,
      "outputs": [
        {
          "output_type": "execute_result",
          "data": {
            "text/plain": [
              "795.4545454545455"
            ]
          },
          "metadata": {},
          "execution_count": 91
        }
      ]
    },
    {
      "cell_type": "code",
      "source": [
        "df2.head(1)"
      ],
      "metadata": {
        "colab": {
          "base_uri": "https://localhost:8080/",
          "height": 263
        },
        "id": "CbKQ2c2u5vS0",
        "outputId": "1c62e1aa-4e4b-4551-a95b-e2a1f1a18805"
      },
      "execution_count": null,
      "outputs": [
        {
          "output_type": "execute_result",
          "data": {
            "text/plain": [
              "                                                           EventName  \\\n",
              "StatusCreatedDate                                                      \n",
              "01/01/2022 02:28   Gaelic Vegetarian and Veganism & Colonial Resi...   \n",
              "\n",
              "                            StartDate  EventType BookingReference  \\\n",
              "StatusCreatedDate                                                   \n",
              "01/01/2022 02:28  2022-01-01 02:28:00          8         B1042459   \n",
              "\n",
              "                  AttendeeReference  GroupSize  IsLeadAttendee  \\\n",
              "StatusCreatedDate                                                \n",
              "01/01/2022 02:28           A1111227          1               1   \n",
              "\n",
              "                   AttendeeGrossCost  EventId  BookingStatus AttendeeType  \\\n",
              "StatusCreatedDate                                                           \n",
              "01/01/2022 02:28                 0.0    25425              0     Attendee   \n",
              "\n",
              "                  TicketType  ClientId     time_to_event  days_to_event  \\\n",
              "StatusCreatedDate                                                         \n",
              "01/01/2022 02:28    Standard       219 274 days 15:02:00     274.626389   \n",
              "\n",
              "                    StatusCreatedDate  Season  cum_booking  \n",
              "StatusCreatedDate                                           \n",
              "01/01/2022 02:28  2022-01-01 02:28:00       3            1  "
            ],
            "text/html": [
              "\n",
              "  <div id=\"df-e93e332a-9572-4864-8bef-dce2ee82671c\">\n",
              "    <div class=\"colab-df-container\">\n",
              "      <div>\n",
              "<style scoped>\n",
              "    .dataframe tbody tr th:only-of-type {\n",
              "        vertical-align: middle;\n",
              "    }\n",
              "\n",
              "    .dataframe tbody tr th {\n",
              "        vertical-align: top;\n",
              "    }\n",
              "\n",
              "    .dataframe thead th {\n",
              "        text-align: right;\n",
              "    }\n",
              "</style>\n",
              "<table border=\"1\" class=\"dataframe\">\n",
              "  <thead>\n",
              "    <tr style=\"text-align: right;\">\n",
              "      <th></th>\n",
              "      <th>EventName</th>\n",
              "      <th>StartDate</th>\n",
              "      <th>EventType</th>\n",
              "      <th>BookingReference</th>\n",
              "      <th>AttendeeReference</th>\n",
              "      <th>GroupSize</th>\n",
              "      <th>IsLeadAttendee</th>\n",
              "      <th>AttendeeGrossCost</th>\n",
              "      <th>EventId</th>\n",
              "      <th>BookingStatus</th>\n",
              "      <th>AttendeeType</th>\n",
              "      <th>TicketType</th>\n",
              "      <th>ClientId</th>\n",
              "      <th>time_to_event</th>\n",
              "      <th>days_to_event</th>\n",
              "      <th>StatusCreatedDate</th>\n",
              "      <th>Season</th>\n",
              "      <th>cum_booking</th>\n",
              "    </tr>\n",
              "    <tr>\n",
              "      <th>StatusCreatedDate</th>\n",
              "      <th></th>\n",
              "      <th></th>\n",
              "      <th></th>\n",
              "      <th></th>\n",
              "      <th></th>\n",
              "      <th></th>\n",
              "      <th></th>\n",
              "      <th></th>\n",
              "      <th></th>\n",
              "      <th></th>\n",
              "      <th></th>\n",
              "      <th></th>\n",
              "      <th></th>\n",
              "      <th></th>\n",
              "      <th></th>\n",
              "      <th></th>\n",
              "      <th></th>\n",
              "      <th></th>\n",
              "    </tr>\n",
              "  </thead>\n",
              "  <tbody>\n",
              "    <tr>\n",
              "      <th>01/01/2022 02:28</th>\n",
              "      <td>Gaelic Vegetarian and Veganism &amp; Colonial Resi...</td>\n",
              "      <td>2022-01-01 02:28:00</td>\n",
              "      <td>8</td>\n",
              "      <td>B1042459</td>\n",
              "      <td>A1111227</td>\n",
              "      <td>1</td>\n",
              "      <td>1</td>\n",
              "      <td>0.0</td>\n",
              "      <td>25425</td>\n",
              "      <td>0</td>\n",
              "      <td>Attendee</td>\n",
              "      <td>Standard</td>\n",
              "      <td>219</td>\n",
              "      <td>274 days 15:02:00</td>\n",
              "      <td>274.626389</td>\n",
              "      <td>2022-01-01 02:28:00</td>\n",
              "      <td>3</td>\n",
              "      <td>1</td>\n",
              "    </tr>\n",
              "  </tbody>\n",
              "</table>\n",
              "</div>\n",
              "      <button class=\"colab-df-convert\" onclick=\"convertToInteractive('df-e93e332a-9572-4864-8bef-dce2ee82671c')\"\n",
              "              title=\"Convert this dataframe to an interactive table.\"\n",
              "              style=\"display:none;\">\n",
              "        \n",
              "  <svg xmlns=\"http://www.w3.org/2000/svg\" height=\"24px\"viewBox=\"0 0 24 24\"\n",
              "       width=\"24px\">\n",
              "    <path d=\"M0 0h24v24H0V0z\" fill=\"none\"/>\n",
              "    <path d=\"M18.56 5.44l.94 2.06.94-2.06 2.06-.94-2.06-.94-.94-2.06-.94 2.06-2.06.94zm-11 1L8.5 8.5l.94-2.06 2.06-.94-2.06-.94L8.5 2.5l-.94 2.06-2.06.94zm10 10l.94 2.06.94-2.06 2.06-.94-2.06-.94-.94-2.06-.94 2.06-2.06.94z\"/><path d=\"M17.41 7.96l-1.37-1.37c-.4-.4-.92-.59-1.43-.59-.52 0-1.04.2-1.43.59L10.3 9.45l-7.72 7.72c-.78.78-.78 2.05 0 2.83L4 21.41c.39.39.9.59 1.41.59.51 0 1.02-.2 1.41-.59l7.78-7.78 2.81-2.81c.8-.78.8-2.07 0-2.86zM5.41 20L4 18.59l7.72-7.72 1.47 1.35L5.41 20z\"/>\n",
              "  </svg>\n",
              "      </button>\n",
              "      \n",
              "  <style>\n",
              "    .colab-df-container {\n",
              "      display:flex;\n",
              "      flex-wrap:wrap;\n",
              "      gap: 12px;\n",
              "    }\n",
              "\n",
              "    .colab-df-convert {\n",
              "      background-color: #E8F0FE;\n",
              "      border: none;\n",
              "      border-radius: 50%;\n",
              "      cursor: pointer;\n",
              "      display: none;\n",
              "      fill: #1967D2;\n",
              "      height: 32px;\n",
              "      padding: 0 0 0 0;\n",
              "      width: 32px;\n",
              "    }\n",
              "\n",
              "    .colab-df-convert:hover {\n",
              "      background-color: #E2EBFA;\n",
              "      box-shadow: 0px 1px 2px rgba(60, 64, 67, 0.3), 0px 1px 3px 1px rgba(60, 64, 67, 0.15);\n",
              "      fill: #174EA6;\n",
              "    }\n",
              "\n",
              "    [theme=dark] .colab-df-convert {\n",
              "      background-color: #3B4455;\n",
              "      fill: #D2E3FC;\n",
              "    }\n",
              "\n",
              "    [theme=dark] .colab-df-convert:hover {\n",
              "      background-color: #434B5C;\n",
              "      box-shadow: 0px 1px 3px 1px rgba(0, 0, 0, 0.15);\n",
              "      filter: drop-shadow(0px 1px 2px rgba(0, 0, 0, 0.3));\n",
              "      fill: #FFFFFF;\n",
              "    }\n",
              "  </style>\n",
              "\n",
              "      <script>\n",
              "        const buttonEl =\n",
              "          document.querySelector('#df-e93e332a-9572-4864-8bef-dce2ee82671c button.colab-df-convert');\n",
              "        buttonEl.style.display =\n",
              "          google.colab.kernel.accessAllowed ? 'block' : 'none';\n",
              "\n",
              "        async function convertToInteractive(key) {\n",
              "          const element = document.querySelector('#df-e93e332a-9572-4864-8bef-dce2ee82671c');\n",
              "          const dataTable =\n",
              "            await google.colab.kernel.invokeFunction('convertToInteractive',\n",
              "                                                     [key], {});\n",
              "          if (!dataTable) return;\n",
              "\n",
              "          const docLinkHtml = 'Like what you see? Visit the ' +\n",
              "            '<a target=\"_blank\" href=https://colab.research.google.com/notebooks/data_table.ipynb>data table notebook</a>'\n",
              "            + ' to learn more about interactive tables.';\n",
              "          element.innerHTML = '';\n",
              "          dataTable['output_type'] = 'display_data';\n",
              "          await google.colab.output.renderOutput(dataTable, element);\n",
              "          const docLink = document.createElement('div');\n",
              "          docLink.innerHTML = docLinkHtml;\n",
              "          element.appendChild(docLink);\n",
              "        }\n",
              "      </script>\n",
              "    </div>\n",
              "  </div>\n",
              "  "
            ]
          },
          "metadata": {},
          "execution_count": 92
        }
      ]
    },
    {
      "cell_type": "code",
      "source": [],
      "metadata": {
        "id": "XzH-p8qS5zSx"
      },
      "execution_count": null,
      "outputs": []
    }
  ]
}