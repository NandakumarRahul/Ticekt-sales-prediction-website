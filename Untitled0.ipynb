{
  "nbformat": 4,
  "nbformat_minor": 0,
  "metadata": {
    "colab": {
      "provenance": []
    },
    "kernelspec": {
      "name": "python3",
      "display_name": "Python 3"
    },
    "language_info": {
      "name": "python"
    }
  },
  "cells": [
    {
      "cell_type": "code",
      "source": [
        "import pandas as pd \n",
        "\n",
        "data_1 = pd.read_csv('/content/csv1.csv')\n",
        "data_2 = pd.read_csv('/content/csv2.csv')"
      ],
      "metadata": {
        "id": "Jm6NPpmPG6KW"
      },
      "execution_count": null,
      "outputs": []
    },
    {
      "cell_type": "markdown",
      "source": [
        "PREPROCESSING"
      ],
      "metadata": {
        "id": "w7674DxJie9g"
      }
    },
    {
      "cell_type": "code",
      "source": [
        "data_csv_1 = data_1.copy()\n",
        "data_csv_2 = data_2.copy()\n",
        "datacsv_1 = data_csv_1.dropna(subset=data_1.columns.values)\n",
        "# Fill missing values in the 'EventType' column\n",
        "data_csv_2['EventType'] = data_csv_2['EventType'].fillna(\"Graduation Ceremony\")\n",
        "data = pd.concat([datacsv_1, data_csv_2], axis=0)\n",
        "data.shape"
      ],
      "metadata": {
        "id": "hRQKhhIAj4B0",
        "colab": {
          "base_uri": "https://localhost:8080/"
        },
        "outputId": "c8f2fd74-88f4-4bdd-b541-f4b72baf858c"
      },
      "execution_count": null,
      "outputs": [
        {
          "output_type": "execute_result",
          "data": {
            "text/plain": [
              "(101061, 14)"
            ]
          },
          "metadata": {},
          "execution_count": 47
        }
      ]
    },
    {
      "cell_type": "code",
      "source": [
        "data.info()"
      ],
      "metadata": {
        "colab": {
          "base_uri": "https://localhost:8080/"
        },
        "id": "-GbPqBuMnjV7",
        "outputId": "2d0f8599-d27d-4eae-8ed6-b068c73fd558"
      },
      "execution_count": null,
      "outputs": [
        {
          "output_type": "stream",
          "name": "stdout",
          "text": [
            "<class 'pandas.core.frame.DataFrame'>\n",
            "Int64Index: 101061 entries, 0 to 19447\n",
            "Data columns (total 14 columns):\n",
            " #   Column             Non-Null Count   Dtype  \n",
            "---  ------             --------------   -----  \n",
            " 0   EventName          101061 non-null  object \n",
            " 1   StartDate          101061 non-null  object \n",
            " 2   EventType          101061 non-null  object \n",
            " 3   BookingReference   101061 non-null  object \n",
            " 4   AttendeeReference  101061 non-null  object \n",
            " 5   GroupSize          101061 non-null  int64  \n",
            " 6   IsLeadAttendee     101061 non-null  bool   \n",
            " 7   AttendeeGrossCost  101061 non-null  float64\n",
            " 8   EventId            101061 non-null  int64  \n",
            " 9   BookingStatus      101061 non-null  object \n",
            " 10  AttendeeType       101061 non-null  object \n",
            " 11  TicketType         101061 non-null  object \n",
            " 12  StatusCreatedDate  101061 non-null  object \n",
            " 13  ClientId           101061 non-null  int64  \n",
            "dtypes: bool(1), float64(1), int64(3), object(9)\n",
            "memory usage: 10.9+ MB\n"
          ]
        }
      ]
    },
    {
      "cell_type": "code",
      "source": [
        "data.shape"
      ],
      "metadata": {
        "colab": {
          "base_uri": "https://localhost:8080/"
        },
        "id": "cm018Zj4n6ZX",
        "outputId": "ca414640-27e5-4512-f46f-172e351f7fb5"
      },
      "execution_count": null,
      "outputs": [
        {
          "output_type": "execute_result",
          "data": {
            "text/plain": [
              "(101061, 14)"
            ]
          },
          "metadata": {},
          "execution_count": 49
        }
      ]
    },
    {
      "cell_type": "code",
      "source": [
        "data.describe()"
      ],
      "metadata": {
        "colab": {
          "base_uri": "https://localhost:8080/",
          "height": 300
        },
        "id": "hjSwS1yHoHe5",
        "outputId": "dc513bd6-7a59-436b-838b-c52ab805410b"
      },
      "execution_count": null,
      "outputs": [
        {
          "output_type": "execute_result",
          "data": {
            "text/plain": [
              "           GroupSize  AttendeeGrossCost        EventId       ClientId\n",
              "count  101061.000000      101061.000000  101061.000000  101061.000000\n",
              "mean        1.357992           7.692785   24272.755831     224.773147\n",
              "std         1.140589          35.935863    3194.620276      11.826520\n",
              "min         0.000000         -25.000000   12445.000000     219.000000\n",
              "25%         1.000000           0.000000   24778.000000     219.000000\n",
              "50%         1.000000           0.000000   25237.000000     219.000000\n",
              "75%         1.000000           0.000000   25859.000000     219.000000\n",
              "max        15.000000         995.000000   26433.000000     249.000000"
            ],
            "text/html": [
              "\n",
              "  <div id=\"df-77d67cb4-04f5-4f8c-b65e-e973fc0619a6\">\n",
              "    <div class=\"colab-df-container\">\n",
              "      <div>\n",
              "<style scoped>\n",
              "    .dataframe tbody tr th:only-of-type {\n",
              "        vertical-align: middle;\n",
              "    }\n",
              "\n",
              "    .dataframe tbody tr th {\n",
              "        vertical-align: top;\n",
              "    }\n",
              "\n",
              "    .dataframe thead th {\n",
              "        text-align: right;\n",
              "    }\n",
              "</style>\n",
              "<table border=\"1\" class=\"dataframe\">\n",
              "  <thead>\n",
              "    <tr style=\"text-align: right;\">\n",
              "      <th></th>\n",
              "      <th>GroupSize</th>\n",
              "      <th>AttendeeGrossCost</th>\n",
              "      <th>EventId</th>\n",
              "      <th>ClientId</th>\n",
              "    </tr>\n",
              "  </thead>\n",
              "  <tbody>\n",
              "    <tr>\n",
              "      <th>count</th>\n",
              "      <td>101061.000000</td>\n",
              "      <td>101061.000000</td>\n",
              "      <td>101061.000000</td>\n",
              "      <td>101061.000000</td>\n",
              "    </tr>\n",
              "    <tr>\n",
              "      <th>mean</th>\n",
              "      <td>1.357992</td>\n",
              "      <td>7.692785</td>\n",
              "      <td>24272.755831</td>\n",
              "      <td>224.773147</td>\n",
              "    </tr>\n",
              "    <tr>\n",
              "      <th>std</th>\n",
              "      <td>1.140589</td>\n",
              "      <td>35.935863</td>\n",
              "      <td>3194.620276</td>\n",
              "      <td>11.826520</td>\n",
              "    </tr>\n",
              "    <tr>\n",
              "      <th>min</th>\n",
              "      <td>0.000000</td>\n",
              "      <td>-25.000000</td>\n",
              "      <td>12445.000000</td>\n",
              "      <td>219.000000</td>\n",
              "    </tr>\n",
              "    <tr>\n",
              "      <th>25%</th>\n",
              "      <td>1.000000</td>\n",
              "      <td>0.000000</td>\n",
              "      <td>24778.000000</td>\n",
              "      <td>219.000000</td>\n",
              "    </tr>\n",
              "    <tr>\n",
              "      <th>50%</th>\n",
              "      <td>1.000000</td>\n",
              "      <td>0.000000</td>\n",
              "      <td>25237.000000</td>\n",
              "      <td>219.000000</td>\n",
              "    </tr>\n",
              "    <tr>\n",
              "      <th>75%</th>\n",
              "      <td>1.000000</td>\n",
              "      <td>0.000000</td>\n",
              "      <td>25859.000000</td>\n",
              "      <td>219.000000</td>\n",
              "    </tr>\n",
              "    <tr>\n",
              "      <th>max</th>\n",
              "      <td>15.000000</td>\n",
              "      <td>995.000000</td>\n",
              "      <td>26433.000000</td>\n",
              "      <td>249.000000</td>\n",
              "    </tr>\n",
              "  </tbody>\n",
              "</table>\n",
              "</div>\n",
              "      <button class=\"colab-df-convert\" onclick=\"convertToInteractive('df-77d67cb4-04f5-4f8c-b65e-e973fc0619a6')\"\n",
              "              title=\"Convert this dataframe to an interactive table.\"\n",
              "              style=\"display:none;\">\n",
              "        \n",
              "  <svg xmlns=\"http://www.w3.org/2000/svg\" height=\"24px\"viewBox=\"0 0 24 24\"\n",
              "       width=\"24px\">\n",
              "    <path d=\"M0 0h24v24H0V0z\" fill=\"none\"/>\n",
              "    <path d=\"M18.56 5.44l.94 2.06.94-2.06 2.06-.94-2.06-.94-.94-2.06-.94 2.06-2.06.94zm-11 1L8.5 8.5l.94-2.06 2.06-.94-2.06-.94L8.5 2.5l-.94 2.06-2.06.94zm10 10l.94 2.06.94-2.06 2.06-.94-2.06-.94-.94-2.06-.94 2.06-2.06.94z\"/><path d=\"M17.41 7.96l-1.37-1.37c-.4-.4-.92-.59-1.43-.59-.52 0-1.04.2-1.43.59L10.3 9.45l-7.72 7.72c-.78.78-.78 2.05 0 2.83L4 21.41c.39.39.9.59 1.41.59.51 0 1.02-.2 1.41-.59l7.78-7.78 2.81-2.81c.8-.78.8-2.07 0-2.86zM5.41 20L4 18.59l7.72-7.72 1.47 1.35L5.41 20z\"/>\n",
              "  </svg>\n",
              "      </button>\n",
              "      \n",
              "  <style>\n",
              "    .colab-df-container {\n",
              "      display:flex;\n",
              "      flex-wrap:wrap;\n",
              "      gap: 12px;\n",
              "    }\n",
              "\n",
              "    .colab-df-convert {\n",
              "      background-color: #E8F0FE;\n",
              "      border: none;\n",
              "      border-radius: 50%;\n",
              "      cursor: pointer;\n",
              "      display: none;\n",
              "      fill: #1967D2;\n",
              "      height: 32px;\n",
              "      padding: 0 0 0 0;\n",
              "      width: 32px;\n",
              "    }\n",
              "\n",
              "    .colab-df-convert:hover {\n",
              "      background-color: #E2EBFA;\n",
              "      box-shadow: 0px 1px 2px rgba(60, 64, 67, 0.3), 0px 1px 3px 1px rgba(60, 64, 67, 0.15);\n",
              "      fill: #174EA6;\n",
              "    }\n",
              "\n",
              "    [theme=dark] .colab-df-convert {\n",
              "      background-color: #3B4455;\n",
              "      fill: #D2E3FC;\n",
              "    }\n",
              "\n",
              "    [theme=dark] .colab-df-convert:hover {\n",
              "      background-color: #434B5C;\n",
              "      box-shadow: 0px 1px 3px 1px rgba(0, 0, 0, 0.15);\n",
              "      filter: drop-shadow(0px 1px 2px rgba(0, 0, 0, 0.3));\n",
              "      fill: #FFFFFF;\n",
              "    }\n",
              "  </style>\n",
              "\n",
              "      <script>\n",
              "        const buttonEl =\n",
              "          document.querySelector('#df-77d67cb4-04f5-4f8c-b65e-e973fc0619a6 button.colab-df-convert');\n",
              "        buttonEl.style.display =\n",
              "          google.colab.kernel.accessAllowed ? 'block' : 'none';\n",
              "\n",
              "        async function convertToInteractive(key) {\n",
              "          const element = document.querySelector('#df-77d67cb4-04f5-4f8c-b65e-e973fc0619a6');\n",
              "          const dataTable =\n",
              "            await google.colab.kernel.invokeFunction('convertToInteractive',\n",
              "                                                     [key], {});\n",
              "          if (!dataTable) return;\n",
              "\n",
              "          const docLinkHtml = 'Like what you see? Visit the ' +\n",
              "            '<a target=\"_blank\" href=https://colab.research.google.com/notebooks/data_table.ipynb>data table notebook</a>'\n",
              "            + ' to learn more about interactive tables.';\n",
              "          element.innerHTML = '';\n",
              "          dataTable['output_type'] = 'display_data';\n",
              "          await google.colab.output.renderOutput(dataTable, element);\n",
              "          const docLink = document.createElement('div');\n",
              "          docLink.innerHTML = docLinkHtml;\n",
              "          element.appendChild(docLink);\n",
              "        }\n",
              "      </script>\n",
              "    </div>\n",
              "  </div>\n",
              "  "
            ]
          },
          "metadata": {},
          "execution_count": 50
        }
      ]
    },
    {
      "cell_type": "code",
      "source": [
        "data.isnull().sum()"
      ],
      "metadata": {
        "colab": {
          "base_uri": "https://localhost:8080/"
        },
        "id": "ZgG4fsPh-e9G",
        "outputId": "f1e0f9fb-dfce-42f7-a903-b2dc6de8bb22"
      },
      "execution_count": null,
      "outputs": [
        {
          "output_type": "execute_result",
          "data": {
            "text/plain": [
              "EventName            0\n",
              "StartDate            0\n",
              "EventType            0\n",
              "BookingReference     0\n",
              "AttendeeReference    0\n",
              "GroupSize            0\n",
              "IsLeadAttendee       0\n",
              "AttendeeGrossCost    0\n",
              "EventId              0\n",
              "BookingStatus        0\n",
              "AttendeeType         0\n",
              "TicketType           0\n",
              "StatusCreatedDate    0\n",
              "ClientId             0\n",
              "dtype: int64"
            ]
          },
          "metadata": {},
          "execution_count": 52
        }
      ]
    },
    {
      "cell_type": "code",
      "source": [
        "data.drop_duplicates(inplace=True)\n",
        "data.duplicated().sum()\n",
        "data.shape"
      ],
      "metadata": {
        "colab": {
          "base_uri": "https://localhost:8080/"
        },
        "id": "2g0h-GZf-fZC",
        "outputId": "116e1969-bfd7-4245-ecec-eb14f30fd1db"
      },
      "execution_count": null,
      "outputs": [
        {
          "output_type": "execute_result",
          "data": {
            "text/plain": [
              "(101060, 14)"
            ]
          },
          "metadata": {},
          "execution_count": 53
        }
      ]
    },
    {
      "cell_type": "code",
      "source": [
        "# Convert 'StartDate' and 'StatusCreatedDate' columns to datetime format\n",
        "data['StartDate'] = pd.to_datetime(data.StartDate)\n",
        "data['StatusCreatedDate'] = pd.to_datetime(data.StatusCreatedDate)\n",
        "\n",
        "# Remove rows where 'StatusCreatedDate' is after 'StartDate'\n",
        "data_temp = data.drop(data[data['StatusCreatedDate'] >= data['StartDate']].index)\n",
        "\n",
        "# Remove rows where 'BookingStatus' is not 'Attending'\n",
        "data_new = data_temp.drop(data_temp[data_temp['BookingStatus'] != 'Attending'].index)\n",
        "data_new.shape"
      ],
      "metadata": {
        "colab": {
          "base_uri": "https://localhost:8080/"
        },
        "id": "J6DxNRPYuBSH",
        "outputId": "1f7df28a-96ad-4de3-dbab-aa1b87af9e2f"
      },
      "execution_count": null,
      "outputs": [
        {
          "output_type": "execute_result",
          "data": {
            "text/plain": [
              "(67852, 14)"
            ]
          },
          "metadata": {},
          "execution_count": 54
        }
      ]
    },
    {
      "cell_type": "markdown",
      "source": [
        "# **LABEL ENCODING**"
      ],
      "metadata": {
        "id": "x4cSMZd-hoAe"
      }
    },
    {
      "cell_type": "code",
      "source": [
        "from sklearn import preprocessing\n",
        "df = data_new.copy()\n",
        "unique_cols = ['BookingStatus', 'AttendeeType', 'TicketType']\n",
        "encode = preprocessing.LabelEncoder()\n",
        "for i in unique_cols:\n",
        "    df[i] = encode.fit_transform(df[i])\n",
        "df.head()"
      ],
      "metadata": {
        "colab": {
          "base_uri": "https://localhost:8080/",
          "height": 548
        },
        "id": "772uAkLVvrlP",
        "outputId": "59f8007a-b06b-4c20-84d0-38a823f176d6"
      },
      "execution_count": null,
      "outputs": [
        {
          "output_type": "execute_result",
          "data": {
            "text/plain": [
              "                                           EventName           StartDate  \\\n",
              "0  Neoliberalism. the Family. and Bourgeois Domes... 2021-10-12 15:00:00   \n",
              "1                                 Queer Homemaking I 2021-10-22 15:00:00   \n",
              "2  Neoliberalism. the Family. and Bourgeois Domes... 2021-10-12 15:00:00   \n",
              "3                                 Queer Homemaking I 2021-10-22 15:00:00   \n",
              "4  Neoliberalism. the Family. and Bourgeois Domes... 2021-10-12 15:00:00   \n",
              "\n",
              "       EventType BookingReference AttendeeReference  GroupSize  \\\n",
              "0        Seminar          B953419          A1021430          1   \n",
              "1  Reading Group          B954541          A1022562          1   \n",
              "2        Seminar          B956238          A1024268          1   \n",
              "3  Reading Group          B959604          A1027663          1   \n",
              "4        Seminar          B959608          A1027667          1   \n",
              "\n",
              "   IsLeadAttendee  AttendeeGrossCost  EventId  BookingStatus  AttendeeType  \\\n",
              "0            True                0.0    24077              0             5   \n",
              "1            True                0.0    24071              0             5   \n",
              "2            True                0.0    24077              0             5   \n",
              "3            True                0.0    24071              0             5   \n",
              "4            True                0.0    24077              0             5   \n",
              "\n",
              "   TicketType   StatusCreatedDate  ClientId  \n",
              "0          83 2021-05-03 16:27:00       219  \n",
              "1          83 2021-08-03 17:02:00       219  \n",
              "2          83 2021-10-03 16:44:00       219  \n",
              "3          83 2021-03-16 17:33:00       219  \n",
              "4          83 2021-03-16 17:35:00       219  "
            ],
            "text/html": [
              "\n",
              "  <div id=\"df-f841c381-f85b-4b52-9ad1-29ba41b232b3\">\n",
              "    <div class=\"colab-df-container\">\n",
              "      <div>\n",
              "<style scoped>\n",
              "    .dataframe tbody tr th:only-of-type {\n",
              "        vertical-align: middle;\n",
              "    }\n",
              "\n",
              "    .dataframe tbody tr th {\n",
              "        vertical-align: top;\n",
              "    }\n",
              "\n",
              "    .dataframe thead th {\n",
              "        text-align: right;\n",
              "    }\n",
              "</style>\n",
              "<table border=\"1\" class=\"dataframe\">\n",
              "  <thead>\n",
              "    <tr style=\"text-align: right;\">\n",
              "      <th></th>\n",
              "      <th>EventName</th>\n",
              "      <th>StartDate</th>\n",
              "      <th>EventType</th>\n",
              "      <th>BookingReference</th>\n",
              "      <th>AttendeeReference</th>\n",
              "      <th>GroupSize</th>\n",
              "      <th>IsLeadAttendee</th>\n",
              "      <th>AttendeeGrossCost</th>\n",
              "      <th>EventId</th>\n",
              "      <th>BookingStatus</th>\n",
              "      <th>AttendeeType</th>\n",
              "      <th>TicketType</th>\n",
              "      <th>StatusCreatedDate</th>\n",
              "      <th>ClientId</th>\n",
              "    </tr>\n",
              "  </thead>\n",
              "  <tbody>\n",
              "    <tr>\n",
              "      <th>0</th>\n",
              "      <td>Neoliberalism. the Family. and Bourgeois Domes...</td>\n",
              "      <td>2021-10-12 15:00:00</td>\n",
              "      <td>Seminar</td>\n",
              "      <td>B953419</td>\n",
              "      <td>A1021430</td>\n",
              "      <td>1</td>\n",
              "      <td>True</td>\n",
              "      <td>0.0</td>\n",
              "      <td>24077</td>\n",
              "      <td>0</td>\n",
              "      <td>5</td>\n",
              "      <td>83</td>\n",
              "      <td>2021-05-03 16:27:00</td>\n",
              "      <td>219</td>\n",
              "    </tr>\n",
              "    <tr>\n",
              "      <th>1</th>\n",
              "      <td>Queer Homemaking I</td>\n",
              "      <td>2021-10-22 15:00:00</td>\n",
              "      <td>Reading Group</td>\n",
              "      <td>B954541</td>\n",
              "      <td>A1022562</td>\n",
              "      <td>1</td>\n",
              "      <td>True</td>\n",
              "      <td>0.0</td>\n",
              "      <td>24071</td>\n",
              "      <td>0</td>\n",
              "      <td>5</td>\n",
              "      <td>83</td>\n",
              "      <td>2021-08-03 17:02:00</td>\n",
              "      <td>219</td>\n",
              "    </tr>\n",
              "    <tr>\n",
              "      <th>2</th>\n",
              "      <td>Neoliberalism. the Family. and Bourgeois Domes...</td>\n",
              "      <td>2021-10-12 15:00:00</td>\n",
              "      <td>Seminar</td>\n",
              "      <td>B956238</td>\n",
              "      <td>A1024268</td>\n",
              "      <td>1</td>\n",
              "      <td>True</td>\n",
              "      <td>0.0</td>\n",
              "      <td>24077</td>\n",
              "      <td>0</td>\n",
              "      <td>5</td>\n",
              "      <td>83</td>\n",
              "      <td>2021-10-03 16:44:00</td>\n",
              "      <td>219</td>\n",
              "    </tr>\n",
              "    <tr>\n",
              "      <th>3</th>\n",
              "      <td>Queer Homemaking I</td>\n",
              "      <td>2021-10-22 15:00:00</td>\n",
              "      <td>Reading Group</td>\n",
              "      <td>B959604</td>\n",
              "      <td>A1027663</td>\n",
              "      <td>1</td>\n",
              "      <td>True</td>\n",
              "      <td>0.0</td>\n",
              "      <td>24071</td>\n",
              "      <td>0</td>\n",
              "      <td>5</td>\n",
              "      <td>83</td>\n",
              "      <td>2021-03-16 17:33:00</td>\n",
              "      <td>219</td>\n",
              "    </tr>\n",
              "    <tr>\n",
              "      <th>4</th>\n",
              "      <td>Neoliberalism. the Family. and Bourgeois Domes...</td>\n",
              "      <td>2021-10-12 15:00:00</td>\n",
              "      <td>Seminar</td>\n",
              "      <td>B959608</td>\n",
              "      <td>A1027667</td>\n",
              "      <td>1</td>\n",
              "      <td>True</td>\n",
              "      <td>0.0</td>\n",
              "      <td>24077</td>\n",
              "      <td>0</td>\n",
              "      <td>5</td>\n",
              "      <td>83</td>\n",
              "      <td>2021-03-16 17:35:00</td>\n",
              "      <td>219</td>\n",
              "    </tr>\n",
              "  </tbody>\n",
              "</table>\n",
              "</div>\n",
              "      <button class=\"colab-df-convert\" onclick=\"convertToInteractive('df-f841c381-f85b-4b52-9ad1-29ba41b232b3')\"\n",
              "              title=\"Convert this dataframe to an interactive table.\"\n",
              "              style=\"display:none;\">\n",
              "        \n",
              "  <svg xmlns=\"http://www.w3.org/2000/svg\" height=\"24px\"viewBox=\"0 0 24 24\"\n",
              "       width=\"24px\">\n",
              "    <path d=\"M0 0h24v24H0V0z\" fill=\"none\"/>\n",
              "    <path d=\"M18.56 5.44l.94 2.06.94-2.06 2.06-.94-2.06-.94-.94-2.06-.94 2.06-2.06.94zm-11 1L8.5 8.5l.94-2.06 2.06-.94-2.06-.94L8.5 2.5l-.94 2.06-2.06.94zm10 10l.94 2.06.94-2.06 2.06-.94-2.06-.94-.94-2.06-.94 2.06-2.06.94z\"/><path d=\"M17.41 7.96l-1.37-1.37c-.4-.4-.92-.59-1.43-.59-.52 0-1.04.2-1.43.59L10.3 9.45l-7.72 7.72c-.78.78-.78 2.05 0 2.83L4 21.41c.39.39.9.59 1.41.59.51 0 1.02-.2 1.41-.59l7.78-7.78 2.81-2.81c.8-.78.8-2.07 0-2.86zM5.41 20L4 18.59l7.72-7.72 1.47 1.35L5.41 20z\"/>\n",
              "  </svg>\n",
              "      </button>\n",
              "      \n",
              "  <style>\n",
              "    .colab-df-container {\n",
              "      display:flex;\n",
              "      flex-wrap:wrap;\n",
              "      gap: 12px;\n",
              "    }\n",
              "\n",
              "    .colab-df-convert {\n",
              "      background-color: #E8F0FE;\n",
              "      border: none;\n",
              "      border-radius: 50%;\n",
              "      cursor: pointer;\n",
              "      display: none;\n",
              "      fill: #1967D2;\n",
              "      height: 32px;\n",
              "      padding: 0 0 0 0;\n",
              "      width: 32px;\n",
              "    }\n",
              "\n",
              "    .colab-df-convert:hover {\n",
              "      background-color: #E2EBFA;\n",
              "      box-shadow: 0px 1px 2px rgba(60, 64, 67, 0.3), 0px 1px 3px 1px rgba(60, 64, 67, 0.15);\n",
              "      fill: #174EA6;\n",
              "    }\n",
              "\n",
              "    [theme=dark] .colab-df-convert {\n",
              "      background-color: #3B4455;\n",
              "      fill: #D2E3FC;\n",
              "    }\n",
              "\n",
              "    [theme=dark] .colab-df-convert:hover {\n",
              "      background-color: #434B5C;\n",
              "      box-shadow: 0px 1px 3px 1px rgba(0, 0, 0, 0.15);\n",
              "      filter: drop-shadow(0px 1px 2px rgba(0, 0, 0, 0.3));\n",
              "      fill: #FFFFFF;\n",
              "    }\n",
              "  </style>\n",
              "\n",
              "      <script>\n",
              "        const buttonEl =\n",
              "          document.querySelector('#df-f841c381-f85b-4b52-9ad1-29ba41b232b3 button.colab-df-convert');\n",
              "        buttonEl.style.display =\n",
              "          google.colab.kernel.accessAllowed ? 'block' : 'none';\n",
              "\n",
              "        async function convertToInteractive(key) {\n",
              "          const element = document.querySelector('#df-f841c381-f85b-4b52-9ad1-29ba41b232b3');\n",
              "          const dataTable =\n",
              "            await google.colab.kernel.invokeFunction('convertToInteractive',\n",
              "                                                     [key], {});\n",
              "          if (!dataTable) return;\n",
              "\n",
              "          const docLinkHtml = 'Like what you see? Visit the ' +\n",
              "            '<a target=\"_blank\" href=https://colab.research.google.com/notebooks/data_table.ipynb>data table notebook</a>'\n",
              "            + ' to learn more about interactive tables.';\n",
              "          element.innerHTML = '';\n",
              "          dataTable['output_type'] = 'display_data';\n",
              "          await google.colab.output.renderOutput(dataTable, element);\n",
              "          const docLink = document.createElement('div');\n",
              "          docLink.innerHTML = docLinkHtml;\n",
              "          element.appendChild(docLink);\n",
              "        }\n",
              "      </script>\n",
              "    </div>\n",
              "  </div>\n",
              "  "
            ]
          },
          "metadata": {},
          "execution_count": 55
        }
      ]
    },
    {
      "cell_type": "markdown",
      "source": [
        "# **GROUPING DATA**"
      ],
      "metadata": {
        "id": "Rorsi7NLhy-e"
      }
    },
    {
      "cell_type": "code",
      "source": [
        "import numpy as np\n",
        "corr=df.corr()[\"GroupSize\"]\n",
        "corr[np.argsort(corr, axis=0)[::-1]]"
      ],
      "metadata": {
        "colab": {
          "base_uri": "https://localhost:8080/"
        },
        "id": "FcEoR_hFocKH",
        "outputId": "14b22bea-1b86-43dd-9bd4-18bde374bdcc"
      },
      "execution_count": null,
      "outputs": [
        {
          "output_type": "execute_result",
          "data": {
            "text/plain": [
              "GroupSize            1.000000\n",
              "TicketType          -0.595445\n",
              "BookingStatus             NaN\n",
              "ClientId             0.763280\n",
              "AttendeeGrossCost    0.272755\n",
              "AttendeeType         0.429964\n",
              "EventId             -0.655174\n",
              "IsLeadAttendee      -0.732352\n",
              "Name: GroupSize, dtype: float64"
            ]
          },
          "metadata": {},
          "execution_count": 56
        }
      ]
    },
    {
      "cell_type": "code",
      "source": [
        "#plotting correlations\n",
        "import matplotlib.pyplot as plt\n",
        "\n",
        "num_feat=df.columns[df.dtypes!=object]\n",
        "num_feat=num_feat[1:-1] \n",
        "labels = []\n",
        "values = []\n",
        "for col in num_feat:\n",
        "    labels.append(col)\n",
        "    values.append(np.corrcoef(df[col].values.astype('float64'), df.GroupSize.values.astype('float64'))[0,1])\n",
        "    \n",
        "ind = np.arange(len(labels))\n",
        "width = 0.9\n",
        "fig, ax = plt.subplots(figsize=(12,3))\n",
        "rects = ax.barh(ind, np.array(values), color='red')\n",
        "ax.set_yticks(ind+((width)/2.))\n",
        "ax.set_yticklabels(labels, rotation='horizontal')\n",
        "ax.set_xlabel(\"Correlation coefficient\")\n",
        "ax.set_title(\"Correlation Coefficients w.r.t GroupSize\")"
      ],
      "metadata": {
        "colab": {
          "base_uri": "https://localhost:8080/",
          "height": 420
        },
        "id": "ZtjPoanBpU2Q",
        "outputId": "771853b9-df36-4745-d290-d3e021597b33"
      },
      "execution_count": null,
      "outputs": [
        {
          "output_type": "stream",
          "name": "stderr",
          "text": [
            "/usr/local/lib/python3.9/dist-packages/numpy/lib/function_base.py:2829: RuntimeWarning: invalid value encountered in true_divide\n",
            "  c /= stddev[:, None]\n",
            "/usr/local/lib/python3.9/dist-packages/numpy/lib/function_base.py:2830: RuntimeWarning: invalid value encountered in true_divide\n",
            "  c /= stddev[None, :]\n"
          ]
        },
        {
          "output_type": "execute_result",
          "data": {
            "text/plain": [
              "Text(0.5, 1.0, 'Correlation Coefficients w.r.t GroupSize')"
            ]
          },
          "metadata": {},
          "execution_count": 57
        },
        {
          "output_type": "display_data",
          "data": {
            "text/plain": [
              "<Figure size 1200x300 with 1 Axes>"
            ],
            "image/png": "[encoded data removed]"
          },
          "metadata": {}
        }
      ]
    },
    {
      "cell_type": "code",
      "source": [
        "# getting rid of unnecessary columns\n",
        "df = df.drop(['BookingReference', 'AttendeeReference', 'IsLeadAttendee', 'EventId', 'ClientId'], axis=1)\n",
        "df.head()"
      ],
      "metadata": {
        "colab": {
          "base_uri": "https://localhost:8080/",
          "height": 337
        },
        "id": "b8IhzrNYj0UM",
        "outputId": "cdbd9d9c-866d-4696-e6ce-3308bbd958ce"
      },
      "execution_count": null,
      "outputs": [
        {
          "output_type": "execute_result",
          "data": {
            "text/plain": [
              "                                           EventName           StartDate  \\\n",
              "0  Neoliberalism. the Family. and Bourgeois Domes... 2021-10-12 15:00:00   \n",
              "1                                 Queer Homemaking I 2021-10-22 15:00:00   \n",
              "2  Neoliberalism. the Family. and Bourgeois Domes... 2021-10-12 15:00:00   \n",
              "3                                 Queer Homemaking I 2021-10-22 15:00:00   \n",
              "4  Neoliberalism. the Family. and Bourgeois Domes... 2021-10-12 15:00:00   \n",
              "\n",
              "       EventType  GroupSize  AttendeeGrossCost  BookingStatus  AttendeeType  \\\n",
              "0        Seminar          1                0.0              0             5   \n",
              "1  Reading Group          1                0.0              0             5   \n",
              "2        Seminar          1                0.0              0             5   \n",
              "3  Reading Group          1                0.0              0             5   \n",
              "4        Seminar          1                0.0              0             5   \n",
              "\n",
              "   TicketType   StatusCreatedDate  \n",
              "0          83 2021-05-03 16:27:00  \n",
              "1          83 2021-08-03 17:02:00  \n",
              "2          83 2021-10-03 16:44:00  \n",
              "3          83 2021-03-16 17:33:00  \n",
              "4          83 2021-03-16 17:35:00  "
            ],
            "text/html": [
              "\n",
              "  <div id=\"df-35359d65-5866-434f-a97a-cb6536b90c2c\">\n",
              "    <div class=\"colab-df-container\">\n",
              "      <div>\n",
              "<style scoped>\n",
              "    .dataframe tbody tr th:only-of-type {\n",
              "        vertical-align: middle;\n",
              "    }\n",
              "\n",
              "    .dataframe tbody tr th {\n",
              "        vertical-align: top;\n",
              "    }\n",
              "\n",
              "    .dataframe thead th {\n",
              "        text-align: right;\n",
              "    }\n",
              "</style>\n",
              "<table border=\"1\" class=\"dataframe\">\n",
              "  <thead>\n",
              "    <tr style=\"text-align: right;\">\n",
              "      <th></th>\n",
              "      <th>EventName</th>\n",
              "      <th>StartDate</th>\n",
              "      <th>EventType</th>\n",
              "      <th>GroupSize</th>\n",
              "      <th>AttendeeGrossCost</th>\n",
              "      <th>BookingStatus</th>\n",
              "      <th>AttendeeType</th>\n",
              "      <th>TicketType</th>\n",
              "      <th>StatusCreatedDate</th>\n",
              "    </tr>\n",
              "  </thead>\n",
              "  <tbody>\n",
              "    <tr>\n",
              "      <th>0</th>\n",
              "      <td>Neoliberalism. the Family. and Bourgeois Domes...</td>\n",
              "      <td>2021-10-12 15:00:00</td>\n",
              "      <td>Seminar</td>\n",
              "      <td>1</td>\n",
              "      <td>0.0</td>\n",
              "      <td>0</td>\n",
              "      <td>5</td>\n",
              "      <td>83</td>\n",
              "      <td>2021-05-03 16:27:00</td>\n",
              "    </tr>\n",
              "    <tr>\n",
              "      <th>1</th>\n",
              "      <td>Queer Homemaking I</td>\n",
              "      <td>2021-10-22 15:00:00</td>\n",
              "      <td>Reading Group</td>\n",
              "      <td>1</td>\n",
              "      <td>0.0</td>\n",
              "      <td>0</td>\n",
              "      <td>5</td>\n",
              "      <td>83</td>\n",
              "      <td>2021-08-03 17:02:00</td>\n",
              "    </tr>\n",
              "    <tr>\n",
              "      <th>2</th>\n",
              "      <td>Neoliberalism. the Family. and Bourgeois Domes...</td>\n",
              "      <td>2021-10-12 15:00:00</td>\n",
              "      <td>Seminar</td>\n",
              "      <td>1</td>\n",
              "      <td>0.0</td>\n",
              "      <td>0</td>\n",
              "      <td>5</td>\n",
              "      <td>83</td>\n",
              "      <td>2021-10-03 16:44:00</td>\n",
              "    </tr>\n",
              "    <tr>\n",
              "      <th>3</th>\n",
              "      <td>Queer Homemaking I</td>\n",
              "      <td>2021-10-22 15:00:00</td>\n",
              "      <td>Reading Group</td>\n",
              "      <td>1</td>\n",
              "      <td>0.0</td>\n",
              "      <td>0</td>\n",
              "      <td>5</td>\n",
              "      <td>83</td>\n",
              "      <td>2021-03-16 17:33:00</td>\n",
              "    </tr>\n",
              "    <tr>\n",
              "      <th>4</th>\n",
              "      <td>Neoliberalism. the Family. and Bourgeois Domes...</td>\n",
              "      <td>2021-10-12 15:00:00</td>\n",
              "      <td>Seminar</td>\n",
              "      <td>1</td>\n",
              "      <td>0.0</td>\n",
              "      <td>0</td>\n",
              "      <td>5</td>\n",
              "      <td>83</td>\n",
              "      <td>2021-03-16 17:35:00</td>\n",
              "    </tr>\n",
              "  </tbody>\n",
              "</table>\n",
              "</div>\n",
              "      <button class=\"colab-df-convert\" onclick=\"convertToInteractive('df-35359d65-5866-434f-a97a-cb6536b90c2c')\"\n",
              "              title=\"Convert this dataframe to an interactive table.\"\n",
              "              style=\"display:none;\">\n",
              "        \n",
              "  <svg xmlns=\"http://www.w3.org/2000/svg\" height=\"24px\"viewBox=\"0 0 24 24\"\n",
              "       width=\"24px\">\n",
              "    <path d=\"M0 0h24v24H0V0z\" fill=\"none\"/>\n",
              "    <path d=\"M18.56 5.44l.94 2.06.94-2.06 2.06-.94-2.06-.94-.94-2.06-.94 2.06-2.06.94zm-11 1L8.5 8.5l.94-2.06 2.06-.94-2.06-.94L8.5 2.5l-.94 2.06-2.06.94zm10 10l.94 2.06.94-2.06 2.06-.94-2.06-.94-.94-2.06-.94 2.06-2.06.94z\"/><path d=\"M17.41 7.96l-1.37-1.37c-.4-.4-.92-.59-1.43-.59-.52 0-1.04.2-1.43.59L10.3 9.45l-7.72 7.72c-.78.78-.78 2.05 0 2.83L4 21.41c.39.39.9.59 1.41.59.51 0 1.02-.2 1.41-.59l7.78-7.78 2.81-2.81c.8-.78.8-2.07 0-2.86zM5.41 20L4 18.59l7.72-7.72 1.47 1.35L5.41 20z\"/>\n",
              "  </svg>\n",
              "      </button>\n",
              "      \n",
              "  <style>\n",
              "    .colab-df-container {\n",
              "      display:flex;\n",
              "      flex-wrap:wrap;\n",
              "      gap: 12px;\n",
              "    }\n",
              "\n",
              "    .colab-df-convert {\n",
              "      background-color: #E8F0FE;\n",
              "      border: none;\n",
              "      border-radius: 50%;\n",
              "      cursor: pointer;\n",
              "      display: none;\n",
              "      fill: #1967D2;\n",
              "      height: 32px;\n",
              "      padding: 0 0 0 0;\n",
              "      width: 32px;\n",
              "    }\n",
              "\n",
              "    .colab-df-convert:hover {\n",
              "      background-color: #E2EBFA;\n",
              "      box-shadow: 0px 1px 2px rgba(60, 64, 67, 0.3), 0px 1px 3px 1px rgba(60, 64, 67, 0.15);\n",
              "      fill: #174EA6;\n",
              "    }\n",
              "\n",
              "    [theme=dark] .colab-df-convert {\n",
              "      background-color: #3B4455;\n",
              "      fill: #D2E3FC;\n",
              "    }\n",
              "\n",
              "    [theme=dark] .colab-df-convert:hover {\n",
              "      background-color: #434B5C;\n",
              "      box-shadow: 0px 1px 3px 1px rgba(0, 0, 0, 0.15);\n",
              "      filter: drop-shadow(0px 1px 2px rgba(0, 0, 0, 0.3));\n",
              "      fill: #FFFFFF;\n",
              "    }\n",
              "  </style>\n",
              "\n",
              "      <script>\n",
              "        const buttonEl =\n",
              "          document.querySelector('#df-35359d65-5866-434f-a97a-cb6536b90c2c button.colab-df-convert');\n",
              "        buttonEl.style.display =\n",
              "          google.colab.kernel.accessAllowed ? 'block' : 'none';\n",
              "\n",
              "        async function convertToInteractive(key) {\n",
              "          const element = document.querySelector('#df-35359d65-5866-434f-a97a-cb6536b90c2c');\n",
              "          const dataTable =\n",
              "            await google.colab.kernel.invokeFunction('convertToInteractive',\n",
              "                                                     [key], {});\n",
              "          if (!dataTable) return;\n",
              "\n",
              "          const docLinkHtml = 'Like what you see? Visit the ' +\n",
              "            '<a target=\"_blank\" href=https://colab.research.google.com/notebooks/data_table.ipynb>data table notebook</a>'\n",
              "            + ' to learn more about interactive tables.';\n",
              "          element.innerHTML = '';\n",
              "          dataTable['output_type'] = 'display_data';\n",
              "          await google.colab.output.renderOutput(dataTable, element);\n",
              "          const docLink = document.createElement('div');\n",
              "          docLink.innerHTML = docLinkHtml;\n",
              "          element.appendChild(docLink);\n",
              "        }\n",
              "      </script>\n",
              "    </div>\n",
              "  </div>\n",
              "  "
            ]
          },
          "metadata": {},
          "execution_count": 58
        }
      ]
    },
    {
      "cell_type": "code",
      "source": [
        "df.AttendeeGrossCost.replace(0.0, df['AttendeeGrossCost'].mean(), inplace=True)\n",
        "df.head()"
      ],
      "metadata": {
        "colab": {
          "base_uri": "https://localhost:8080/",
          "height": 337
        },
        "id": "JOOIV4TNtoQ_",
        "outputId": "25a578c3-8830-43d3-a657-5f48c4f03da7"
      },
      "execution_count": null,
      "outputs": [
        {
          "output_type": "execute_result",
          "data": {
            "text/plain": [
              "                                           EventName           StartDate  \\\n",
              "0  Neoliberalism. the Family. and Bourgeois Domes... 2021-10-12 15:00:00   \n",
              "1                                 Queer Homemaking I 2021-10-22 15:00:00   \n",
              "2  Neoliberalism. the Family. and Bourgeois Domes... 2021-10-12 15:00:00   \n",
              "3                                 Queer Homemaking I 2021-10-22 15:00:00   \n",
              "4  Neoliberalism. the Family. and Bourgeois Domes... 2021-10-12 15:00:00   \n",
              "\n",
              "       EventType  GroupSize  AttendeeGrossCost  BookingStatus  AttendeeType  \\\n",
              "0        Seminar          1           7.713538              0             5   \n",
              "1  Reading Group          1           7.713538              0             5   \n",
              "2        Seminar          1           7.713538              0             5   \n",
              "3  Reading Group          1           7.713538              0             5   \n",
              "4        Seminar          1           7.713538              0             5   \n",
              "\n",
              "   TicketType   StatusCreatedDate  \n",
              "0          83 2021-05-03 16:27:00  \n",
              "1          83 2021-08-03 17:02:00  \n",
              "2          83 2021-10-03 16:44:00  \n",
              "3          83 2021-03-16 17:33:00  \n",
              "4          83 2021-03-16 17:35:00  "
            ],
            "text/html": [
              "\n",
              "  <div id=\"df-7d1f13ec-ec14-4843-8bcb-76df6c1d0646\">\n",
              "    <div class=\"colab-df-container\">\n",
              "      <div>\n",
              "<style scoped>\n",
              "    .dataframe tbody tr th:only-of-type {\n",
              "        vertical-align: middle;\n",
              "    }\n",
              "\n",
              "    .dataframe tbody tr th {\n",
              "        vertical-align: top;\n",
              "    }\n",
              "\n",
              "    .dataframe thead th {\n",
              "        text-align: right;\n",
              "    }\n",
              "</style>\n",
              "<table border=\"1\" class=\"dataframe\">\n",
              "  <thead>\n",
              "    <tr style=\"text-align: right;\">\n",
              "      <th></th>\n",
              "      <th>EventName</th>\n",
              "      <th>StartDate</th>\n",
              "      <th>EventType</th>\n",
              "      <th>GroupSize</th>\n",
              "      <th>AttendeeGrossCost</th>\n",
              "      <th>BookingStatus</th>\n",
              "      <th>AttendeeType</th>\n",
              "      <th>TicketType</th>\n",
              "      <th>StatusCreatedDate</th>\n",
              "    </tr>\n",
              "  </thead>\n",
              "  <tbody>\n",
              "    <tr>\n",
              "      <th>0</th>\n",
              "      <td>Neoliberalism. the Family. and Bourgeois Domes...</td>\n",
              "      <td>2021-10-12 15:00:00</td>\n",
              "      <td>Seminar</td>\n",
              "      <td>1</td>\n",
              "      <td>7.713538</td>\n",
              "      <td>0</td>\n",
              "      <td>5</td>\n",
              "      <td>83</td>\n",
              "      <td>2021-05-03 16:27:00</td>\n",
              "    </tr>\n",
              "    <tr>\n",
              "      <th>1</th>\n",
              "      <td>Queer Homemaking I</td>\n",
              "      <td>2021-10-22 15:00:00</td>\n",
              "      <td>Reading Group</td>\n",
              "      <td>1</td>\n",
              "      <td>7.713538</td>\n",
              "      <td>0</td>\n",
              "      <td>5</td>\n",
              "      <td>83</td>\n",
              "      <td>2021-08-03 17:02:00</td>\n",
              "    </tr>\n",
              "    <tr>\n",
              "      <th>2</th>\n",
              "      <td>Neoliberalism. the Family. and Bourgeois Domes...</td>\n",
              "      <td>2021-10-12 15:00:00</td>\n",
              "      <td>Seminar</td>\n",
              "      <td>1</td>\n",
              "      <td>7.713538</td>\n",
              "      <td>0</td>\n",
              "      <td>5</td>\n",
              "      <td>83</td>\n",
              "      <td>2021-10-03 16:44:00</td>\n",
              "    </tr>\n",
              "    <tr>\n",
              "      <th>3</th>\n",
              "      <td>Queer Homemaking I</td>\n",
              "      <td>2021-10-22 15:00:00</td>\n",
              "      <td>Reading Group</td>\n",
              "      <td>1</td>\n",
              "      <td>7.713538</td>\n",
              "      <td>0</td>\n",
              "      <td>5</td>\n",
              "      <td>83</td>\n",
              "      <td>2021-03-16 17:33:00</td>\n",
              "    </tr>\n",
              "    <tr>\n",
              "      <th>4</th>\n",
              "      <td>Neoliberalism. the Family. and Bourgeois Domes...</td>\n",
              "      <td>2021-10-12 15:00:00</td>\n",
              "      <td>Seminar</td>\n",
              "      <td>1</td>\n",
              "      <td>7.713538</td>\n",
              "      <td>0</td>\n",
              "      <td>5</td>\n",
              "      <td>83</td>\n",
              "      <td>2021-03-16 17:35:00</td>\n",
              "    </tr>\n",
              "  </tbody>\n",
              "</table>\n",
              "</div>\n",
              "      <button class=\"colab-df-convert\" onclick=\"convertToInteractive('df-7d1f13ec-ec14-4843-8bcb-76df6c1d0646')\"\n",
              "              title=\"Convert this dataframe to an interactive table.\"\n",
              "              style=\"display:none;\">\n",
              "        \n",
              "  <svg xmlns=\"http://www.w3.org/2000/svg\" height=\"24px\"viewBox=\"0 0 24 24\"\n",
              "       width=\"24px\">\n",
              "    <path d=\"M0 0h24v24H0V0z\" fill=\"none\"/>\n",
              "    <path d=\"M18.56 5.44l.94 2.06.94-2.06 2.06-.94-2.06-.94-.94-2.06-.94 2.06-2.06.94zm-11 1L8.5 8.5l.94-2.06 2.06-.94-2.06-.94L8.5 2.5l-.94 2.06-2.06.94zm10 10l.94 2.06.94-2.06 2.06-.94-2.06-.94-.94-2.06-.94 2.06-2.06.94z\"/><path d=\"M17.41 7.96l-1.37-1.37c-.4-.4-.92-.59-1.43-.59-.52 0-1.04.2-1.43.59L10.3 9.45l-7.72 7.72c-.78.78-.78 2.05 0 2.83L4 21.41c.39.39.9.59 1.41.59.51 0 1.02-.2 1.41-.59l7.78-7.78 2.81-2.81c.8-.78.8-2.07 0-2.86zM5.41 20L4 18.59l7.72-7.72 1.47 1.35L5.41 20z\"/>\n",
              "  </svg>\n",
              "      </button>\n",
              "      \n",
              "  <style>\n",
              "    .colab-df-container {\n",
              "      display:flex;\n",
              "      flex-wrap:wrap;\n",
              "      gap: 12px;\n",
              "    }\n",
              "\n",
              "    .colab-df-convert {\n",
              "      background-color: #E8F0FE;\n",
              "      border: none;\n",
              "      border-radius: 50%;\n",
              "      cursor: pointer;\n",
              "      display: none;\n",
              "      fill: #1967D2;\n",
              "      height: 32px;\n",
              "      padding: 0 0 0 0;\n",
              "      width: 32px;\n",
              "    }\n",
              "\n",
              "    .colab-df-convert:hover {\n",
              "      background-color: #E2EBFA;\n",
              "      box-shadow: 0px 1px 2px rgba(60, 64, 67, 0.3), 0px 1px 3px 1px rgba(60, 64, 67, 0.15);\n",
              "      fill: #174EA6;\n",
              "    }\n",
              "\n",
              "    [theme=dark] .colab-df-convert {\n",
              "      background-color: #3B4455;\n",
              "      fill: #D2E3FC;\n",
              "    }\n",
              "\n",
              "    [theme=dark] .colab-df-convert:hover {\n",
              "      background-color: #434B5C;\n",
              "      box-shadow: 0px 1px 3px 1px rgba(0, 0, 0, 0.15);\n",
              "      filter: drop-shadow(0px 1px 2px rgba(0, 0, 0, 0.3));\n",
              "      fill: #FFFFFF;\n",
              "    }\n",
              "  </style>\n",
              "\n",
              "      <script>\n",
              "        const buttonEl =\n",
              "          document.querySelector('#df-7d1f13ec-ec14-4843-8bcb-76df6c1d0646 button.colab-df-convert');\n",
              "        buttonEl.style.display =\n",
              "          google.colab.kernel.accessAllowed ? 'block' : 'none';\n",
              "\n",
              "        async function convertToInteractive(key) {\n",
              "          const element = document.querySelector('#df-7d1f13ec-ec14-4843-8bcb-76df6c1d0646');\n",
              "          const dataTable =\n",
              "            await google.colab.kernel.invokeFunction('convertToInteractive',\n",
              "                                                     [key], {});\n",
              "          if (!dataTable) return;\n",
              "\n",
              "          const docLinkHtml = 'Like what you see? Visit the ' +\n",
              "            '<a target=\"_blank\" href=https://colab.research.google.com/notebooks/data_table.ipynb>data table notebook</a>'\n",
              "            + ' to learn more about interactive tables.';\n",
              "          element.innerHTML = '';\n",
              "          dataTable['output_type'] = 'display_data';\n",
              "          await google.colab.output.renderOutput(dataTable, element);\n",
              "          const docLink = document.createElement('div');\n",
              "          docLink.innerHTML = docLinkHtml;\n",
              "          element.appendChild(docLink);\n",
              "        }\n",
              "      </script>\n",
              "    </div>\n",
              "  </div>\n",
              "  "
            ]
          },
          "metadata": {},
          "execution_count": 59
        }
      ]
    },
    {
      "cell_type": "markdown",
      "source": [
        "**VISUALISATIONS**"
      ],
      "metadata": {
        "id": "68-euBD8iC0W"
      }
    },
    {
      "cell_type": "code",
      "source": [
        "import seaborn as sns\n",
        "df_1 = df.copy()\n",
        "uniq = df_1['EventType'].unique()\n",
        "for i in uniq:\n",
        "  box_data = df_1[df_1.EventType == i][['EventType', 'GroupSize']]\n",
        "  box_data.set_index('EventType')\n",
        "  sns.boxplot(x=box_data['EventType'], y= box_data['GroupSize'], data=box_data)"
      ],
      "metadata": {
        "id": "-den3e7kyL9s",
        "colab": {
          "base_uri": "https://localhost:8080/",
          "height": 449
        },
        "outputId": "58af714e-69f1-42f3-a385-4580e7f29565"
      },
      "execution_count": null,
      "outputs": [
        {
          "output_type": "display_data",
          "data": {
            "text/plain": [
              "<Figure size 640x480 with 1 Axes>"
            ],
            "image/png": "[encoded data removed]"
          },
          "metadata": {}
        }
      ]
    },
    {
      "cell_type": "code",
      "source": [
        "import pandas as pd\n",
        "import matplotlib.pyplot as plt\n",
        "data = pd.read_csv('/content/csv1.csv')\n",
        "\n",
        "# feature extractions\n",
        "data['StartDate'] = pd.to_datetime(data.StartDate)\n",
        "data['StatusCreatedDate'] = pd.to_datetime(data.StatusCreatedDate)\n",
        "data['year'] = pd.DatetimeIndex(data.StartDate).year\n",
        "data['month'] = pd.DatetimeIndex(data.StartDate).month\n",
        "\n",
        "# dropping rows where ticket was booked after the start date\n",
        "data = data.drop(data[data['StatusCreatedDate'] >= data['StartDate']].index)\n",
        "\n",
        "# dropping rows where the customer has booked and is not attending the Event\n",
        "data_new = data.drop(data[data['BookingStatus'] != 'Attending'].index)\n",
        "\n",
        "def search_by_event_name(event_name_choice):\n",
        "    values = data_new['EventName'].unique()\n",
        "    for i in values:\n",
        "        if i == event_name_choice:\n",
        "            # start date of booking and start date of the event is evaluated below\n",
        "            limiting_date_min = data_new.loc[data_new['EventName'].isin([i]), 'StatusCreatedDate'].min()\n",
        "            limiting_date_max = data_new.loc[data_new['EventName'].isin([i]), 'StartDate'].max()\n",
        "            print(limiting_date_max)\n",
        "            print(limiting_date_min)\n",
        "            # grouping and summing no of booking according to each month\n",
        "            data_event_based = data_new[data_new.EventName == i][['GroupSize']]\n",
        "            grouped = data_event_based.groupby(data_new['StatusCreatedDate'].dt.month)\n",
        "            results = grouped.sum()\n",
        "            print(results)\n",
        "            # trying to plot a bar graph if possible\n",
        "            # since if data is null then index error will show up\n",
        "            try:\n",
        "                results.plot(kind='bar')\n",
        "                plt.xlabel('Month')\n",
        "                plt.ylabel('Bookings')\n",
        "                # need to fix position later #todo\n",
        "                plt.text(-2, -.7, 'Start date of event: ' + str(limiting_date_max) + '\\n'\n",
        "                         + 'Booking commencement date: ' + str(limiting_date_max))\n",
        "                plt.show()\n",
        "            except IndexError:\n",
        "                results.plot(kind='line')\n",
        "                plt.xlabel('Month')\n",
        "                plt.ylabel('Bookings')\n",
        "                plt.text(-2, -.7, 'Start date of event: ' + str(limiting_date_max) + '\\n'\n",
        "                         + 'Booking commencement date: ' + str(limiting_date_max))\n",
        "                plt.show()\n",
        "\n",
        "\n",
        "def search_by_event_type(event_type_choice):\n",
        "    values_event_type = data_new['EventType'].unique()\n",
        "    for i in values_event_type:\n",
        "        if i == event_type_choice:\n",
        "            dataframe2021 = data_new[data_new.year == 2021][['EventType', 'month', 'GroupSize']]\n",
        "            data_event_based = dataframe2021[dataframe2021.EventType == i][['GroupSize']]\n",
        "            grouped1 = data_event_based.groupby(data['month'])\n",
        "            dataframe2022 = data_new[data_new.year == 2022][['EventType', 'month', 'GroupSize']]\n",
        "            data_event_based2 = dataframe2022[dataframe2022.EventType == i][['GroupSize']]\n",
        "            grouped2 = data_event_based2.groupby(data['month'])\n",
        "            results1 = grouped1.sum()\n",
        "            results2 = grouped2.sum()\n",
        "            print(i)\n",
        "            print(results1)\n",
        "            print(results2)\n",
        "            try:\n",
        "                results1.plot(kind='bar')\n",
        "                results2.plot(kind='bar')\n",
        "                plt.xlabel('Month')\n",
        "                plt.ylabel('Bookings')\n",
        "                plt.show()\n",
        "            except IndexError:\n",
        "                results1.plot(kind='line')\n",
        "                results2.plot(kind='line')\n",
        "                plt.xlabel('Month')\n",
        "                plt.ylabel('Bookings')\n",
        "                plt.show()\n",
        "\n",
        "\n",
        "# choice 1 means event Name based analysis is given\n",
        "choice = int(input('please enter your search method: '))\n",
        "if choice == 1:\n",
        "    eventNameChoice = input(\"Please enter the preferred Event Name\")\n",
        "    search_by_event_name(eventNameChoice)\n",
        "\n",
        "# choice 2 gives event type based analysis showing performance throughout the year.\n",
        "elif choice == 2:\n",
        "    eventTypeChoice = input(\"Please enter your preferred event type\")\n",
        "    search_by_event_type(eventTypeChoice)\n"
      ],
      "metadata": {
        "colab": {
          "base_uri": "https://localhost:8080/",
          "height": 1000
        },
        "id": "saA4mnY6jsa8",
        "outputId": "dd449d8d-02a2-430a-f24c-258f8c89ab21"
      },
      "execution_count": null,
      "outputs": [
        {
          "output_type": "stream",
          "name": "stdout",
          "text": [
            "please enter your search method: 2\n",
            "Please enter your preferred event typeSeminar\n",
            "Seminar\n",
            "       GroupSize\n",
            "month           \n",
            "1            161\n",
            "2            132\n",
            "3            259\n",
            "4            266\n",
            "5            101\n",
            "6            335\n",
            "7            490\n",
            "8            575\n",
            "9            877\n",
            "10          4385\n",
            "11          4944\n",
            "12          1847\n",
            "       GroupSize\n",
            "month           \n",
            "1           3495\n",
            "2           2408\n",
            "3           3753\n",
            "4           1359\n",
            "5           3080\n",
            "6           2605\n",
            "7           1178\n",
            "8            723\n",
            "9           1397\n",
            "10           958\n",
            "11           830\n",
            "12           477\n"
          ]
        },
        {
          "output_type": "display_data",
          "data": {
            "text/plain": [
              "<Figure size 640x480 with 1 Axes>"
            ],
            "image/png": "[encoded data removed]"
          },
          "metadata": {}
        },
        {
          "output_type": "display_data",
          "data": {
            "text/plain": [
              "<Figure size 640x480 with 1 Axes>"
            ],
            "image/png": "[encoded data removed]"
          },
          "metadata": {}
        }
      ]
    },
    {
      "cell_type": "code",
      "source": [
        "import seaborn as sns\n",
        "df_1 = data_new.copy()\n",
        "corr = df_1.corr()\n",
        "fig = sns.heatmap(corr)\n",
        "plt.show()\n",
        "print(df_1.columns)\n"
      ],
      "metadata": {
        "colab": {
          "base_uri": "https://localhost:8080/",
          "height": 642
        },
        "id": "baGMNW3BIIQk",
        "outputId": "a4ccb46a-ea79-4e07-8185-494d75c5c502"
      },
      "execution_count": null,
      "outputs": [
        {
          "output_type": "display_data",
          "data": {
            "text/plain": [
              "<Figure size 640x480 with 2 Axes>"
            ],
            "image/png": "[encoded data removed]"
          },
          "metadata": {}
        },
        {
          "output_type": "stream",
          "name": "stdout",
          "text": [
            "Index(['EventName', 'StartDate', 'EventType', 'BookingReference',\n",
            "       'AttendeeReference', 'GroupSize', 'IsLeadAttendee', 'AttendeeGrossCost',\n",
            "       'EventId', 'BookingStatus', 'AttendeeType', 'TicketType',\n",
            "       'StatusCreatedDate', 'ClientId', 'year', 'month'],\n",
            "      dtype='object')\n"
          ]
        }
      ]
    },
    {
      "cell_type": "markdown",
      "source": [
        "**PREDICTION**"
      ],
      "metadata": {
        "id": "UFEnOk8biM_M"
      }
    },
    {
      "cell_type": "code",
      "source": [
        "import pandas as pd\n",
        "import xgboost as xgb\n",
        "from sklearn.model_selection import train_test_split\n",
        "from sklearn import preprocessing\n",
        "import numpy as np\n",
        "import matplotlib.pyplot as plt\n",
        "from sklearn.metrics import mean_squared_error\n",
        "import os\n",
        "\n",
        "# Define a function to create time series features based on the time series index\n",
        "def create_features(df_prediction):\n",
        "    dfs_new = df_prediction.copy()\n",
        "    # Extract hour, day of week, quarter, month, year, day of year, day of month, and week of year from the index\n",
        "    dfs_new['hour'] = dfs_new.index.hour\n",
        "    dfs_new['dayofweek'] = dfs_new.index.dayofweek\n",
        "    dfs_new['quarter'] = dfs_new.index.quarter\n",
        "    dfs_new['month'] = dfs_new.index.month\n",
        "    dfs_new['year'] = dfs_new.index.year\n",
        "    dfs_new['dayofyear'] = dfs_new.index.dayofyear\n",
        "    dfs_new['dayofmonth'] = dfs_new.index.day\n",
        "    dfs_new['weekofyear'] = dfs_new.index.isocalendar().week\n",
        "    return dfs_new\n",
        "\n",
        "def event_type(df_2):\n",
        "    # Load the input data, set the index to 'StatusCreatedDate', and resample by week\n",
        "    df_prediction = df_2.set_index('StatusCreatedDate')\n",
        "    df_prediction = df_prediction.resample('w').sum()\n",
        "\n",
        "    # Create time series features on the resampled dataframe\n",
        "    dfs = create_features(df_prediction)\n",
        "\n",
        "    # Split the data into training and testing sets\n",
        "    train, test = train_test_split(dfs, test_size=.3, shuffle=False)\n",
        "\n",
        "    # Create separate feature and target dataframes for the training and testing sets\n",
        "    features = ['EventType', 'days_to_event', 'BookingStatus', 'dayofyear', 'hour', 'dayofweek', 'quarter', 'month', 'year']\n",
        "    target = 'GroupSize'\n",
        "    x_train = train[features]\n",
        "    y_train = train[target]\n",
        "    x_test = test[features]\n",
        "    y_test = test[target]\n",
        "\n",
        "    # Initialize the XGBoost regressor with some parameters and fit it to the training data\n",
        "    reg = xgb.XGBRegressor(base_score=0.5, booster='gbtree', n_estimators=1000, early_stopping_rounds=50, objective='reg:linear', max_depth=3, learning_rate=0.01)\n",
        "    reg.fit(x_train, y_train, eval_set=[(x_train, y_train), (x_test, y_test)], verbose=100)\n",
        "\n",
        "    # Plot the feature importances of the trained model\n",
        "    fi = pd.DataFrame(data=reg.feature_importances_, index=reg.get_booster().feature_names, columns=['importance'])\n",
        "    fi.sort_values('importance').plot(kind='barh', title='Feature Importance')\n",
        "    plt.show()\n",
        "\n",
        "    # Generate predictions for the test set and plot the raw data and predictions\n",
        "    test['prediction'] = reg.predict(x_test)\n",
        "    dfs = dfs.merge(test[['prediction']], how='left', left_index=True, right_index=True)\n",
        "    ax = dfs[['GroupSize']].plot(figsize=(15, 5))\n",
        "    test['prediction'].plot(legend=True)\n",
        "    plt.legend(['Truth Data', 'Predictions'])\n",
        "    ax.set_title('Raw Data and Prediction')\n",
        "    plt.show()\n",
        "    os.remove(\"new.csv\")\n",
        "\n",
        "# Make a copy of the dataframe\n",
        "df2 = df.copy()\n",
        "uni_eve = df2['EventType'].unique()\n",
        "# Use label encoding to convert categorical columns to numerical values\n",
        "unique_cols = ['BookingStatus', 'EventType']\n",
        "encode = preprocessing.LabelEncoder()\n",
        "for i in unique_cols:\n",
        "    df2[i] = encode.fit_transform(df2[i])\n",
        "\n",
        "# Create a new column for the number of days between 'StatusCreatedDate' and 'StartDate'\n",
        "df2['time_to_event'] = pd.DatetimeIndex(df['StartDate']) - pd.DatetimeIndex(df['StatusCreatedDate'])\n",
        "df2['days_to_event'] = df2['time_to_event'] / np.timedelta64(1, 'D')\n",
        "\n",
        "# Sort the dataframe by 'StatusCreatedDate'\n",
        "df2 = df2.sort_values(by='StatusCreatedDate')\n",
        "\n",
        "# Set the index of the dataframe to 'StatusCreatedDate'\n",
        "df2.set_index('StatusCreatedDate', inplace=True)\n",
        "\n",
        "# Convert the index to datetime format\n",
        "df2['StatusCreatedDate'] = pd.to_datetime(df2.index, dayfirst=True)\n",
        "\n",
        "# Create a new column that shows the cumulative sum of 'GroupSize'\n",
        "df2['cum_booking'] = df2['GroupSize'].cumsum(axis=0)\n",
        "\n",
        "eve_list = []\n",
        "for i in uni_eve:\n",
        "    eve_list.append(i)\n",
        "eve_list.pop(2)\n",
        "eve_list.sort()\n",
        "for i in range(len(eve_list)):\n",
        "    print(f\"{i} : {eve_list[i]}\")\n",
        "choice = input(\"Please enter your event type from options\")\n",
        "for i in range(len(eve_list)):\n",
        "    if eve_list[i] == str(choice):\n",
        "        choice = i\n",
        "        print(i)\n",
        "        break\n",
        "values = df2['EventType'].unique()\n",
        "for i in values:\n",
        "    if i == choice:\n",
        "        df_2_new = df2.drop(df2[df2['EventType'] != i].index)\n",
        "        df_2_new.to_csv('new.csv', index=False)\n",
        "        event_type(df_2_new)\n"
      ],
      "metadata": {
        "colab": {
          "base_uri": "https://localhost:8080/",
          "height": 1000
        },
        "id": "MXg6afm3TMHv",
        "outputId": "ceb5eb66-3282-4468-93e7-afd73d0bdcb9"
      },
      "execution_count": null,
      "outputs": [
        {
          "output_type": "stream",
          "name": "stdout",
          "text": [
            "0 : Colloquium \n",
            "1 : Exhibition\n",
            "2 : Graduation Ceremony\n",
            "3 : Lecture\n",
            "4 : Lunchtime Lecture\n",
            "5 : Other Events\n",
            "6 : Reading Group\n",
            "7 : Research Training\n",
            "8 : Seminar\n",
            "9 : Short Course\n",
            "10 : Summer School\n",
            "11 : Workshop\n",
            "Please enter your event type from optionsSeminar\n",
            "8\n",
            "[21:10:08] WARNING: ../src/objective/regression_obj.cu:213: reg:linear is now deprecated in favor of reg:squarederror.\n",
            "[0]\tvalidation_0-rmse:119.55933\tvalidation_1-rmse:24.23688\n",
            "[100]\tvalidation_0-rmse:60.82240\tvalidation_1-rmse:9.62045\n",
            "[200]\tvalidation_0-rmse:34.00558\tvalidation_1-rmse:3.93491\n",
            "[300]\tvalidation_0-rmse:19.83287\tvalidation_1-rmse:1.98829\n",
            "[400]\tvalidation_0-rmse:11.79366\tvalidation_1-rmse:1.30701\n",
            "[500]\tvalidation_0-rmse:7.07873\tvalidation_1-rmse:1.08371\n",
            "[600]\tvalidation_0-rmse:4.27326\tvalidation_1-rmse:1.02767\n",
            "[700]\tvalidation_0-rmse:2.58477\tvalidation_1-rmse:1.01074\n",
            "[800]\tvalidation_0-rmse:1.56479\tvalidation_1-rmse:1.00438\n",
            "[900]\tvalidation_0-rmse:0.94752\tvalidation_1-rmse:1.00207\n",
            "[999]\tvalidation_0-rmse:0.57669\tvalidation_1-rmse:1.00107\n"
          ]
        },
        {
          "output_type": "display_data",
          "data": {
            "text/plain": [
              "<Figure size 640x480 with 1 Axes>"
            ],
            "image/png": "[encoded data removed]"
          },
          "metadata": {}
        },
        {
          "output_type": "display_data",
          "data": {
            "text/plain": [
              "<Figure size 1500x500 with 1 Axes>"
            ],
            "image/png": "[encoded data removed]"
          },
          "metadata": {}
        }
      ]
    },
    {
      "cell_type": "code",
      "source": [],
      "metadata": {
        "id": "iQgY1Sa5ZWRm"
      },
      "execution_count": null,
      "outputs": []
    }
  ]
}